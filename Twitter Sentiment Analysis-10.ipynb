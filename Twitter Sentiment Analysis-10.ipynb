{
 "cells": [
  {
   "cell_type": "code",
   "execution_count": 1,
   "metadata": {},
   "outputs": [],
   "source": [
    "#!pip install tweet-preprocessor"
   ]
  },
  {
   "cell_type": "code",
   "execution_count": 2,
   "metadata": {},
   "outputs": [],
   "source": [
    "#!pip install --upgrade pip"
   ]
  },
  {
   "cell_type": "code",
   "execution_count": 3,
   "metadata": {},
   "outputs": [],
   "source": [
    "#!pip install preprocessor"
   ]
  },
  {
   "cell_type": "code",
   "execution_count": 4,
   "metadata": {},
   "outputs": [],
   "source": [
    "#!pip install -i https://pypi.anaconda.org/berber/simple tweet-preprocessor"
   ]
  },
  {
   "cell_type": "code",
   "execution_count": 5,
   "metadata": {},
   "outputs": [],
   "source": [
    "#import required libraries\n",
    "import pandas as pd\n",
    "import numpy as np\n",
    "import re\n",
    "from sklearn.model_selection import train_test_split\n",
    "from sklearn.feature_extraction.text import CountVectorizer\n",
    "from sklearn import svm\n",
    "from sklearn.metrics import accuracy_score"
   ]
  },
  {
   "cell_type": "code",
   "execution_count": 6,
   "metadata": {},
   "outputs": [],
   "source": [
    "import preprocessor as p"
   ]
  },
  {
   "cell_type": "code",
   "execution_count": 7,
   "metadata": {},
   "outputs": [],
   "source": [
    "#import data\n",
    "train = pd.read_csv('train_tweet.csv')\n",
    "test = pd.read_csv('test_tweet.csv')"
   ]
  },
  {
   "cell_type": "code",
   "execution_count": 8,
   "metadata": {},
   "outputs": [
    {
     "data": {
      "text/html": [
       "<div>\n",
       "<style scoped>\n",
       "    .dataframe tbody tr th:only-of-type {\n",
       "        vertical-align: middle;\n",
       "    }\n",
       "\n",
       "    .dataframe tbody tr th {\n",
       "        vertical-align: top;\n",
       "    }\n",
       "\n",
       "    .dataframe thead th {\n",
       "        text-align: right;\n",
       "    }\n",
       "</style>\n",
       "<table border=\"1\" class=\"dataframe\">\n",
       "  <thead>\n",
       "    <tr style=\"text-align: right;\">\n",
       "      <th></th>\n",
       "      <th>id</th>\n",
       "      <th>label</th>\n",
       "      <th>tweet</th>\n",
       "    </tr>\n",
       "  </thead>\n",
       "  <tbody>\n",
       "    <tr>\n",
       "      <th>0</th>\n",
       "      <td>1</td>\n",
       "      <td>0</td>\n",
       "      <td>@user when a father is dysfunctional and is s...</td>\n",
       "    </tr>\n",
       "    <tr>\n",
       "      <th>1</th>\n",
       "      <td>2</td>\n",
       "      <td>0</td>\n",
       "      <td>@user @user thanks for #lyft credit i can't us...</td>\n",
       "    </tr>\n",
       "    <tr>\n",
       "      <th>2</th>\n",
       "      <td>3</td>\n",
       "      <td>0</td>\n",
       "      <td>bihday your majesty</td>\n",
       "    </tr>\n",
       "    <tr>\n",
       "      <th>3</th>\n",
       "      <td>4</td>\n",
       "      <td>0</td>\n",
       "      <td>#model   i love u take with u all the time in ...</td>\n",
       "    </tr>\n",
       "    <tr>\n",
       "      <th>4</th>\n",
       "      <td>5</td>\n",
       "      <td>0</td>\n",
       "      <td>factsguide: society now    #motivation</td>\n",
       "    </tr>\n",
       "    <tr>\n",
       "      <th>...</th>\n",
       "      <td>...</td>\n",
       "      <td>...</td>\n",
       "      <td>...</td>\n",
       "    </tr>\n",
       "    <tr>\n",
       "      <th>31957</th>\n",
       "      <td>31958</td>\n",
       "      <td>0</td>\n",
       "      <td>ate @user isz that youuu?ðððððð...</td>\n",
       "    </tr>\n",
       "    <tr>\n",
       "      <th>31958</th>\n",
       "      <td>31959</td>\n",
       "      <td>0</td>\n",
       "      <td>to see nina turner on the airwaves trying to...</td>\n",
       "    </tr>\n",
       "    <tr>\n",
       "      <th>31959</th>\n",
       "      <td>31960</td>\n",
       "      <td>0</td>\n",
       "      <td>listening to sad songs on a monday morning otw...</td>\n",
       "    </tr>\n",
       "    <tr>\n",
       "      <th>31960</th>\n",
       "      <td>31961</td>\n",
       "      <td>1</td>\n",
       "      <td>@user #sikh #temple vandalised in in #calgary,...</td>\n",
       "    </tr>\n",
       "    <tr>\n",
       "      <th>31961</th>\n",
       "      <td>31962</td>\n",
       "      <td>0</td>\n",
       "      <td>thank you @user for you follow</td>\n",
       "    </tr>\n",
       "  </tbody>\n",
       "</table>\n",
       "<p>31962 rows × 3 columns</p>\n",
       "</div>"
      ],
      "text/plain": [
       "          id  label                                              tweet\n",
       "0          1      0   @user when a father is dysfunctional and is s...\n",
       "1          2      0  @user @user thanks for #lyft credit i can't us...\n",
       "2          3      0                                bihday your majesty\n",
       "3          4      0  #model   i love u take with u all the time in ...\n",
       "4          5      0             factsguide: society now    #motivation\n",
       "...      ...    ...                                                ...\n",
       "31957  31958      0  ate @user isz that youuu?ðððððð...\n",
       "31958  31959      0    to see nina turner on the airwaves trying to...\n",
       "31959  31960      0  listening to sad songs on a monday morning otw...\n",
       "31960  31961      1  @user #sikh #temple vandalised in in #calgary,...\n",
       "31961  31962      0                   thank you @user for you follow  \n",
       "\n",
       "[31962 rows x 3 columns]"
      ]
     },
     "execution_count": 8,
     "metadata": {},
     "output_type": "execute_result"
    }
   ],
   "source": [
    "#eda\n",
    "train"
   ]
  },
  {
   "cell_type": "code",
   "execution_count": 9,
   "metadata": {
    "scrolled": true
   },
   "outputs": [
    {
     "data": {
      "text/html": [
       "<div>\n",
       "<style scoped>\n",
       "    .dataframe tbody tr th:only-of-type {\n",
       "        vertical-align: middle;\n",
       "    }\n",
       "\n",
       "    .dataframe tbody tr th {\n",
       "        vertical-align: top;\n",
       "    }\n",
       "\n",
       "    .dataframe thead th {\n",
       "        text-align: right;\n",
       "    }\n",
       "</style>\n",
       "<table border=\"1\" class=\"dataframe\">\n",
       "  <thead>\n",
       "    <tr style=\"text-align: right;\">\n",
       "      <th></th>\n",
       "      <th>id</th>\n",
       "      <th>tweet</th>\n",
       "    </tr>\n",
       "  </thead>\n",
       "  <tbody>\n",
       "    <tr>\n",
       "      <th>0</th>\n",
       "      <td>31963</td>\n",
       "      <td>#studiolife #aislife #requires #passion #dedic...</td>\n",
       "    </tr>\n",
       "    <tr>\n",
       "      <th>1</th>\n",
       "      <td>31964</td>\n",
       "      <td>@user #white #supremacists want everyone to s...</td>\n",
       "    </tr>\n",
       "    <tr>\n",
       "      <th>2</th>\n",
       "      <td>31965</td>\n",
       "      <td>safe ways to heal your #acne!!    #altwaystohe...</td>\n",
       "    </tr>\n",
       "    <tr>\n",
       "      <th>3</th>\n",
       "      <td>31966</td>\n",
       "      <td>is the hp and the cursed child book up for res...</td>\n",
       "    </tr>\n",
       "    <tr>\n",
       "      <th>4</th>\n",
       "      <td>31967</td>\n",
       "      <td>3rd #bihday to my amazing, hilarious #nephew...</td>\n",
       "    </tr>\n",
       "    <tr>\n",
       "      <th>...</th>\n",
       "      <td>...</td>\n",
       "      <td>...</td>\n",
       "    </tr>\n",
       "    <tr>\n",
       "      <th>17192</th>\n",
       "      <td>49155</td>\n",
       "      <td>thought factory: left-right polarisation! #tru...</td>\n",
       "    </tr>\n",
       "    <tr>\n",
       "      <th>17193</th>\n",
       "      <td>49156</td>\n",
       "      <td>feeling like a mermaid ð #hairflip #neverre...</td>\n",
       "    </tr>\n",
       "    <tr>\n",
       "      <th>17194</th>\n",
       "      <td>49157</td>\n",
       "      <td>#hillary #campaigned today in #ohio((omg)) &amp;am...</td>\n",
       "    </tr>\n",
       "    <tr>\n",
       "      <th>17195</th>\n",
       "      <td>49158</td>\n",
       "      <td>happy, at work conference: right mindset leads...</td>\n",
       "    </tr>\n",
       "    <tr>\n",
       "      <th>17196</th>\n",
       "      <td>49159</td>\n",
       "      <td>my   song \"so glad\" free download!  #shoegaze ...</td>\n",
       "    </tr>\n",
       "  </tbody>\n",
       "</table>\n",
       "<p>17197 rows × 2 columns</p>\n",
       "</div>"
      ],
      "text/plain": [
       "          id                                              tweet\n",
       "0      31963  #studiolife #aislife #requires #passion #dedic...\n",
       "1      31964   @user #white #supremacists want everyone to s...\n",
       "2      31965  safe ways to heal your #acne!!    #altwaystohe...\n",
       "3      31966  is the hp and the cursed child book up for res...\n",
       "4      31967    3rd #bihday to my amazing, hilarious #nephew...\n",
       "...      ...                                                ...\n",
       "17192  49155  thought factory: left-right polarisation! #tru...\n",
       "17193  49156  feeling like a mermaid ð #hairflip #neverre...\n",
       "17194  49157  #hillary #campaigned today in #ohio((omg)) &am...\n",
       "17195  49158  happy, at work conference: right mindset leads...\n",
       "17196  49159  my   song \"so glad\" free download!  #shoegaze ...\n",
       "\n",
       "[17197 rows x 2 columns]"
      ]
     },
     "execution_count": 9,
     "metadata": {},
     "output_type": "execute_result"
    }
   ],
   "source": [
    "test"
   ]
  },
  {
   "cell_type": "code",
   "execution_count": 10,
   "metadata": {},
   "outputs": [
    {
     "name": "stdout",
     "output_type": "stream",
     "text": [
      "The number of tweets that are not racist/sexist :  29720\n",
      "The number of tweets that are racist/sexist :  2242\n"
     ]
    }
   ],
   "source": [
    "#racist/sexist tweets in train\n",
    "print('The number of tweets that are not racist/sexist : ', sum(train.label == 0))\n",
    "print('The number of tweets that are racist/sexist : ', sum(train.label == 1))"
   ]
  },
  {
   "cell_type": "code",
   "execution_count": 11,
   "metadata": {},
   "outputs": [
    {
     "data": {
      "text/plain": [
       "id       0\n",
       "label    0\n",
       "tweet    0\n",
       "dtype: int64"
      ]
     },
     "execution_count": 11,
     "metadata": {},
     "output_type": "execute_result"
    }
   ],
   "source": [
    "#null values?\n",
    "train.isna().sum()"
   ]
  },
  {
   "cell_type": "code",
   "execution_count": 12,
   "metadata": {},
   "outputs": [],
   "source": [
    "#data cleaning\n",
    "#set up special charecters/punctuations we want to be replaced using regular expression\n",
    "re_without_space = re.compile(\"(\\.)|(\\,)|(\\{)|(\\})|(\\()|(\\))|(\\[)|(\\])|(\\;)|(\\:)|(\\!)|(\\`)|(\\')|(\\\")|(\\%)|(\\$)|(\\<)|(\\>)|(\\?)|(\\|)|\")\n",
    "re_with_space = re.compile(\"(<br\\s/><br\\s/?)|(-)|(/)|(:).\")"
   ]
  },
  {
   "cell_type": "code",
   "execution_count": 13,
   "metadata": {},
   "outputs": [],
   "source": [
    "#defining a function to clean the dataset using tweet preprocessor and re\n",
    "def cleantweet(tweet):\n",
    "        temp = p.clean(tweet)\n",
    "        temp = re_without_space.sub('', temp.lower())\n",
    "        temp = re_with_space.sub(' ', temp)\n",
    "        return temp\n",
    "        "
   ]
  },
  {
   "cell_type": "code",
   "execution_count": 14,
   "metadata": {},
   "outputs": [],
   "source": [
    "#cleaning the train and test datasets\n",
    "train['clean'] = train['tweet'].apply(cleantweet)\n",
    "test['clean'] = test['tweet'].apply(cleantweet)"
   ]
  },
  {
   "cell_type": "code",
   "execution_count": 15,
   "metadata": {},
   "outputs": [
    {
     "data": {
      "text/html": [
       "<div>\n",
       "<style scoped>\n",
       "    .dataframe tbody tr th:only-of-type {\n",
       "        vertical-align: middle;\n",
       "    }\n",
       "\n",
       "    .dataframe tbody tr th {\n",
       "        vertical-align: top;\n",
       "    }\n",
       "\n",
       "    .dataframe thead th {\n",
       "        text-align: right;\n",
       "    }\n",
       "</style>\n",
       "<table border=\"1\" class=\"dataframe\">\n",
       "  <thead>\n",
       "    <tr style=\"text-align: right;\">\n",
       "      <th></th>\n",
       "      <th>id</th>\n",
       "      <th>label</th>\n",
       "      <th>tweet</th>\n",
       "      <th>clean</th>\n",
       "    </tr>\n",
       "  </thead>\n",
       "  <tbody>\n",
       "    <tr>\n",
       "      <th>0</th>\n",
       "      <td>1</td>\n",
       "      <td>0</td>\n",
       "      <td>@user when a father is dysfunctional and is s...</td>\n",
       "      <td>when a father is dysfunctional and is so selfi...</td>\n",
       "    </tr>\n",
       "    <tr>\n",
       "      <th>1</th>\n",
       "      <td>2</td>\n",
       "      <td>0</td>\n",
       "      <td>@user @user thanks for #lyft credit i can't us...</td>\n",
       "      <td>thanks for credit i cant use cause they dont o...</td>\n",
       "    </tr>\n",
       "    <tr>\n",
       "      <th>2</th>\n",
       "      <td>3</td>\n",
       "      <td>0</td>\n",
       "      <td>bihday your majesty</td>\n",
       "      <td>bihday your majesty</td>\n",
       "    </tr>\n",
       "    <tr>\n",
       "      <th>3</th>\n",
       "      <td>4</td>\n",
       "      <td>0</td>\n",
       "      <td>#model   i love u take with u all the time in ...</td>\n",
       "      <td>i love u take with u all the time in ur</td>\n",
       "    </tr>\n",
       "    <tr>\n",
       "      <th>4</th>\n",
       "      <td>5</td>\n",
       "      <td>0</td>\n",
       "      <td>factsguide: society now    #motivation</td>\n",
       "      <td>factsguide society now</td>\n",
       "    </tr>\n",
       "    <tr>\n",
       "      <th>...</th>\n",
       "      <td>...</td>\n",
       "      <td>...</td>\n",
       "      <td>...</td>\n",
       "      <td>...</td>\n",
       "    </tr>\n",
       "    <tr>\n",
       "      <th>31957</th>\n",
       "      <td>31958</td>\n",
       "      <td>0</td>\n",
       "      <td>ate @user isz that youuu?ðððððð...</td>\n",
       "      <td>ate isz that youuu</td>\n",
       "    </tr>\n",
       "    <tr>\n",
       "      <th>31958</th>\n",
       "      <td>31959</td>\n",
       "      <td>0</td>\n",
       "      <td>to see nina turner on the airwaves trying to...</td>\n",
       "      <td>to see nina turner on the airwaves trying to w...</td>\n",
       "    </tr>\n",
       "    <tr>\n",
       "      <th>31959</th>\n",
       "      <td>31960</td>\n",
       "      <td>0</td>\n",
       "      <td>listening to sad songs on a monday morning otw...</td>\n",
       "      <td>listening to sad songs on a monday morning otw...</td>\n",
       "    </tr>\n",
       "    <tr>\n",
       "      <th>31960</th>\n",
       "      <td>31961</td>\n",
       "      <td>1</td>\n",
       "      <td>@user #sikh #temple vandalised in in #calgary,...</td>\n",
       "      <td>vandalised in in  condemns act</td>\n",
       "    </tr>\n",
       "    <tr>\n",
       "      <th>31961</th>\n",
       "      <td>31962</td>\n",
       "      <td>0</td>\n",
       "      <td>thank you @user for you follow</td>\n",
       "      <td>thank you for you follow</td>\n",
       "    </tr>\n",
       "  </tbody>\n",
       "</table>\n",
       "<p>31962 rows × 4 columns</p>\n",
       "</div>"
      ],
      "text/plain": [
       "          id  label                                              tweet  \\\n",
       "0          1      0   @user when a father is dysfunctional and is s...   \n",
       "1          2      0  @user @user thanks for #lyft credit i can't us...   \n",
       "2          3      0                                bihday your majesty   \n",
       "3          4      0  #model   i love u take with u all the time in ...   \n",
       "4          5      0             factsguide: society now    #motivation   \n",
       "...      ...    ...                                                ...   \n",
       "31957  31958      0  ate @user isz that youuu?ðððððð...   \n",
       "31958  31959      0    to see nina turner on the airwaves trying to...   \n",
       "31959  31960      0  listening to sad songs on a monday morning otw...   \n",
       "31960  31961      1  @user #sikh #temple vandalised in in #calgary,...   \n",
       "31961  31962      0                   thank you @user for you follow     \n",
       "\n",
       "                                                   clean  \n",
       "0      when a father is dysfunctional and is so selfi...  \n",
       "1      thanks for credit i cant use cause they dont o...  \n",
       "2                                    bihday your majesty  \n",
       "3                i love u take with u all the time in ur  \n",
       "4                                 factsguide society now  \n",
       "...                                                  ...  \n",
       "31957                                 ate isz that youuu  \n",
       "31958  to see nina turner on the airwaves trying to w...  \n",
       "31959  listening to sad songs on a monday morning otw...  \n",
       "31960                     vandalised in in  condemns act  \n",
       "31961                           thank you for you follow  \n",
       "\n",
       "[31962 rows x 4 columns]"
      ]
     },
     "execution_count": 15,
     "metadata": {},
     "output_type": "execute_result"
    }
   ],
   "source": [
    "train"
   ]
  },
  {
   "cell_type": "code",
   "execution_count": 16,
   "metadata": {},
   "outputs": [],
   "source": [
    "label=train.pop('label')\n"
   ]
  },
  {
   "cell_type": "code",
   "execution_count": 17,
   "metadata": {},
   "outputs": [
    {
     "data": {
      "text/plain": [
       "0    0\n",
       "1    0\n",
       "2    0\n",
       "3    0\n",
       "4    0\n",
       "Name: label, dtype: int64"
      ]
     },
     "execution_count": 17,
     "metadata": {},
     "output_type": "execute_result"
    }
   ],
   "source": [
    "label.head()"
   ]
  },
  {
   "cell_type": "code",
   "execution_count": 18,
   "metadata": {},
   "outputs": [],
   "source": [
    "train_02=train.drop('tweet',axis=1)\n"
   ]
  },
  {
   "cell_type": "code",
   "execution_count": 19,
   "metadata": {},
   "outputs": [],
   "source": [
    "test_02 = test.drop('tweet',axis=1)"
   ]
  },
  {
   "cell_type": "code",
   "execution_count": 20,
   "metadata": {},
   "outputs": [
    {
     "data": {
      "text/html": [
       "<div>\n",
       "<style scoped>\n",
       "    .dataframe tbody tr th:only-of-type {\n",
       "        vertical-align: middle;\n",
       "    }\n",
       "\n",
       "    .dataframe tbody tr th {\n",
       "        vertical-align: top;\n",
       "    }\n",
       "\n",
       "    .dataframe thead th {\n",
       "        text-align: right;\n",
       "    }\n",
       "</style>\n",
       "<table border=\"1\" class=\"dataframe\">\n",
       "  <thead>\n",
       "    <tr style=\"text-align: right;\">\n",
       "      <th></th>\n",
       "      <th>id</th>\n",
       "      <th>clean</th>\n",
       "    </tr>\n",
       "  </thead>\n",
       "  <tbody>\n",
       "    <tr>\n",
       "      <th>0</th>\n",
       "      <td>31963</td>\n",
       "      <td>to find</td>\n",
       "    </tr>\n",
       "    <tr>\n",
       "      <th>1</th>\n",
       "      <td>31964</td>\n",
       "      <td>want everyone to see the new and heres why</td>\n",
       "    </tr>\n",
       "    <tr>\n",
       "      <th>2</th>\n",
       "      <td>31965</td>\n",
       "      <td>safe ways to heal your</td>\n",
       "    </tr>\n",
       "    <tr>\n",
       "      <th>3</th>\n",
       "      <td>31966</td>\n",
       "      <td>is the hp and the cursed child book up for res...</td>\n",
       "    </tr>\n",
       "    <tr>\n",
       "      <th>4</th>\n",
       "      <td>31967</td>\n",
       "      <td>rd to my amazing hilarious eli ahmir uncle dav...</td>\n",
       "    </tr>\n",
       "    <tr>\n",
       "      <th>...</th>\n",
       "      <td>...</td>\n",
       "      <td>...</td>\n",
       "    </tr>\n",
       "    <tr>\n",
       "      <th>17192</th>\n",
       "      <td>49155</td>\n",
       "      <td>thought factory left right polarisation &amp;gt3</td>\n",
       "    </tr>\n",
       "    <tr>\n",
       "      <th>17193</th>\n",
       "      <td>49156</td>\n",
       "      <td>feeling like a mermaid</td>\n",
       "    </tr>\n",
       "    <tr>\n",
       "      <th>17194</th>\n",
       "      <td>49157</td>\n",
       "      <td>today in omg &amp;amp used words like assets&amp;ampli...</td>\n",
       "    </tr>\n",
       "    <tr>\n",
       "      <th>17195</th>\n",
       "      <td>49158</td>\n",
       "      <td>happy at work conference right mindset leads t...</td>\n",
       "    </tr>\n",
       "    <tr>\n",
       "      <th>17196</th>\n",
       "      <td>49159</td>\n",
       "      <td>my song so glad free download</td>\n",
       "    </tr>\n",
       "  </tbody>\n",
       "</table>\n",
       "<p>17197 rows × 2 columns</p>\n",
       "</div>"
      ],
      "text/plain": [
       "          id                                              clean\n",
       "0      31963                                            to find\n",
       "1      31964         want everyone to see the new and heres why\n",
       "2      31965                           safe ways to heal your  \n",
       "3      31966  is the hp and the cursed child book up for res...\n",
       "4      31967  rd to my amazing hilarious eli ahmir uncle dav...\n",
       "...      ...                                                ...\n",
       "17192  49155       thought factory left right polarisation &gt3\n",
       "17193  49156                             feeling like a mermaid\n",
       "17194  49157  today in omg &amp used words like assets&ampli...\n",
       "17195  49158  happy at work conference right mindset leads t...\n",
       "17196  49159                      my song so glad free download\n",
       "\n",
       "[17197 rows x 2 columns]"
      ]
     },
     "execution_count": 20,
     "metadata": {},
     "output_type": "execute_result"
    }
   ],
   "source": [
    "test_02"
   ]
  },
  {
   "cell_type": "code",
   "execution_count": 21,
   "metadata": {},
   "outputs": [],
   "source": [
    "train_02=train_02.drop('id',axis=1)"
   ]
  },
  {
   "cell_type": "code",
   "execution_count": 22,
   "metadata": {},
   "outputs": [],
   "source": [
    "train_02.replace(\"[^a-zA-Z]\",\" \",regex=True,inplace=True)"
   ]
  },
  {
   "cell_type": "code",
   "execution_count": 23,
   "metadata": {},
   "outputs": [],
   "source": [
    "test_02=test_02.drop('id',axis=1)\n"
   ]
  },
  {
   "cell_type": "code",
   "execution_count": 24,
   "metadata": {},
   "outputs": [],
   "source": [
    "test_02.replace(\"[^a-zA-Z]\",\" \",regex=True,inplace=True)\n"
   ]
  },
  {
   "cell_type": "code",
   "execution_count": 25,
   "metadata": {},
   "outputs": [
    {
     "data": {
      "text/html": [
       "<div>\n",
       "<style scoped>\n",
       "    .dataframe tbody tr th:only-of-type {\n",
       "        vertical-align: middle;\n",
       "    }\n",
       "\n",
       "    .dataframe tbody tr th {\n",
       "        vertical-align: top;\n",
       "    }\n",
       "\n",
       "    .dataframe thead th {\n",
       "        text-align: right;\n",
       "    }\n",
       "</style>\n",
       "<table border=\"1\" class=\"dataframe\">\n",
       "  <thead>\n",
       "    <tr style=\"text-align: right;\">\n",
       "      <th></th>\n",
       "      <th>clean</th>\n",
       "    </tr>\n",
       "  </thead>\n",
       "  <tbody>\n",
       "    <tr>\n",
       "      <th>0</th>\n",
       "      <td>to find</td>\n",
       "    </tr>\n",
       "    <tr>\n",
       "      <th>1</th>\n",
       "      <td>want everyone to see the new and heres why</td>\n",
       "    </tr>\n",
       "    <tr>\n",
       "      <th>2</th>\n",
       "      <td>safe ways to heal your</td>\n",
       "    </tr>\n",
       "    <tr>\n",
       "      <th>3</th>\n",
       "      <td>is the hp and the cursed child book up for res...</td>\n",
       "    </tr>\n",
       "    <tr>\n",
       "      <th>4</th>\n",
       "      <td>rd to my amazing hilarious eli ahmir uncle dav...</td>\n",
       "    </tr>\n",
       "    <tr>\n",
       "      <th>...</th>\n",
       "      <td>...</td>\n",
       "    </tr>\n",
       "    <tr>\n",
       "      <th>17192</th>\n",
       "      <td>thought factory left right polarisation  gt</td>\n",
       "    </tr>\n",
       "    <tr>\n",
       "      <th>17193</th>\n",
       "      <td>feeling like a mermaid</td>\n",
       "    </tr>\n",
       "    <tr>\n",
       "      <th>17194</th>\n",
       "      <td>today in omg  amp used words like assets ampli...</td>\n",
       "    </tr>\n",
       "    <tr>\n",
       "      <th>17195</th>\n",
       "      <td>happy at work conference right mindset leads t...</td>\n",
       "    </tr>\n",
       "    <tr>\n",
       "      <th>17196</th>\n",
       "      <td>my song so glad free download</td>\n",
       "    </tr>\n",
       "  </tbody>\n",
       "</table>\n",
       "<p>17197 rows × 1 columns</p>\n",
       "</div>"
      ],
      "text/plain": [
       "                                                   clean\n",
       "0                                                to find\n",
       "1             want everyone to see the new and heres why\n",
       "2                               safe ways to heal your  \n",
       "3      is the hp and the cursed child book up for res...\n",
       "4      rd to my amazing hilarious eli ahmir uncle dav...\n",
       "...                                                  ...\n",
       "17192       thought factory left right polarisation  gt \n",
       "17193                             feeling like a mermaid\n",
       "17194  today in omg  amp used words like assets ampli...\n",
       "17195  happy at work conference right mindset leads t...\n",
       "17196                      my song so glad free download\n",
       "\n",
       "[17197 rows x 1 columns]"
      ]
     },
     "execution_count": 25,
     "metadata": {},
     "output_type": "execute_result"
    }
   ],
   "source": [
    "test_02"
   ]
  },
  {
   "cell_type": "code",
   "execution_count": 26,
   "metadata": {},
   "outputs": [],
   "source": [
    "id=test.pop('id')"
   ]
  },
  {
   "cell_type": "code",
   "execution_count": 27,
   "metadata": {},
   "outputs": [
    {
     "data": {
      "text/plain": [
       "(17197,)"
      ]
     },
     "execution_count": 27,
     "metadata": {},
     "output_type": "execute_result"
    }
   ],
   "source": [
    "id.shape\n"
   ]
  },
  {
   "cell_type": "code",
   "execution_count": 28,
   "metadata": {},
   "outputs": [],
   "source": [
    "#def combine():\n",
    "    \n",
    "    #combined=train_02.append(test_02)\n",
    "    #combined.reset_index(inplace=True)\n",
    "    #return combined\n",
    "    "
   ]
  },
  {
   "cell_type": "code",
   "execution_count": 29,
   "metadata": {},
   "outputs": [],
   "source": [
    "#combined=combine()"
   ]
  },
  {
   "cell_type": "code",
   "execution_count": 30,
   "metadata": {},
   "outputs": [],
   "source": [
    "#combined.shape\n",
    "#combined.drop('index',axis=1,inplace=True)"
   ]
  },
  {
   "cell_type": "code",
   "execution_count": 31,
   "metadata": {},
   "outputs": [],
   "source": [
    "#combined"
   ]
  },
  {
   "cell_type": "code",
   "execution_count": 32,
   "metadata": {},
   "outputs": [],
   "source": [
    "#train['clean'].head()"
   ]
  },
  {
   "cell_type": "code",
   "execution_count": 33,
   "metadata": {},
   "outputs": [],
   "source": [
    "#separating the train data set into inputs and targets\n",
    "#x = train['clean']\n",
    "#y = train['label']\n",
    "x=train_02['clean']\n",
    "y=label"
   ]
  },
  {
   "cell_type": "code",
   "execution_count": 34,
   "metadata": {},
   "outputs": [],
   "source": [
    "todo=test_02['clean']"
   ]
  },
  {
   "cell_type": "code",
   "execution_count": 35,
   "metadata": {},
   "outputs": [],
   "source": [
    "#combined.shape"
   ]
  },
  {
   "cell_type": "code",
   "execution_count": 36,
   "metadata": {},
   "outputs": [],
   "source": [
    "#vectorize tweets using countvectorize\n",
    "vectorizer = CountVectorizer(binary=True, stop_words = 'english',max_features = 15000)\n",
    "#creating vectormatrix \n",
    "x_vec = vectorizer.fit_transform(x)\n",
    "#vec=vectorizer.fit_transform(combined)"
   ]
  },
  {
   "cell_type": "code",
   "execution_count": 37,
   "metadata": {},
   "outputs": [],
   "source": [
    "#vec\n"
   ]
  },
  {
   "cell_type": "code",
   "execution_count": 38,
   "metadata": {},
   "outputs": [],
   "source": [
    "#x_vec"
   ]
  },
  {
   "cell_type": "code",
   "execution_count": null,
   "metadata": {},
   "outputs": [],
   "source": []
  },
  {
   "cell_type": "code",
   "execution_count": 39,
   "metadata": {},
   "outputs": [
    {
     "name": "stdout",
     "output_type": "stream",
     "text": [
      "['aa', 'aaa', 'aaberg', 'aap', 'aaron', 'ab', 'abandoned', 'abba', 'abbyybelle', 'abc', 'abe', 'abetting', 'ability', 'able', 'abo', 'aboion', 'abomination', 'abraham', 'abroad', 'abs', 'absence', 'absolute', 'absolutely', 'absolutes', 'abstract', 'absurd', 'abt', 'abu', 'abuja', 'abuse', 'abusive', 'ac', 'academy', 'acc', 'accent', 'accept', 'acceptable', 'acceptance', 'accepted', 'accepting', 'access', 'accessnetwork', 'accessories', 'accident', 'accidentally', 'accidents', 'accompany', 'accomplish', 'accomplished', 'according', 'accordingly', 'account', 'accountable', 'accounts', 'accusations', 'accuse', 'accused', 'ace', 'aces', 'ache', 'aches', 'achieve', 'achieved', 'achievement', 'achievements', 'aching', 'acknowledge', 'acknowledges', 'ackroyd', 'acoustic', 'acquainted', 'acquired', 'acres', 'act', 'acted', 'acting', 'action', 'actions', 'activate', 'active', 'activist', 'activists', 'activities', 'activity', 'actor', 'actors', 'actress', 'acts', 'actual', 'actually', 'acu', 'ad', 'adahzeh', 'adam', 'adapt', 'add', 'added', 'addicted', 'addiction', 'adding', 'addition', 'additional', 'address', 'addressing', 'adds', 'adele', 'adeles', 'adjustment', 'admin', 'administration', 'admire', 'admit', 'admitting', 'adn', 'adopted', 'adopting', 'adorable', 'adore', 'adores', 'adrenaline', 'adrienne', 'ads', 'adult', 'adults', 'advance', 'advanced', 'advantage', 'adve', 'adveise', 'adveised', 'adveising', 'adventure', 'adventures', 'adventurous', 'advice', 'advise', 'advises', 'advisors', 'advocate', 'advocates', 'aeon', 'af', 'affair', 'affairs', 'affect', 'affected', 'affective', 'affects', 'affliction', 'afford', 'affordable', 'afghan', 'afghans', 'afraid', 'africa', 'african', 'africans', 'aft', 'aftermath', 'afternoon', 'afterward', 'aftr', 'ag', 'againdamagers', 'age', 'aged', 'agencies', 'agency', 'agenda', 'agent', 'ages', 'aggressive', 'aging', 'ago', 'agr', 'agree', 'agreed', 'agreement', 'agrees', 'ah', 'ahead', 'ahh', 'ahhh', 'ahhhh', 'ahhhhh', 'ahur', 'aicle', 'aicles', 'aid', 'aids', 'aiime', 'aim', 'aimed', 'aiming', 'aims', 'aint', 'air', 'aired', 'airlines', 'airpo', 'aist', 'aists', 'aka', 'akka', 'ako', 'akrotiri', 'al', 'alabama', 'aladdin', 'alarm', 'alarms', 'alas', 'alaska', 'albea', 'album', 'albums', 'alchemist', 'alcohol', 'aldub', 'ale', 'aleers', 'alex', 'alexmagic', 'alexs', 'alfie', 'ali', 'alice', 'alicia', 'alienate', 'aliens', 'alina', 'alisa', 'alison', 'alive', 'allah', 'allegations', 'alleged', 'allegiance', 'allen', 'allergic', 'allergy', 'alley', 'allies', 'alligator', 'alligators', 'allison', 'allow', 'allowed', 'allowing', 'allows', 'allstars', 'ally', 'almighty', 'aloha', 'alon', 'alongside', 'alot', 'alpha', 'alps', 'alright', 'alt', 'alternate', 'alternative', 'alternatively', 'alton', 'alum', 'alumni', 'alw', 'alwys', 'alyssa', 'amanda', 'amateur', 'amaze', 'amazed', 'amazing', 'amazingly', 'amazon', 'ambassador', 'amber', 'ambiance', 'ambition', 'ambre', 'ambrose', 'ameen', 'amen', 'amendment', 'amendments', 'america', 'american', 'americans', 'americas', 'amid', 'amjust', 'amodu', 'amounts', 'amp', 'ampa', 'ampaddie', 'ampavesask', 'ampbabymonrosale', 'ampblessed', 'ampchristmas', 'ampe', 'ampelfish', 'ampfamilies', 'ampfrustrated', 'ampmrs', 'ampms', 'ampnick', 'ampt', 'ampw', 'ampwhite', 'amrica', 'amsterdam', 'amused', 'amy', 'ana', 'anal', 'analysis', 'analytics', 'analyzing', 'anas', 'anc', 'anchor', 'anchored', 'ancient', 'andaelentari', 'anderson', 'andrea', 'andreas', 'andrew', 'android', 'andy', 'anf', 'anfield', 'angel', 'angela', 'angeles', 'angelic', 'angelou', 'angels', 'anger', 'angie', 'angry', 'angst', 'anguish', 'angus', 'animal', 'animaladvocate', 'animals', 'animated', 'animation', 'anime', 'aniston', 'ankara', 'anna', 'anne', 'anniversaries', 'anniversary', 'announce', 'announced', 'announcement', 'announcements', 'announcers', 'announces', 'annoy', 'annoyed', 'annoying', 'annual', 'anon', 'anonymous', 'answer', 'answered', 'answers', 'antagonizing', 'antaica', 'anthem', 'anthems', 'anthony', 'anti', 'anton', 'antonio', 'anxiety', 'anxious', 'anybody', 'anymore', 'anytime', 'anyways', 'anz', 'aol', 'ap', 'apa', 'apaheid', 'apament', 'apaments', 'apathetic', 'ape', 'apes', 'apocalypse', 'apocalyptic', 'apologies', 'apologize', 'apology', 'app', 'appalling', 'apparent', 'apparently', 'appeal', 'appealing', 'appear', 'appearance', 'appearances', 'appearing', 'appears', 'apple', 'apples', 'appletstag', 'application', 'applications', 'applied', 'applies', 'apply', 'applying', 'appointment', 'appreciate', 'appreciated', 'appreciates', 'appreciating', 'appreciation', 'approaches', 'approaching', 'appropriate', 'approve', 'approved', 'approves', 'approx', 'apps', 'appt', 'april', 'apt', 'aquarium', 'ar', 'arab', 'arabian', 'arabic', 'arc', 'archery', 'architecture', 'archives', 'area', 'areas', 'arena', 'arent', 'argentina', 'argh', 'argue', 'argued', 'argues', 'arguing', 'argument', 'ariana', 'ariellesloth', 'arkansas', 'arm', 'arms', 'army', 'arrangements', 'arrest', 'arrested', 'arresting', 'arrests', 'arrival', 'arrive', 'arrived', 'arrives', 'arriving', 'arsenal', 'aruba', 'asap', 'ascot', 'asf', 'ash', 'ashamed', 'ashiq', 'ashley', 'asia', 'asian', 'asians', 'aside', 'ask', 'asked', 'asking', 'asks', 'asleep', 'aso', 'aspect', 'aspiring', 'ass', 'assassinating', 'assault', 'assembly', 'asses', 'assess', 'assessment', 'assessments', 'assets', 'asshole', 'assholes', 'assignments', 'assistant', 'assistants', 'associates', 'association', 'assssss', 'assume', 'assumed', 'assuming', 'assumptions', 'assured', 'astonished', 'astounded', 'astros', 'aswad', 'asylum', 'ate', 'athena', 'athlete', 'athletes', 'athletics', 'atitudei', 'atlanta', 'atleast', 'atm', 'atmosphere', 'attack', 'attacked', 'attacking', 'attacks', 'attempt', 'attempted', 'attempts', 'attend', 'attendees', 'attending', 'attends', 'attention', 'attest', 'attic', 'attitude', 'attitudes', 'attorney', 'attorneys', 'attract', 'attracted', 'attraction', 'attractive', 'auction', 'aud', 'audience', 'audio', 'audit', 'audition', 'audrey', 'aug', 'august', 'aunt', 'auntie', 'aunty', 'aus', 'austin', 'australia', 'australian', 'author', 'authorities', 'autograph', 'automatic', 'autumn', 'available', 'ave', 'avengers', 'avenue', 'average', 'aversion', 'avg', 'avocado', 'avoid', 'avoids', 'aw', 'awaiting', 'awaits', 'awake', 'award', 'awarded', 'awards', 'aware', 'awasome', 'away', 'awesome', 'awesomeness', 'awful', 'awhile', 'awhilesame', 'awork', 'aww', 'awww', 'awwww', 'axis', 'aya', 'aye', 'ayer', 'ayesha', 'az', 'ba', 'baba', 'babe', 'babes', 'babies', 'baby', 'babygirl', 'babys', 'bachelorette', 'backed', 'backfired', 'background', 'backing', 'backlash', 'backpack', 'backs', 'backseat', 'backstage', 'backward', 'backwards', 'backyard', 'bacon', 'bad', 'badass', 'badge', 'badger', 'badges', 'badly', 'badminton', 'bae', 'baender', 'baes', 'baffled', 'bag', 'bagels', 'baggery', 'bags', 'bagyou', 'bah', 'bailed', 'bailey', 'baiting', 'bake', 'baked', 'baker', 'bakery', 'baking', 'balakrishna', 'balance', 'balanced', 'balancing', 'balayya', 'bald', 'bali', 'ball', 'balloon', 'balloons', 'ballroom', 'balls', 'balm', 'baltimore', 'ban', 'banana', 'banata', 'band', 'bandit', 'bands', 'bane', 'bang', 'bangkok', 'bank', 'bankai', 'banking', 'banks', 'banned', 'banner', 'bans', 'banter', 'banyak', 'baptist', 'bar', 'barack', 'barber', 'barbiets', 'barcelona', 'bare', 'barely', 'bargain', 'barkat', 'barkley', 'barn', 'barrack', 'barrel', 'barrier', 'barry', 'bars', 'base', 'baseball', 'based', 'basel', 'baseless', 'bash', 'bashed', 'bashing', 'basic', 'basically', 'basics', 'basis', 'basket', 'basketball', 'baskets', 'bass', 'basta', 'bastard', 'bastards', 'basti', 'bat', 'bates', 'bath', 'bathroom', 'bathtub', 'batman', 'bats', 'battery', 'battle', 'battlefield', 'battleground', 'battles', 'bay', 'baylor', 'bb', 'bbc', 'bbcworld', 'bbh', 'bbq', 'bc', 'bck', 'bcoz', 'bcuz', 'bd', 'bday', 'bdayspl', 'beach', 'beaming', 'bean', 'beans', 'bear', 'beard', 'bearers', 'bears', 'beast', 'beat', 'beaten', 'beating', 'beats', 'beatz', 'beau', 'beauregard', 'beaut', 'beauties', 'beautiful', 'beautifull', 'beautifully', 'beauty', 'beautys', 'beckett', 'bed', 'bedroom', 'bee', 'beef', 'beep', 'beer', 'beers', 'bees', 'befriending', 'beg', 'began', 'begging', 'begin', 'beginner', 'beginning', 'begins', 'begs', 'begun', 'beh', 'behalf', 'behaving', 'behavior', 'behaviour', 'bei', 'bein', 'beings', 'beirut', 'belated', 'belfast', 'belgian', 'belgium', 'belief', 'beliefs', 'believe', 'believed', 'believes', 'believing', 'belive', 'bell', 'belly', 'belong', 'belongs', 'beloved', 'beloy', 'belting', 'ben', 'bench', 'benefits', 'benidorm', 'bennett', 'bent', 'bentley', 'berlin', 'bernanke', 'bernard', 'bernice', 'bernie', 'bernies', 'berry', 'best', 'bestfriend', 'bestfriends', 'bestie', 'besties', 'bestseller', 'bet', 'beta', 'beth', 'bethesda', 'betray', 'betrayal', 'betrayed', 'betta', 'better', 'betv', 'beutiful', 'beware', 'bewitched', 'bf', 'bff', 'bffs', 'bfs', 'bhai', 'bhakt', 'bham', 'bhday', 'bi', 'bias', 'biased', 'biases', 'bible', 'biblical', 'bicycle', 'biden', 'bieber', 'bierce', 'big', 'bigger', 'biggest', 'bigly', 'bigot', 'bigotry', 'bih', 'bihay', 'bihday', 'bihdayameeshapatel', 'bihdayjodistamaria', 'bihdayjohnnydepp', 'bihdays', 'bihdaysbusy', 'bihdaysway', 'bihdaytome', 'bihdayy', 'bihdayyourmajesty', 'biher', 'bike', 'bikini', 'billion', 'bills', 'billy', 'bin', 'binds', 'bing', 'binge', 'bingo', 'binoculars', 'bio', 'biological', 'bird', 'birday', 'birds', 'birdsmovie', 'birmingham', 'bisa', 'bisexual', 'bistro', 'bit', 'bitch', 'bitches', 'bitching', 'bitchy', 'bitcoin', 'bitcoiners', 'bite', 'bites', 'bits', 'bitten', 'bitter', 'bittersweet', 'biz', 'bjp', 'bk', 'black', 'blackberries', 'blackhawks', 'blackmailed', 'blackmaverick', 'blacks', 'blackwood', 'blades', 'blading', 'blair', 'blake', 'blame', 'blamed', 'blames', 'blaming', 'blanca', 'blanche', 'blanket', 'blaske', 'blast', 'blatant', 'blatantly', 'bleed', 'bleeding', 'blending', 'bles', 'bless', 'blessed', 'blessing', 'blessings', 'blew', 'blicqer', 'blind', 'blink', 'bliss', 'blissful', 'blk', 'blm', 'block', 'blocked', 'blocking', 'blocks', 'blog', 'blogger', 'blogging', 'blonde', 'blood', 'bloodshed', 'bloodwhen', 'bloody', 'bloom', 'bloomed', 'blooms', 'blossom', 'blow', 'blowing', 'blowjob', 'blown', 'blows', 'blu', 'blue', 'blues', 'blunt', 'bluntly', 'blvd', 'bn', 'bnz', 'bo', 'board', 'boarding', 'boards', 'boasty', 'boat', 'boating', 'bob', 'bobby', 'bobo', 'bodies', 'bodrum', 'body', 'boe', 'bogumday', 'boheme', 'boi', 'boil', 'boise', 'boj', 'bold', 'bomb', 'bombed', 'bombing', 'bombs', 'bon', 'bond', 'bonding', 'bone', 'bones', 'bong', 'bonjour', 'bonkers', 'bonus', 'bonuses', 'boo', 'boob', 'boogie', 'book', 'booked', 'booking', 'bookings', 'books', 'bookstore', 'boom', 'boos', 'boost', 'booster', 'boot', 'booted', 'booths', 'boots', 'booty', 'bopanna', 'bordeaux', 'border', 'bore', 'bored', 'boring', 'born', 'boro', 'borrowed', 'bosom', 'boss', 'bosses', 'boston', 'bot', 'bother', 'bothered', 'bothering', 'bots', 'bottle', 'bottles', 'bought', 'bounce', 'bounces', 'bouncing', 'bound', 'boundaries', 'bourbon', 'bout', 'boutique', 'bow', 'bowl', 'bowling', 'bows', 'box', 'boxers', 'boxes', 'boxing', 'boy', 'boycott', 'boyfriend', 'boyfriends', 'boyle', 'boys', 'bozo', 'bracelet', 'bracelets', 'braces', 'braids', 'brain', 'brains', 'brainwashed', 'branch', 'branches', 'brand', 'branded', 'branding', 'brandon', 'brands', 'bratton', 'brave', 'bravo', 'brazil', 'brazilian', 'brb', 'bread', 'break', 'breakfast', 'breaking', 'breaks', 'breakthrough', 'breast', 'breasts', 'breath', 'breathe', 'breathing', 'breaths', 'breed', 'breeds', 'breeze', 'breitba', 'brew', 'brewery', 'brexit', 'brian', 'bribes', 'brick', 'bridal', 'bride', 'brides', 'bridesmaid', 'bridge', 'bridges', 'brief', 'briefing', 'brigade', 'bright', 'brighten', 'brightened', 'brighter', 'brighton', 'brilliant', 'bring', 'bringin', 'bringing', 'brings', 'brisbane', 'brisk', 'bristol', 'britain', 'brithday', 'british', 'brits', 'brittany', 'bro', 'broadband', 'broadcast', 'broader', 'broads', 'broadway', 'brochure', 'brock', 'broke', 'broken', 'brokers', 'bron', 'bronzes', 'brook', 'brooklyn', 'brooks', 'bros', 'brother', 'brothers', 'brought', 'brown', 'browning', 'browns', 'brows', 'bruce', 'bruh', 'brunch', 'brussels', 'brutal', 'brutality', 'bs', 'bst', 'bt', 'bto', 'bts', 'btw', 'bubble', 'bubbles', 'bubbly', 'bucket', 'bucks', 'bud', 'buddies', 'buddy', 'budget', 'buffalo', 'bug', 'bugger', 'build', 'builders', 'building', 'buildings', 'builds', 'built', 'buliding', 'bulk', 'bull', 'bullet', 'bullied', 'bullies', 'bullish', 'bulls', 'bullshit', 'bully', 'bullying', 'bum', 'bummed', 'bummer', 'bump', 'bums', 'bunch', 'bunnies', 'bunny', 'bunt', 'burger', 'burgers', 'buried', 'burn', 'burned', 'burning', 'burns', 'burnt', 'burr', 'burst', 'bury', 'bus', 'bush', 'business', 'businesses', 'bust', 'busted', 'busty', 'busy', 'butchers', 'butt', 'butter', 'butto', 'button', 'buttons', 'buy', 'buyer', 'buyers', 'buying', 'buzz', 'buzzing', 'bye', 'byron', 'ca', 'cab', 'cabbage', 'cabin', 'cabinet', 'cable', 'cad', 'caer', 'cafe', 'caffe', 'caffeine', 'cage', 'cairo', 'cake', 'cal', 'calendar', 'cali', 'calico', 'calif', 'california', 'called', 'calling', 'calls', 'calm', 'calories', 'cam', 'camden', 'came', 'camel', 'camera', 'cameron', 'camiilabeckeer', 'camo', 'camp', 'campaign', 'campaigning', 'campbell', 'camper', 'campers', 'camping', 'camps', 'campus', 'canada', 'canadian', 'canal', 'cancel', 'canceled', 'cancelled', 'cancer', 'cancun', 'candid', 'candidacy', 'candidate', 'candidates', 'candide', 'candy', 'cannon', 'canvas', 'caoon', 'cap', 'capable', 'capacity', 'cape', 'capital', 'capitalism', 'cappuccino', 'capsules', 'captain', 'captains', 'caption', 'captivity', 'capture', 'captured', 'capturing', 'caputo', 'car', 'card', 'cardiff', 'cardinal', 'cardinals', 'cards', 'cardstock', 'care', 'cared', 'career', 'careful', 'careless', 'cares', 'caribbean', 'caridge', 'caring', 'carl', 'carlos', 'carlton', 'carmineryderrr', 'carnage', 'carnival', 'carol', 'carolina', 'caroline', 'carpet', 'carries', 'carry', 'carrying', 'cars', 'carson', 'carving', 'cas', 'casa', 'case', 'cases', 'cash', 'cashier', 'casino', 'cassie', 'cast', 'casting', 'castle', 'casts', 'casual', 'cat', 'catalogue', 'catalyst', 'catapults', 'catch', 'catches', 'catching', 'catchup', 'categories', 'catering', 'cathedral', 'catholics', 'cathy', 'cats', 'caturday', 'caught', 'cause', 'caused', 'causes', 'causing', 'cautious', 'cave', 'cavett', 'cavs', 'cawdor', 'cbn', 'cbs', 'cc', 'cd', 'cds', 'ceain', 'ceainly', 'ceased', 'cece', 'cecily', 'ceification', 'ceified', 'ceiling', 'celeb', 'celebrains', 'celebrate', 'celebrated', 'celebrates', 'celebrating', 'celebration', 'celebrations', 'celebrities', 'celebrity', 'celebs', 'celie', 'cell', 'celtic', 'cemetery', 'censor', 'censored', 'censoring', 'censorship', 'center', 'centers', 'central', 'centre', 'centres', 'century', 'ceo', 'cereal', 'ceremony', 'cha', 'chain', 'chair', 'chairman', 'chairs', 'challenge', 'challenged', 'challenger', 'challenges', 'challenging', 'champ', 'champagne', 'champers', 'champion', 'champions', 'championship', 'championships', 'champs', 'chance', 'chancery', 'chances', 'chandragupta', 'change', 'changed', 'changes', 'changing', 'channel', 'channels', 'chansung', 'chant', 'chants', 'chaos', 'chaplin', 'chapter', 'character', 'characters', 'charge', 'charged', 'charges', 'charging', 'charity', 'charles', 'charlie', 'charlies', 'charlotte', 'charming', 'charms', 'chas', 'chase', 'chaser', 'chasing', 'chat', 'chats', 'chatting', 'cheap', 'cheaper', 'cheat', 'cheated', 'cheating', 'check', 'checked', 'checking', 'checkout', 'checkoutmyflyer', 'checkpoint', 'checks', 'cheek', 'cheeky', 'cheer', 'cheering', 'cheerleader', 'cheers', 'cheese', 'cheesiest', 'cheesy', 'chef', 'chefs', 'chelsea', 'chelski', 'chemistry', 'cherish', 'cherished', 'cherry', 'cherub', 'cheryl', 'cheshire', 'chesnay', 'chess', 'chessingrlton', 'chest', 'chesteon', 'chester', 'chew', 'chewie', 'chewing', 'chewits', 'chewyzoofun', 'cheyenne', 'chf', 'chi', 'chia', 'chiba', 'chic', 'chicago', 'chicagos', 'chicas', 'chick', 'chicken', 'chickens', 'chickies', 'chicks', 'chidi', 'chief', 'chiefwe', 'chihuahuas', 'child', 'childcare', 'childesh', 'childfree', 'childhood', 'childish', 'childless', 'childline', 'children', 'childrenniecesnephews', 'childrenour', 'childrens', 'childrensday', 'childs', 'childthe', 'chile', 'chilies', 'chilis', 'chill', 'chillax', 'chilled', 'chilli', 'chillicothe', 'chillin', 'chilling', 'chilllin', 'chilln', 'chills', 'chim', 'chimney', 'chin', 'china', 'chinas', 'chinatown', 'chinese', 'chingola', 'chingora', 'chinguas', 'chinmoy', 'chip', 'chipmunk', 'chipmunks', 'chipotle', 'chippewa', 'chippies', 'chipping', 'chippy', 'chips', 'chiropractics', 'chirped', 'chirping', 'chirpy', 'chisolm', 'chitty', 'chivalry', 'chixs', 'chizuru', 'chk', 'chlo', 'chloe', 'chloroform', 'choc', 'chocolate', 'chocolatters', 'choice', 'choices', 'choicesmaybe', 'choir', 'choke', 'choked', 'choker', 'chokes', 'choking', 'choling', 'chomsky', 'chong', 'choo', 'choos', 'choose', 'chooses', 'choosing', 'chopra', 'chops', 'chord', 'choreo', 'choreographie', 'chores', 'choro', 'chose', 'chosen', 'chrashesive', 'chris', 'chrishon', 'christ', 'christian', 'christiancera', 'christiani', 'christianity', 'christians', 'christie', 'christina', 'christinas', 'christmas', 'christmass', 'christmassy', 'christopher', 'christy', 'chroma', 'chromebook', 'chronic', 'chronically', 'chronological', 'chrysalis', 'chu', 'chuck', 'chuckie', 'chucking', 'chuckled', 'chuckles', 'chuffed', 'chukwu', 'chump', 'chumps', 'chun', 'church', 'churchand', 'churches', 'churchill', 'churchs', 'churrasco', 'chutty', 'chyna', 'ci', 'ciani', 'ciao', 'ciaoh', 'cider', 'cielo', 'cigarette', 'cigarettes', 'cigs', 'cimorelli', 'cincinnati', 'cinema', 'cinemablend', 'cinemas', 'cinemex', 'cinnamon', 'cipd', 'circa', 'circle', 'circles', 'circuit', 'circulating', 'circumstance', 'circumstances', 'circumvent', 'circus', 'ciroc', 'cisneros', 'citadel', 'citation', 'cite', 'citi', 'cities', 'citizen', 'citizens', 'citrus', 'city', 'citymy', 'cityplace', 'citys', 'civ', 'civic', 'civil', 'civilian', 'civilians', 'civilizations', 'cize', 'cj', 'ck', 'cker', 'cking', 'ckkosho', 'claas', 'cladding', 'claim', 'claimant', 'claimed', 'claiming', 'claims', 'claire', 'clama', 'clannad', 'clap', 'clapper', 'clapping', 'clara', 'clare', 'clarice', 'clarification', 'clarity', 'clark', 'clarke', 'clarys', 'clash', 'clashes', 'class', 'classes', 'classez', 'classic', 'classical', 'classics', 'classiest', 'classifieds', 'classifies', 'classifying', 'classless', 'classmate', 'classmatenew', 'classroom', 'classrooms', 'classworki', 'classy', 'clatter', 'claudi', 'claudia', 'clause', 'claw', 'claws', 'clay', 'clayton', 'cld', 'cle', 'clean', 'cleaned', 'cleaner', 'cleaning', 'cleanings', 'cleanse', 'cleansing', 'clear', 'cleared', 'clearly', 'clears', 'clearwater', 'cleary', 'cleavage', 'cleimxxx', 'clement', 'cleo', 'cleopatra', 'clev', 'cleveland', 'clevelands', 'clever', 'cliams', 'cliches', 'click', 'clicked', 'clicking', 'clicks', 'client', 'clientcompletely', 'clientele', 'clients', 'clientsalway', 'cliff', 'cliffhanger', 'clifford', 'clifton', 'climate', 'climb', 'climbed', 'climbing', 'clinch', 'clinches', 'cline', 'clings', 'clinique', 'clinton', 'clintons', 'clintonsmdhamerica', 'clio', 'clip', 'clips', 'cloaking', 'clock', 'cloe', 'clogs', 'clone', 'close', 'closed', 'closely', 'closemaybe', 'closer', 'closes', 'closest', 'closet', 'closeted', 'closing', 'closup', 'closures', 'clothes', 'clothing', 'cloths', 'cloud', 'clouds', 'cloudy', 'clough', 'clown', 'clowns', 'clpcreationsuk', 'clpleader', 'club', 'clubbers', 'clubnow', 'clubs', 'clue', 'cluedo', 'clueend', 'clueless', 'clues', 'clumsiness', 'clutch', 'clutches', 'clz', 'cm', 'cmas', 'cmon', 'cms', 'cnblue', 'cnet', 'cnn', 'cnt', 'cny', 'coacb', 'coach', 'coached', 'coachella', 'coaches', 'coaching', 'coal', 'coast', 'coastal', 'coaster', 'coat', 'coated', 'cob', 'cobb', 'cobbler', 'cobblers', 'coc', 'coca', 'cocaine', 'cocern', 'cock', 'cockatoo', 'cockfosters', 'cockroaches', 'cockroft', 'cocktail', 'cocktails', 'cockwomble', 'coco', 'cocoa', 'coconut', 'cod', 'code', 'codeine', 'codes', 'codeword', 'codified', 'coding', 'codown', 'cody', 'coffe', 'coffee', 'coffeeee', 'coffin', 'cognizant', 'coherently', 'cohiarin', 'coin', 'coincidentally', 'coins', 'coke', 'coked', 'cola', 'colajet', 'colbe', 'colca', 'cold', 'colder', 'coldfield', 'coldhungrysore', 'coldness', 'coldplay', 'coldplays', 'cole', 'colin', 'collab', 'collaborate', 'collage', 'collapses', 'collapsing', 'colleague', 'colleagues', 'collect', 'collected', 'collecting', 'collection', 'collective', 'collectors', 'college', 'cologne', 'colombia', 'colonialism', 'color', 'colorado', 'colored', 'colorful', 'colors', 'colour', 'colours', 'colts', 'columbia', 'com', 'combat', 'combination', 'combo', 'come', 'comeback', 'comedian', 'comedians', 'comedy', 'comes', 'comfo', 'comfoable', 'comfoably', 'comfy', 'comic', 'comics', 'comin', 'coming', 'commander', 'commence', 'comment', 'commentary', 'commentators', 'commented', 'commenting', 'comments', 'commentsi', 'commercial', 'commercials', 'commerzbank', 'commie', 'commit', 'commitment', 'commitments', 'commits', 'committed', 'committee', 'committing', 'common', 'commonwealth', 'communal', 'communalise', 'communicate', 'communism', 'communist', 'communities', 'community', 'commute', 'companies', 'company', 'companys', 'comparable', 'compare', 'compared', 'compassion', 'compensated', 'compensating', 'compete', 'competing', 'competition', 'compilation', 'complain', 'complained', 'complaining', 'complaint', 'complaints', 'complete', 'completed', 'completely', 'complex', 'compliant', 'complicated', 'complicit', 'compliments', 'composed', 'comprehend', 'comprehension', 'comprehensive', 'computer', 'computers', 'comrade', 'conce', 'concentrate', 'concept', 'concern', 'concerned', 'concerns', 'conces', 'conclusion', 'concur', 'condemn', 'condemned', 'condemning', 'condemns', 'condescension', 'condition', 'conditioning', 'conditions', 'condolence', 'condolences', 'condone', 'conduct', 'cone', 'conf', 'conference', 'conferences', 'confession', 'confessions', 'confetti', 'confidants', 'confidence', 'confident', 'confidentiellesofficial', 'confined', 'confirm', 'confirmation', 'confirmed', 'confirming', 'confirms', 'conflate', 'conflates', 'conflict', 'conflicted', 'conflicts', 'confoable', 'confronts', 'confuse', 'confused', 'confusedshouldnt', 'confusing', 'confusion', 'cong', 'congee', 'congestive', 'congrats', 'congratulate', 'congratulatefor', 'congratulation', 'congratulations', 'congratz', 'congress', 'congressional', 'congressman', 'congroutz', 'conipra', 'conjure', 'conjured', 'conjuring', 'conman', 'conn', 'connect', 'connected', 'connecticut', 'connecting', 'connection', 'connector', 'connie', 'conniving', 'connoisseur', 'cons', 'conscious', 'consecutive', 'consent', 'consequences', 'conservapocalypse', 'conservatism', 'conservative', 'conservatives', 'consider', 'considerate', 'consideration', 'considered', 'considering', 'consisted', 'consistent', 'consists', 'console', 'consolesi', 'conspiracies', 'conspiracy', 'constant', 'constantly', 'constituents', 'constitute', 'constitution', 'constitutional', 'constrained', 'construction', 'constructive', 'consult', 'consultant', 'consultative', 'consulted', 'consulting', 'consumer', 'consumerist', 'consumers', 'consumes', 'consumptive', 'cont', 'contact', 'contacted', 'contacts', 'contagious', 'contain', 'containingfriedrice', 'contaminates', 'contd', 'contdi', 'conte', 'contemplating', 'contemporaries', 'contempt', 'contender', 'contenders', 'content', 'contentious', 'contentnight', 'contento', 'contents', 'contest', 'contestant', 'contestants', 'contested', 'contine', 'continent', 'contingent', 'continue', 'continued', 'continues', 'continuing', 'continuous', 'continuously', 'continuum', 'contour', 'contract', 'contracts', 'contrast', 'contribute', 'contributes', 'control', 'controlled', 'controversial', 'controversy', 'conveible', 'convene', 'convenient', 'convention', 'conversation', 'conversations', 'conviction', 'convince', 'convinced', 'convo', 'cook', 'cooked', 'cookies', 'cookin', 'cooking', 'cooks', 'cool', 'cooler', 'coolest', 'coolestlifehack', 'cooling', 'coolio', 'coolwallet', 'coombes', 'coon', 'coooool', 'coooooomicon', 'coooooooooool', 'cooped', 'cooper', 'cooperation', 'cooperative', 'coopting', 'coordinate', 'coordinating', 'cop', 'copa', 'copaamericacentenario', 'cope', 'copies', 'copines', 'copious', 'copped', 'coppers', 'cops', 'copy', 'copycat', 'coq', 'coquitlam', 'cor', 'cora', 'coral', 'corbyn', 'cordial', 'cordially', 'core', 'coreys', 'corfu', 'corn', 'corner', 'cornered', 'cornerhouse', 'cornhole', 'cornish', 'cornwall', 'corny', 'coronation', 'coroner', 'coronial', 'corporate', 'corps', 'corpse', 'corpuz', 'correct', 'corrected', 'correcting', 'correctly', 'correctness', 'corrects', 'correlated', 'correlation', 'corrieeeeeee', 'corroborated', 'corrupt', 'corrupted', 'corruption', 'corset', 'cory', 'cos', 'cosa', 'cosby', 'cosell', 'cosmetics', 'cosplay', 'cost', 'costa', 'costco', 'costing', 'costs', 'costume', 'costumes', 'cotta', 'cottage', 'cotton', 'cottoned', 'cou', 'couain', 'couch', 'coueous', 'couessy', 'couesy', 'cougar', 'coulda', 'couldve', 'coulter', 'council', 'councillor', 'couney', 'counselling', 'counsellors', 'counselor', 'count', 'countdown', 'countdpwn', 'counted', 'counter', 'countered', 'counters', 'counting', 'countless', 'countries', 'country', 'countryfile', 'countryis', 'countrys', 'countryso', 'countryworkshop', 'counts', 'county', 'countys', 'coup', 'couple', 'couples', 'coupon', 'couponboth', 'coupons', 'courage', 'courageous', 'courier', 'couroom', 'course', 'courses', 'cous', 'cousin', 'cousins', 'cousinsupernaturalfest', 'couture', 'cove', 'cover', 'coverage', 'coverboy', 'covered', 'coverin', 'covering', 'covers', 'covo', 'cow', 'cowan', 'coward', 'cowardly', 'cowards', 'cowboy', 'cowboys', 'cowboyscifibot', 'cowell', 'coworker', 'coworkers', 'cows', 'cowspiracy', 'cox', 'coxan', 'coxs', 'coyote', 'coz', 'cozy', 'cozzy', 'cpc', 'cpd', 'cph', 'cpi', 'cptplanespotter', 'cr', 'crab', 'crabby', 'crabs', 'crack', 'crackdown', 'cracked', 'cracker', 'crackers', 'cracking', 'cracks', 'craft', 'crafting', 'crafts', 'craic', 'craig', 'crain', 'cramming', 'cramped', 'cranberry', 'crane', 'cranky', 'crap', 'crappy', 'crash', 'crashed', 'crashes', 'crashing', 'crate', 'cravetv', 'craving', 'cravings', 'crawford', 'crawl', 'cray', 'craying', 'crayola', 'crayon', 'crazed', 'crazie', 'crazies', 'craziest', 'craziestpeoples', 'craziness', 'crazy', 'crazzzy', 'crculo', 'cre', 'cream', 'creamcicle', 'creamer', 'creamery', 'creampie', 'creamy', 'create', 'created', 'createdur', 'creates', 'creating', 'creation', 'creations', 'creative', 'creativity', 'creator', 'creature', 'creatures', 'cred', 'credentials', 'credibility', 'credit', 'creditable', 'creditors', 'credits', 'credo', 'creed', 'creep', 'creeper', 'creepiest', 'creeps', 'creepy', 'creme', 'crep', 'creperie', 'crepes', 'crept', 'cresc', 'crescendo', 'cress', 'crestview', 'cretin', 'crew', 'crewed', 'crewlove', 'crews', 'cri', 'crib', 'cricket', 'cried', 'cries', 'crime', 'crimea', 'crimeisnt', 'crimes', 'criminal', 'criminals', 'cringe', 'crisis', 'criss', 'cristiano', 'cristina', 'cristoforis', 'criterium', 'critic', 'critical', 'critically', 'criticise', 'criticism', 'criticize', 'criticized', 'criticizes', 'critics', 'critique', 'critiquing', 'crjunnieuyendong', 'croatia', 'croatian', 'croc', 'crockpot', 'crocs', 'croft', 'croftso', 'croke', 'crony', 'crook', 'crooked', 'crookedhillary', 'crops', 'crosby', 'cross', 'crossbody', 'crosschecking', 'crossed', 'crosses', 'crossfit', 'crossing', 'crossword', 'croton', 'crow', 'crowd', 'crowded', 'crowder', 'crowds', 'crown', 'crowns', 'crows', 'croydon', 'crucial', 'crucible', 'crucify', 'crude', 'cruel', 'cruelty', 'cruise', 'cruises', 'crumble', 'crumbs', 'crunchy', 'crusade', 'crusader', 'crush', 'crushed', 'crushes', 'crushing', 'cruz', 'cruzs', 'crybaby', 'crying', 'cryptokeys', 'crystal', 'crystalize', 'cs', 'csd', 'csikszentmihalyi', 'cssm', 'ct', 'ctf', 'cto', 'ctu', 'cu', 'cuailing', 'cuain', 'cub', 'cuba', 'cubao', 'cube', 'cubes', 'cubit', 'cubs', 'cuck', 'cucked', 'cuckold', 'cucumber', 'cucumbers', 'cud', 'cuddle', 'cuddles', 'cuddling', 'cue', 'cuesy', 'cueto', 'cully', 'culpable', 'culprit', 'cult', 'cultivate', 'cultural', 'culture', 'cultured', 'cultures', 'cum', 'cumberland', 'cumbria', 'cumple', 'cunt', 'cunts', 'cuomo', 'cup', 'cupcake', 'cupcakes', 'cupgood', 'cuppa', 'cups', 'curb', 'curbed', 'cure', 'cured', 'curiel', 'curiosity', 'curious', 'curiousstay', 'curly', 'curr', 'currencies', 'current', 'currently', 'curriculum', 'curried', 'curry', 'currys', 'curse', 'cursed', 'curses', 'curve', 'curves', 'cus', 'cushion', 'cushions', 'cuss', 'cussed', 'custard', 'custom', 'customer', 'customers', 'customised', 'customized', 'customizes', 'cut', 'cute', 'cutee', 'cutemuscleboys', 'cuteness', 'cutest', 'cutie', 'cuties', 'cuts', 'cutscenses', 'cutsie', 'cutter', 'cutting', 'cutys', 'cutz', 'cuz', 'cwh', 'cyanogen', 'cyber', 'cybercrime', 'cybersecurity', 'cycle', 'cycles', 'cycling', 'cyclist', 'cyclists', 'cylinders', 'cynical', 'cyopasta', 'cypher', 'cypress', 'cyprian', 'cyprus', 'cyrus', 'cz', 'czech', 'da', 'daaay', 'daahling', 'daam', 'dacks', 'dad', 'dadad', 'dadas', 'dadbarkads', 'daddie', 'daddies', 'daddy', 'daddyrip', 'daddys', 'daddyto', 'dadi', 'dads', 'dadsand', 'dadsavailable', 'dadscuz', 'dadsday', 'dadshopefully', 'dadthanks', 'dadwherever', 'dae', 'daes', 'daesh', 'daffodil', 'daffodils', 'dafney', 'daft', 'dagobe', 'dah', 'dahaq', 'dahlan', 'dai', 'daily', 'dailysketch', 'dainna', 'dairy', 'daisy', 'dakota', 'dal', 'dalai', 'dale', 'dalit', 'dallas', 'dalmore', 'daltons', 'dam', 'damage', 'damaged', 'damaging', 'damaris', 'dame', 'damians', 'damien', 'dammit', 'damn', 'damned', 'damning', 'damnit', 'damon', 'damp', 'damsel', 'damu', 'dan', 'dana', 'danbury', 'dance', 'danced', 'dancers', 'dances', 'danceswithfilms', 'dancing', 'dancu', 'dandelion', 'dandelions', 'dandy', 'dang', 'danger', 'dangerous', 'dangers', 'dangerwith', 'daniel', 'danielle', 'daniels', 'danisa', 'dank', 'danky', 'danne', 'dannellross', 'danny', 'danske', 'dansoman', 'danyorneles', 'dap', 'dapper', 'dare', 'daredevil', 'dares', 'daria', 'dario', 'dark', 'darke', 'darker', 'darkest', 'darkman', 'darkness', 'darknessi', 'darling', 'darlings', 'darn', 'darrow', 'das', 'dasein', 'dash', 'dashes', 'dat', 'data', 'database', 'datas', 'date', 'dated', 'dates', 'dating', 'datsyuk', 'daughter', 'daughters', 'daunting', 'dauphine', 'dav', 'dave', 'davenpo', 'daventry', 'daves', 'davey', 'david', 'davidcusguen', 'davidson', 'davies', 'davis', 'daw', 'dawg', 'dawn', 'dawned', 'dawns', 'dawson', 'dax', 'day', 'daya', 'dayagain', 'dayall', 'dayallow', 'daycome', 'dayd', 'daydreaming', 'dayeek', 'dayer', 'dayfor', 'daygod', 'dayid', 'daylight', 'daylov', 'daylove', 'daymiss', 'daypapa', 'days', 'dayscant', 'daysimagine', 'dayslinky', 'dayso', 'dayssssssss', 'daysydoll', 'daytext', 'daythank', 'daythanks', 'daythe', 'daytodaygk', 'daytomorrow', 'dayton', 'daytons', 'daytuesdays', 'dayum', 'daywatching', 'daywe', 'daywhat', 'daywho', 'daywithout', 'dayy', 'dayyou', 'dayyyy', 'dayyyyyyyy', 'dayyyyyyyyy', 'daz', 'daze', 'dazzling', 'dc', 'dcuo', 'dd', 'ddnt', 'ddto', 'dea', 'dead', 'deadaccording', 'deadass', 'deadbeat', 'deadliest', 'deadlifts', 'deadline', 'deadly', 'deadwoke', 'deaf', 'deafening', 'deah', 'deal', 'dealers', 'dealing', 'deals', 'dealt', 'dean', 'deana', 'deans', 'dear', 'deardenvergirl', 'dearest', 'dearhe', 'dearly', 'dearlyvets', 'dears', 'dearsorry', 'death', 'deathno', 'deaths', 'debacle', 'debasing', 'debasish', 'debate', 'debates', 'debating', 'debby', 'deborah', 'debra', 'debt', 'debts', 'debunk', 'debut', 'debuted', 'debuting', 'dec', 'decade', 'decades', 'deceased', 'deceive', 'deceived', 'deceiving', 'december', 'decency', 'decent', 'deceptive', 'decide', 'decidecommitsucceed', 'decided', 'decides', 'deciding', 'decir', 'decision', 'decisiones', 'decisions', 'deck', 'decker', 'decks', 'declan', 'declare', 'declared', 'declares', 'decline', 'declined', 'declining', 'decolonizing', 'decommissioned', 'decor', 'decorate', 'decorated', 'decorating', 'decorative', 'decreasing', 'decree', 'ded', 'dedicate', 'dedicated', 'dedicating', 'dedication', 'dee', 'deeds', 'deen', 'deep', 'deepak', 'deeper', 'deepest', 'deeply', 'deeps', 'deepu', 'deer', 'deese', 'deets', 'deewano', 'deez', 'def', 'defame', 'defamed', 'default', 'defeat', 'defeated', 'defeatedbut', 'defeats', 'defence', 'defend', 'defended', 'defender', 'defenders', 'defending', 'defends', 'defense', 'defensive', 'defensively', 'deferent', 'deficit', 'deficits', 'defile', 'definatly', 'define', 'defined', 'defines', 'defining', 'definite', 'definitely', 'definition', 'definitions', 'definitive', 'defintely', 'deflect', 'defo', 'deforestation', 'defund', 'defunding', 'degeneracy', 'degenerative', 'degrade', 'degrading', 'degree', 'degrees', 'dehumanize', 'deita', 'dej', 'dekh', 'del', 'delay', 'delayed', 'delayi', 'delaying', 'delays', 'delectable', 'delegates', 'delete', 'deleted', 'deletes', 'deleting', 'deletion', 'delhi', 'delhis', 'deliberately', 'delicious', 'deliento', 'delight', 'delighted', 'delightedstay', 'delightful', 'delighting', 'delights', 'delima', 'delirious', 'delish', 'deliver', 'delivered', 'deliveries', 'delivering', 'deliveroo', 'delivers', 'delivery', 'della', 'delonge', 'delta', 'deluded', 'delusion', 'delusional', 'delusions', 'deluxe', 'dem', 'demand', 'demanding', 'demands', 'demeaning', 'demeanor', 'demeans', 'demi', 'demigod', 'deming', 'demise', 'demn', 'demo', 'democracy', 'democrat', 'democratic', 'democrats', 'demoing', 'demolished', 'demolition', 'demonic', 'demonization', 'demonize', 'demonstrated', 'demonstration', 'demoralizing', 'demos', 'dems', 'den', 'denchs', 'dened', 'denial', 'denied', 'denim', 'denine', 'denis', 'denise', 'denman', 'dennis', 'dennys', 'denounce', 'denounced', 'density', 'dental', 'dentist', 'denver', 'deny', 'denying', 'deotumar', 'depaed', 'depament', 'depaments', 'depaure', 'depaures', 'depend', 'dependable', 'dependent', 'depends', 'deplorable', 'deplorables', 'deployed', 'deploying', 'depo', 'depok', 'deposit', 'deposition', 'depp', 'depravityguns', 'depreciation', 'depressed', 'depressing', 'depression', 'dept', 'depth', 'deptloved', 'deputies', 'deputy', 'der', 'derailed', 'derby', 'derehw', 'derek', 'derelle', 'derivation', 'derive', 'derogatory', 'descending', 'desde', 'dese', 'desensitized', 'deserve', 'deserved', 'deserves', 'design', 'designed', 'designing', 'designs', 'desire', 'desires', 'desk', 'desktop', 'desperate', 'desperately', 'despise', 'despite', 'desse', 'destination', 'destinations', 'destiny', 'destroy', 'destroyed', 'destroying', 'destruction', 'destructive', 'details', 'detected', 'determination', 'determined', 'detox', 'detroit', 'dev', 'devastated', 'devastating', 'develop', 'developed', 'developer', 'developing', 'development', 'developments', 'device', 'devil', 'devils', 'devoted', 'dex', 'dey', 'dhoni', 'di', 'dia', 'diabetes', 'dialogue', 'diamond', 'diaper', 'diaries', 'diary', 'diaz', 'dick', 'dicks', 'dictated', 'dictator', 'dictatorial', 'dictionary', 'did', 'diddy', 'didnt', 'die', 'died', 'diego', 'dies', 'diet', 'diff', 'difference', 'differences', 'different', 'differently', 'difficult', 'difficulties', 'dig', 'digging', 'digital', 'digits', 'dignity', 'dime', 'din', 'dinavalenz', 'diner', 'diners', 'dining', 'dinner', 'dinosaur', 'dip', 'diploma', 'dipped', 'dire', 'direct', 'directed', 'directing', 'direction', 'directly', 'directo', 'director', 'directorjust', 'dis', 'disabled', 'disadvantaged', 'disagreement', 'disagrees', 'disana', 'disappeared', 'disappearing', 'disappears', 'disappoint', 'disappointed', 'disappointing', 'disappointment', 'disaster', 'disavow', 'disbanding', 'disbelief', 'discharge', 'disciples', 'disciplines', 'disclosing', 'disco', 'discontinued', 'discount', 'discouraged', 'discover', 'discovered', 'discovery', 'discredit', 'discrepancy', 'discretion', 'discrimination', 'discuss', 'discussed', 'discussing', 'discussions', 'disease', 'disgrace', 'disgraced', 'disgraceful', 'disgracing', 'disgust', 'disgusted', 'disgusting', 'dish', 'disheaening', 'dishes', 'dishonest', 'dislike', 'dismantle', 'dismantled', 'dismiss', 'disney', 'disneyland', 'disneys', 'disorder', 'displaced', 'display', 'disregard', 'disrespect', 'disrespectful', 'diss', 'dissolution', 'distance', 'distant', 'distractions', 'distress', 'district', 'districts', 'disturb', 'disturbing', 'ditch', 'ditching', 'dive', 'diversity', 'divide', 'dividing', 'divine', 'divingconnecting', 'division', 'divisive', 'divorce', 'dixie', 'diy', 'diz', 'dj', 'dl', 'dlc', 'dm', 'dma', 'dna', 'dnc', 'dnt', 'doc', 'docs', 'doctor', 'doctors', 'documentary', 'documented', 'doe', 'does', 'doesnt', 'dog', 'doggies', 'doggy', 'dogs', 'doin', 'doing', 'doj', 'doll', 'dollar', 'dollars', 'domain', 'dome', 'domestic', 'dominate', 'dominated', 'don', 'donald', 'donalds', 'donate', 'donated', 'donation', 'donations', 'dongguan', 'donkey', 'donor', 'dont', 'doom', 'door', 'doors', 'dope', 'dorm', 'dory', 'dose', 'dosti', 'dot', 'double', 'doubt', 'doubtful', 'douchebag', 'doug', 'dovish', 'download', 'downloaded', 'downloading', 'downtime', 'downtown', 'dozen', 'dozens', 'dp', 'dr', 'draft', 'drafted', 'drafting', 'drag', 'dragged', 'draghi', 'dragon', 'dragoneducation', 'dragons', 'drags', 'drain', 'drained', 'draining', 'drake', 'drama', 'dramatic', 'drank', 'draw', 'drawing', 'drawn', 'draymond', 'dread', 'dreads', 'dream', 'dreamed', 'dreaming', 'dreams', 'dreamt', 'dress', 'dressage', 'dressed', 'dresser', 'dresses', 'dressing', 'dri', 'drink', 'drinking', 'drinks', 'drive', 'driven', 'driver', 'drivers', 'drives', 'driving', 'drop', 'dropped', 'dropping', 'drops', 'drove', 'drown', 'drowned', 'drowning', 'drug', 'drugs', 'drum', 'drumpf', 'drunk', 'dry', 'drying', 'dt', 'du', 'dua', 'dub', 'dubai', 'dublin', 'dubois', 'duck', 'ducks', 'dude', 'dudes', 'duh', 'duke', 'dukhi', 'dull', 'dumb', 'dumbest', 'dummies', 'dummy', 'dump', 'dumping', 'dumps', 'duncan', 'dunkin', 'dunstable', 'duper', 'dust', 'dustin', 'dutch', 'duties', 'duty', 'dvd', 'dvr', 'dwarf', 'dxy', 'dy', 'dye', 'dying', 'dylan', 'dynamic', 'dysfunction', 'ea', 'eaaa', 'eac', 'eachother', 'eagerly', 'eagles', 'eah', 'eahs', 'ear', 'earlier', 'early', 'earn', 'earned', 'earp', 'earrings', 'ears', 'easier', 'easiest', 'easily', 'east', 'easter', 'eastern', 'easy', 'eat', 'eaten', 'eating', 'eats', 'ebay', 'ebony', 'ebook', 'eclipse', 'eco', 'economic', 'economy', 'ecourse', 'ecstatic', 'ed', 'edc', 'eddie', 'eden', 'edge', 'edible', 'edinburgh', 'edit', 'edited', 'editing', 'edition', 'edits', 'edm', 'edmunds', 'educate', 'educated', 'education', 'educational', 'educator', 'edward', 'edwardsville', 'eeek', 'eek', 'eff', 'effect', 'effected', 'effective', 'effectively', 'effects', 'effing', 'effo', 'effos', 'egg', 'eggs', 'ego', 'eh', 'ehh', 'eia', 'eid', 'eiko', 'eject', 'ek', 'eker', 'eklund', 'el', 'elbow', 'elder', 'eleanor', 'elect', 'elected', 'election', 'elections', 'electric', 'electricity', 'electronic', 'elegant', 'elegy', 'element', 'elementary', 'elements', 'elephants', 'elf', 'eligible', 'eliminate', 'elite', 'elitist', 'elizabeth', 'ella', 'elliot', 'elliott', 'elmo', 'elsa', 'elses', 'em', 'email', 'emailed', 'emails', 'embarrass', 'embarrassing', 'embarrassment', 'embodiment', 'emboldened', 'embrace', 'embroidered', 'emea', 'emergency', 'emi', 'emma', 'emoji', 'emojis', 'emotion', 'emotional', 'emotionally', 'emotions', 'empathetic', 'empathy', 'empire', 'employed', 'employee', 'employees', 'employer', 'employment', 'empower', 'empowering', 'emptiness', 'emraan', 'emtec', 'en', 'enabler', 'enchanting', 'encinitas', 'encore', 'encounter', 'encountered', 'encounters', 'encourage', 'encouragement', 'encouraging', 'end', 'ended', 'ending', 'endings', 'endless', 'endorse', 'endorsed', 'endorsement', 'endorses', 'ends', 'enduring', 'enemies', 'enemy', 'energetic', 'energized', 'energy', 'enforcement', 'engage', 'engaged', 'engagement', 'engaging', 'engineer', 'engineering', 'engineers', 'england', 'english', 'enjoy', 'enjoyable', 'enjoyed', 'enjoying', 'enjoyment', 'enlightenment', 'enrique', 'enrollment', 'enroute', 'ensure', 'ent', 'enteain', 'enteaining', 'enteainment', 'enter', 'entered', 'entering', 'enthusiasm', 'enthusiastic', 'enticing', 'entire', 'entirely', 'entitled', 'entrance', 'entrepreneurs', 'entry', 'env', 'envelope', 'environment', 'environmental', 'envy', 'ep', 'epcot', 'epic', 'epidemic', 'episode', 'episodes', 'episodic', 'epp', 'equal', 'equality', 'equally', 'equals', 'equate', 'equipment', 'equity', 'equivalent', 'era', 'erased', 'erases', 'error', 'ers', 'ery', 'escape', 'escaped', 'esp', 'especially', 'essay', 'essence', 'essential', 'essex', 'est', 'establishment', 'estate', 'esteem', 'et', 'eternal', 'eternity', 'ethnicity', 'ethnocentrism', 'etihad', 'etry', 'etsy', 'eu', 'euphoria', 'eur', 'euro', 'europe', 'european', 'euros', 'eurostar', 'eva', 'evans', 'eve', 'evenflo', 'evening', 'evenings', 'event', 'events', 'eventually', 'eveon', 'everest', 'everybody', 'everybodys', 'everyday', 'everymanager', 'everyones', 'everythings', 'everytime', 'evidence', 'evil', 'evils', 'evn', 'evolution', 'ex', 'exact', 'exactly', 'exam', 'example', 'exams', 'exc', 'excellence', 'excellent', 'exceptional', 'excerpted', 'excess', 'exci', 'excit', 'excite', 'excited', 'excitem', 'exciteme', 'excitement', 'exciting', 'exclusive', 'exclusives', 'excuse', 'excuses', 'execs', 'executive', 'exercise', 'exercises', 'exhausted', 'exhibit', 'exhibition', 'exhibitor', 'exist', 'existed', 'existence', 'existent', 'exists', 'exit', 'exo', 'expand', 'expanding', 'expanse', 'expansion', 'expats', 'expe', 'expect', 'expectation', 'expectations', 'expected', 'expecting', 'expects', 'expensive', 'experience', 'experienced', 'experiences', 'experiencing', 'experiment', 'expes', 'expired', 'explain', 'explained', 'explaining', 'explains', 'explanation', 'explanations', 'exploiting', 'explore', 'exploring', 'explosions', 'expos', 'expose', 'exposed', 'exposes', 'exposing', 'exposure', 'express', 'expressed', 'expressing', 'expression', 'expressions', 'exquisite', 'extended', 'extends', 'extension', 'extensions', 'extent', 'external', 'extinct', 'extra', 'extract', 'extreme', 'extremely', 'extremism', 'extremist', 'extremists', 'eyan', 'eye', 'eyebrow', 'eyebrows', 'eyed', 'eyeing', 'eyes', 'eyez', 'ez', 'fa', 'fab', 'fabric', 'fabulous', 'facce', 'face', 'facebook', 'faced', 'faceoff', 'facepalm', 'faces', 'facetime', 'facial', 'facility', 'facing', 'fact', 'factophobia', 'factor', 'factory', 'facts', 'factsguide', 'fade', 'faded', 'fades', 'fail', 'failed', 'failing', 'fails', 'failure', 'failures', 'fair', 'fairfax', 'fairly', 'faith', 'faithful', 'fake', 'fall', 'fallacies', 'fallen', 'falling', 'fallon', 'fallout', 'falls', 'false', 'falsely', 'fam', 'fame', 'familia', 'familiar', 'families', 'family', 'familys', 'famous', 'fan', 'fancy', 'fandom', 'fang', 'fangirling', 'fans', 'fantastic', 'fantasy', 'far', 'farage', 'fare', 'farewell', 'fargo', 'farm', 'farmer', 'farmers', 'fas', 'fascinating', 'fascism', 'fascist', 'fashio', 'fashion', 'fast', 'faster', 'fasting', 'fastinghappy', 'fat', 'fate', 'father', 'fatherhood', 'fatherly', 'fathers', 'fathersday', 'fathersdaymessage', 'fathersdayquotes', 'fatty', 'fault', 'faustus', 'fav', 'fave', 'faves', 'favor', 'favorite', 'favorites', 'favour', 'favourite', 'favs', 'faye', 'fb', 'fbi', 'fc', 'fck', 'fd', 'fe', 'fear', 'fearful', 'fearing', 'fearless', 'fears', 'feast', 'feat', 'feature', 'featured', 'features', 'featuring', 'feb', 'february', 'fed', 'federal', 'feds', 'feed', 'feedback', 'feeder', 'feeding', 'feel', 'feelin', 'feeling', 'feelings', 'feels', 'fees', 'feet', 'feliz', 'fell', 'fella', 'fellas', 'felling', 'fellow', 'fellows', 'fellowship', 'felony', 'felt', 'female', 'females', 'feminism', 'feminist', 'feminists', 'ferrari', 'ferry', 'fest', 'festival', 'festive', 'feta', 'fete', 'fetish', 'fever', 'fewer', 'ffs', 'fg', 'fianc', 'fiction', 'fiddlers', 'field', 'fields', 'fiendtips', 'fifa', 'figgity', 'fight', 'fighter', 'fighters', 'fighting', 'fights', 'figure', 'figured', 'figures', 'figuring', 'fil', 'file', 'filed', 'filipino', 'filled', 'filling', 'film', 'filmed', 'filming', 'filmmaker', 'films', 'filter', 'filters', 'filth', 'filthy', 'fin', 'final', 'finale', 'finalise', 'finalists', 'finally', 'finals', 'finance', 'financial', 'finding', 'finds', 'fine', 'fined', 'finepass', 'finer', 'finest', 'fing', 'finger', 'fingers', 'finish', 'finished', 'finishing', 'finland', 'finmin', 'finn', 'finna', 'finstas', 'fir', 'firearms', 'firecracker', 'fired', 'firefly', 'firenze', 'fires', 'fireworks', 'firing', 'firm', 'firstborn', 'fish', 'fisher', 'fishing', 'fit', 'fitbit', 'fitness', 'fits', 'fitting', 'fix', 'fixed', 'fixing', 'fixture', 'fixtures', 'fl', 'fla', 'flag', 'flags', 'flair', 'flame', 'flames', 'flaming', 'flamingo', 'flapping', 'flash', 'flashback', 'flashing', 'flat', 'flats', 'flavor', 'flavours', 'flcrashcorrectors', 'flea', 'fleek', 'flesh', 'flex', 'flick', 'flickering', 'flicks', 'flies', 'flight', 'flights', 'flip', 'flipping', 'flipsidepa', 'floating', 'flood', 'flooding', 'floor', 'flop', 'flopping', 'flops', 'floral', 'florence', 'florida', 'floridian', 'flourish', 'flourishing', 'flow', 'flower', 'flowers', 'flowing', 'flows', 'fluffy', 'flw', 'fly', 'flyer', 'flyers', 'flying', 'fm', 'fn', 'fo', 'focking', 'focus', 'focused', 'focusing', 'foitude', 'folding', 'folk', 'folks', 'follo', 'follow', 'followed', 'follower', 'followers', 'following', 'follows', 'folowers', 'folx', 'fond', 'food', 'foods', 'fool', 'fooled', 'foolin', 'foolish', 'fools', 'foot', 'footage', 'football', 'footie', 'footy', 'forbidden', 'force', 'forced', 'forces', 'forcing', 'forecast', 'forecasted', 'forecasts', 'foreign', 'forest', 'forever', 'forevers', 'forget', 'forgetting', 'forgive', 'forgiveness', 'forgivers', 'forgot', 'forgotten', 'forks', 'form', 'format', 'forming', 'forms', 'formula', 'forum', 'forums', 'forward', 'fosters', 'fought', 'fouh', 'foul', 'founate', 'founders', 'fountain', 'fox', 'fp', 'fr', 'fragile', 'fragility', 'frahm', 'frame', 'framed', 'france', 'frances', 'franchise', 'francisco', 'frank', 'frankly', 'fraud', 'freak', 'freaken', 'freakin', 'freaking', 'fred', 'freddie', 'free', 'freed', 'freedom', 'freedoms', 'freezers', 'french', 'frenzy', 'frequently', 'fresh', 'freshly', 'fri', 'friday', 'fridayeveryone', 'fridays', 'fridge', 'friend', 'friendly', 'friends', 'friendship', 'friendships', 'fries', 'friggen', 'frinds', 'fringe', 'frio', 'friyay', 'frm', 'frnd', 'frnds', 'frog', 'frontier', 'frost', 'frozen', 'fruit', 'frustrated', 'frustrating', 'frwd', 'fry', 'frye', 'fs', 'ft', 'fuck', 'fucked', 'fuckers', 'fuckin', 'fucking', 'fucks', 'fuel', 'fuelled', 'fuher', 'fuhered', 'fulfilled', 'fulfilling', 'fullest', 'fully', 'fuming', 'fun', 'fund', 'funday', 'funded', 'funding', 'fundraiser', 'fundraising', 'funds', 'funeral', 'funniest', 'funny', 'funy', 'furious', 'furniture', 'furore', 'furry', 'fusionmadness', 'fuss', 'future', 'futurethe', 'fw', 'fx', 'fye', 'fynn', 'ga', 'gaf', 'gain', 'gained', 'gains', 'gala', 'galaxy', 'gallery', 'gals', 'galway', 'gambino', 'gambling', 'game', 'gameplay', 'gamer', 'gamers', 'games', 'gaming', 'gandhi', 'gang', 'gap', 'gara', 'garage', 'garbage', 'garden', 'gardening', 'gardens', 'garland', 'garrix', 'gary', 'gas', 'gate', 'gates', 'gateway', 'gather', 'gathers', 'gator', 'gators', 'gave', 'gay', 'gays', 'gazal', 'gb', 'gbp', 'gd', 'gdp', 'gear', 'geared', 'gearing', 'gee', 'geek', 'geeked', 'geez', 'geeze', 'gel', 'gem', 'gemma', 'gen', 'gender', 'general', 'generate', 'generation', 'generations', 'generous', 'genetics', 'genius', 'genocide', 'genre', 'gent', 'gentle', 'gentleman', 'gentlemen', 'gentlepassion', 'gents', 'genuine', 'genuinely', 'geographic', 'geordie', 'george', 'georgia', 'ger', 'german', 'germany', 'gets', 'gettin', 'getting', 'gf', 'gg', 'ghana', 'ghazal', 'ghazals', 'ghost', 'gian', 'giant', 'giddy', 'gift', 'giftcard', 'gifted', 'gifts', 'gig', 'giggle', 'giggles', 'gimme', 'gin', 'giphy', 'girl', 'girlfriend', 'girls', 'giveaway', 'given', 'gives', 'giving', 'glad', 'glam', 'glamorous', 'glamping', 'glasgow', 'glass', 'glasses', 'glazed', 'glimpse', 'glitter', 'global', 'globalists', 'globe', 'glorious', 'glory', 'gloss', 'glover', 'gloves', 'glow', 'glowing', 'glte', 'gluten', 'gm', 'goa', 'goaded', 'goal', 'goals', 'goat', 'goats', 'god', 'goddamn', 'goddess', 'godfather', 'gods', 'goes', 'goeslove', 'goin', 'going', 'gold', 'golden', 'golf', 'gomez', 'gon', 'gone', 'gonna', 'good', 'goodbye', 'goodies', 'goodmorning', 'goodness', 'goodnight', 'goods', 'goody', 'goofy', 'google', 'goon', 'goood', 'gop', 'gordie', 'gordo', 'gordon', 'gorge', 'gorgeous', 'gorilla', 'gorillas', 'gosh', 'gospel', 'gossip', 'gossiping', 'gossips', 'got', 'gotta', 'gotten', 'gov', 'government', 'governments', 'governor', 'govs', 'govt', 'gp', 'gplay', 'gps', 'gr', 'grab', 'grabbed', 'grabbing', 'grace', 'graceful', 'gracie', 'gracious', 'graco', 'grad', 'grade', 'grader', 'graders', 'grades', 'grads', 'graduate', 'graduated', 'graduates', 'graduating', 'graduation', 'graffiti', 'graham', 'grahamborn', 'grain', 'gram', 'grammar', 'grand', 'grandad', 'grandfather', 'grandma', 'grandmother', 'grandpa', 'grandparents', 'grandson', 'granny', 'granted', 'grapes', 'graphics', 'grass', 'grateful', 'gratitude', 'grave', 'graves', 'graveyard', 'gravity', 'gray', 'great', 'greater', 'greatest', 'greatness', 'greece', 'greed', 'greedy', 'greek', 'green', 'greencommunity', 'greenglamde', 'greens', 'greenspan', 'greenspans', 'greet', 'greeting', 'greetings', 'greets', 'greg', 'gregorian', 'grew', 'grey', 'grief', 'grieve', 'grieving', 'grill', 'grilled', 'grimmie', 'grimmies', 'grin', 'grind', 'grins', 'grip', 'grocery', 'grooming', 'gross', 'grossly', 'grou', 'ground', 'grounded', 'grounds', 'group', 'groups', 'grove', 'grow', 'growing', 'grown', 'grows', 'growth', 'grp', 'grrr', 'grube', 'gs', 'gsw', 'gt', 'guarantee', 'guaranteed', 'guard', 'guardian', 'gud', 'guess', 'guessed', 'guest', 'guests', 'guidance', 'guide', 'guidelines', 'guilt', 'guilty', 'guitar', 'gulf', 'gum', 'gummy', 'gun', 'gunman', 'gunna', 'gunners', 'guns', 'gurl', 'guru', 'gutless', 'gutted', 'gutter', 'guy', 'guys', 'gweh', 'gym', 'ha', 'haaaaard', 'habit', 'habits', 'hack', 'hacked', 'hacker', 'hacketts', 'hadnt', 'haha', 'hahaha', 'hahahaha', 'hahahahah', 'hai', 'hair', 'haircut', 'hairy', 'haley', 'half', 'halfway', 'hall', 'hallelujah', 'halo', 'halsey', 'ham', 'hamari', 'hamilton', 'hampered', 'hampstead', 'hampton', 'hamster', 'hand', 'handbag', 'handed', 'handing', 'handjob', 'handle', 'handled', 'handling', 'handouts', 'hands', 'handsome', 'hang', 'hangin', 'hanging', 'hangout', 'hangover', 'hangs', 'hanh', 'hannah', 'hannity', 'hap', 'happ', 'happen', 'happend', 'happened', 'happening', 'happenings', 'happens', 'happier', 'happiest', 'happily', 'happiness', 'happy', 'happybihday', 'happyhappy', 'happyness', 'harambe', 'harassment', 'harbaugh', 'hard', 'hardback', 'hardcore', 'harder', 'hardest', 'hardly', 'hardware', 'hardworking', 'harley', 'harm', 'harmful', 'harmonious', 'harmony', 'harper', 'harris', 'harry', 'harsh', 'harv', 'harvest', 'haryana', 'hashmis', 'hashtag', 'hashtags', 'hasil', 'hat', 'hatch', 'hatched', 'hate', 'hated', 'hateful', 'hater', 'haters', 'hates', 'hathaway', 'hating', 'hatred', 'hats', 'haul', 'hav', 'haven', 'havent', 'havin', 'having', 'hawaii', 'hay', 'hayley', 'hazel', 'hb', 'hbd', 'hbo', 'hc', 'hd', 'hea', 'heaache', 'heabreak', 'heabreaking', 'heabroken', 'head', 'headache', 'headed', 'heading', 'headline', 'headlines', 'headphones', 'heads', 'heaed', 'heal', 'healand', 'healess', 'healing', 'heals', 'health', 'healthcare', 'healthier', 'healthy', 'hear', 'heard', 'hearing', 'heas', 'heat', 'heated', 'heater', 'heaven', 'heavenly', 'heavy', 'heck', 'hed', 'hedgehog', 'heeeeere', 'heel', 'heels', 'hehe', 'heights', 'heir', 'held', 'helen', 'helix', 'hell', 'hella', 'hello', 'helluva', 'helmet', 'help', 'helped', 'helpful', 'helping', 'helpless', 'helps', 'hen', 'henderson', 'henrico', 'henry', 'hepburn', 'herb', 'herbal', 'herd', 'heres', 'heritage', 'hermes', 'hero', 'heroes', 'heroku', 'heros', 'hes', 'hey', 'heyy', 'hi', 'hiatus', 'hid', 'hidden', 'hiddleston', 'hide', 'hiding', 'high', 'higher', 'highest', 'highlight', 'highlighting', 'highlights', 'highly', 'highs', 'highst', 'hijacked', 'hijacking', 'hike', 'hiking', 'hilarious', 'hilary', 'hill', 'hillary', 'hillarys', 'hilton', 'hina', 'hind', 'hindi', 'hindu', 'hindus', 'hint', 'hip', 'hire', 'hired', 'hires', 'hiring', 'historian', 'historic', 'historical', 'historically', 'history', 'hit', 'hitchens', 'hitler', 'hits', 'hitting', 'hive', 'hm', 'hmm', 'hmu', 'ho', 'hoarse', 'hockey', 'hockeys', 'hoe', 'hoes', 'holaaa', 'hold', 'holder', 'holding', 'holds', 'hole', 'holes', 'holi', 'holiday', 'holidayalways', 'holidays', 'holly', 'hollywood', 'hols', 'holy', 'homage', 'home', 'homecoming', 'homegirl', 'homegrown', 'homeland', 'homeless', 'homemade', 'homeopathic', 'homes', 'hometown', 'homework', 'homicides', 'homies', 'homo', 'homophobia', 'homophobic', 'homosexuality', 'honest', 'honestly', 'honesty', 'honey', 'hong', 'honor', 'honored', 'honoring', 'honour', 'hoo', 'hood', 'hoodie', 'hook', 'hooked', 'hooker', 'hooligans', 'hooray', 'hop', 'hope', 'hopeful', 'hopefully', 'hopes', 'hoping', 'hopkins', 'hopping', 'horizon', 'hormone', 'horrible', 'horribly', 'horrific', 'horrifying', 'horror', 'horse', 'horses', 'hoshi', 'hospital', 'hospitality', 'hospitals', 'host', 'hosted', 'hostility', 'hosting', 'hosts', 'hot', 'hotel', 'hour', 'hourglass', 'hours', 'house', 'household', 'housemate', 'houses', 'housewife', 'housing', 'houston', 'howe', 'hows', 'hq', 'hr', 'hrc', 'hrithik', 'hrs', 'hs', 'hsp', 'ht', 'htt', 'hu', 'hubby', 'huddle', 'hudson', 'huffington', 'hug', 'huge', 'hugh', 'hugo', 'hugs', 'huh', 'huhuhuhu', 'huin', 'huing', 'hulk', 'hum', 'human', 'humanity', 'humans', 'humble', 'humiliated', 'humiliating', 'humor', 'hump', 'humpday', 'hundreds', 'hung', 'hunger', 'hungry', 'hunt', 'hunter', 'hunting', 'hurry', 'hus', 'husband', 'husbands', 'hussein', 'hustle', 'hut', 'hutchings', 'hv', 'hva', 'hw', 'hybrid', 'hyderabad', 'hymn', 'hype', 'hyped', 'hyper', 'hypocrite', 'hypocritical', 'iam', 'ian', 'ibar', 'ibiza', 'ibooks', 'ice', 'iced', 'icepole', 'iconic', 'icons', 'ict', 'icymi', 'id', 'idea', 'ideal', 'ideals', 'ideas', 'identify', 'identity', 'ideology', 'idiot', 'idiots', 'idk', 'idol', 'idolized', 'iftar', 'ig', 'ignorance', 'ignorant', 'ignore', 'ignored', 'ignores', 'ignoring', 'ih', 'ii', 'iii', 'ijn', 'il', 'ill', 'illegal', 'illinois', 'illness', 'illusion', 'ilovethesecret', 'iloveyou', 'ily', 'im', 'ima', 'image', 'images', 'imagination', 'imagine', 'imessage', 'imitates', 'imma', 'immature', 'immediately', 'immigrants', 'immigrated', 'immigration', 'immune', 'impact', 'impatiently', 'imperfections', 'impersonating', 'implying', 'impo', 'impoance', 'impoant', 'impoantly', 'impossible', 'impress', 'impressed', 'impression', 'impressions', 'impressive', 'imprint', 'improve', 'improved', 'improving', 'inability', 'inactivity', 'inauguration', 'inbox', 'incantation', 'incapable', 'incessant', 'inch', 'incident', 'incidents', 'incite', 'included', 'includes', 'including', 'inclusivity', 'incoherent', 'income', 'incompetence', 'incompetent', 'inconsiderate', 'inconsistent', 'inconvenience', 'incorporate', 'increase', 'increased', 'increasing', 'increasingly', 'incredible', 'incredibly', 'incurable', 'indecent', 'indefensible', 'indefinite', 'independence', 'independent', 'index', 'india', 'indian', 'indiana', 'indianapolis', 'indians', 'indicate', 'indicted', 'indie', 'indigenous', 'individual', 'individuals', 'indoor', 'indoors', 'indulge', 'industrial', 'industry', 'indy', 'inevitable', 'infamous', 'infant', 'infants', 'inferior', 'infiltrating', 'infinite', 'inflame', 'inflation', 'inflict', 'influence', 'info', 'infographic', 'inform', 'information', 'ing', 'ingredient', 'ingredients', 'ini', 'initiating', 'injured', 'injuries', 'injustice', 'ink', 'inked', 'inmates', 'inn', 'inner', 'innings', 'innocence', 'innocent', 'innocents', 'innovation', 'innovative', 'inquest', 'inquiry', 'ins', 'insane', 'inse', 'insecure', 'insecurities', 'insecurity', 'insee', 'inseion', 'insensitive', 'inside', 'insights', 'insomnia', 'inspiration', 'inspire', 'inspired', 'inspires', 'inspiring', 'insta', 'instagood', 'instagram', 'install', 'installation', 'installed', 'installing', 'instantly', 'instead', 'instill', 'instinct', 'institution', 'instructed', 'insult', 'insulting', 'insults', 'insure', 'int', 'integral', 'integrity', 'intel', 'intellect', 'intellectual', 'intelligence', 'intelligent', 'intend', 'intended', 'intense', 'intentional', 'inter', 'interested', 'interesting', 'interests', 'intermarket', 'intern', 'internal', 'internalize', 'international', 'internations', 'internet', 'internship', 'interracial', 'intervene', 'intervention', 'interview', 'interviewed', 'interviews', 'intolerance', 'intolerant', 'intrigue', 'intro', 'introduce', 'introduced', 'introduces', 'introducing', 'introduction', 'inuit', 'invade', 'invasion', 'invasive', 'invented', 'inventive', 'inventory', 'invest', 'investec', 'investigation', 'investigators', 'investment', 'invisible', 'invitation', 'invite', 'invited', 'invites', 'involve', 'involved', 'involves', 'ion', 'ios', 'iowa', 'ipad', 'iphone', 'ipod', 'ipsy', 'iq', 'iran', 'iraq', 'irate', 'ireland', 'irish', 'iron', 'ironically', 'ironing', 'irony', 'irrational', 'irrelevant', 'irreplaceable', 'irresponsible', 'irvine', 'isaac', 'ish', 'isis', 'islam', 'islamic', 'islamism', 'islamist', 'islamophobe', 'islamophobes', 'islamophobia', 'island', 'isle', 'isnt', 'isolated', 'israeli', 'issue', 'issued', 'issues', 'issueso', 'ist', 'istg', 'istore', 'italian', 'italy', 'itd', 'item', 'items', 'iti', 'itll', 'itthats', 'itunes', 'iv', 'ive', 'ivy', 'iwhiteboy', 'ja', 'jaan', 'jabs', 'jack', 'jackals', 'jackass', 'jackblair', 'jacket', 'jackie', 'jackpot', 'jackson', 'jacksons', 'jacob', 'jade', 'jai', 'jail', 'jake', 'jam', 'jamaica', 'james', 'jan', 'jane', 'january', 'japan', 'japanese', 'jar', 'jarretts', 'jay', 'jazz', 'je', 'jea', 'jealous', 'jeans', 'jeep', 'jeff', 'jefferson', 'jeffery', 'jeffrey', 'jehovah', 'jelly', 'jenner', 'jennifer', 'jerk', 'jerry', 'jersey', 'jessi', 'jessica', 'jessicas', 'jesus', 'jesuschristempowerstransformation', 'jet', 'jew', 'jewellery', 'jewelry', 'jewish', 'jews', 'jfc', 'ji', 'jihad', 'jim', 'jimmy', 'jivemap', 'jj', 'jk', 'jo', 'job', 'jobless', 'jobs', 'jodi', 'joe', 'john', 'johnny', 'johnson', 'joie', 'join', 'joined', 'joining', 'joins', 'joint', 'joke', 'joker', 'jokes', 'jokesmen', 'joking', 'jon', 'jones', 'jordan', 'joseon', 'joseph', 'josephjett', 'joshi', 'joshua', 'journal', 'journalism', 'journalist', 'journalists', 'journey', 'journeys', 'journo', 'joy', 'joyful', 'joyfulness', 'joyous', 'joys', 'jp', 'jpg', 'jpy', 'jr', 'jts', 'ju', 'juan', 'judge', 'judged', 'judgement', 'judges', 'judgment', 'judy', 'juice', 'juicy', 'julia', 'julie', 'july', 'jumat', 'jump', 'jumped', 'jumper', 'jumping', 'jumps', 'jun', 'junaricrm', 'june', 'juneteenth', 'jungkook', 'jungkookday', 'jungle', 'junior', 'junk', 'jurgen', 'jus', 'just', 'justice', 'justification', 'justify', 'justin', 'ka', 'kad', 'kahani', 'kajal', 'kan', 'kansas', 'kanye', 'kanyes', 'karain', 'kardashian', 'kareem', 'karen', 'karina', 'karl', 'karma', 'kasich', 'kass', 'kate', 'kathy', 'katie', 'kaya', 'kayak', 'kayla', 'kazzeymusic', 'kc', 'ke', 'keeper', 'keeping', 'keeps', 'keepu', 'keisha', 'keith', 'kelly', 'ken', 'kennel', 'kent', 'kentucky', 'kenya', 'kenyan', 'kept', 'kerala', 'kern', 'kerr', 'keshi', 'keshis', 'kevin', 'kevyn', 'key', 'keyed', 'keynote', 'keys', 'kg', 'khan', 'ki', 'kick', 'kicked', 'kicking', 'kickoff', 'kicks', 'kid', 'kiddies', 'kidding', 'kids', 'kiev', 'kik', 'kill', 'killed', 'killer', 'killers', 'killing', 'killings', 'kills', 'kiln', 'kilo', 'kim', 'kimbo', 'kimi', 'kin', 'kind', 'kinda', 'kinder', 'kindest', 'kindle', 'kindly', 'kindness', 'kinds', 'king', 'kingdom', 'kings', 'kiss', 'kissed', 'kisses', 'kissing', 'kit', 'kitchen', 'kits', 'kitten', 'kitties', 'kitty', 'kiwi', 'kkd', 'kkk', 'klan', 'klopp', 'km', 'kms', 'knee', 'knees', 'knew', 'knife', 'knight', 'knitting', 'kno', 'knock', 'knocked', 'knocks', 'knossos', 'knot', 'know', 'knowing', 'knowledge', 'knowledgeable', 'known', 'knows', 'knw', 'ko', 'koi', 'kong', 'koran', 'korea', 'korean', 'korematsu', 'kp', 'kpop', 'kristen', 'kristin', 'kro', 'ks', 'ksa', 'kscrashcorrectors', 'ku', 'kubang', 'kudos', 'kumbaya', 'kurds', 'kyle', 'kylie', 'kyra', 'kyrie', 'la', 'lab', 'label', 'labeled', 'labels', 'labour', 'labs', 'lack', 'lacking', 'lad', 'ladies', 'lads', 'lady', 'ladys', 'ladyzaradurose', 'lag', 'laid', 'lake', 'lama', 'lambs', 'lame', 'lan', 'lancashire', 'lancaster', 'lance', 'land', 'landed', 'landholding', 'landing', 'landlord', 'landmark', 'lands', 'landscape', 'lane', 'lang', 'language', 'languages', 'lantern', 'lap', 'laps', 'laptop', 'large', 'largely', 'largest', 'larry', 'las', 'lasted', 'lasting', 'late', 'lately', 'latepost', 'later', 'latest', 'latin', 'latinas', 'latte', 'laugh', 'laughable', 'laughed', 'laughing', 'laughs', 'laughter', 'launch', 'launched', 'launches', 'launching', 'laundry', 'laura', 'laurel', 'lauren', 'lavender', 'law', 'lawmaker', 'lawn', 'laws', 'lawyer', 'lax', 'lay', 'laying', 'laziness', 'lazy', 'lb', 'lbj', 'lbs', 'lds', 'le', 'lead', 'leader', 'leaders', 'leadership', 'leading', 'leads', 'leaf', 'league', 'leak', 'leakag', 'leakage', 'leaked', 'leaks', 'lean', 'leaps', 'learn', 'learned', 'learners', 'learning', 'learnt', 'leather', 'leave', 'leaves', 'leaving', 'lebron', 'lecture', 'led', 'lede', 'ledger', 'ledwell', 'lee', 'leeds', 'left', 'leftist', 'leg', 'legacy', 'legal', 'legally', 'legend', 'legendary', 'legends', 'legged', 'legislative', 'legit', 'legitimately', 'legs', 'legsclub', 'leicester', 'leigh', 'leisure', 'leisurely', 'lemans', 'lemme', 'lemon', 'lemonade', 'lend', 'lennar', 'leo', 'les', 'lesson', 'lessons', 'let', 'letest', 'lets', 'letter', 'letters', 'letting', 'lettuce', 'level', 'levels', 'lewis', 'lgbt', 'lgbtq', 'li', 'liam', 'liar', 'liars', 'liat', 'lib', 'liberal', 'liberalism', 'liberals', 'liberating', 'libey', 'libraries', 'library', 'libs', 'libtard', 'license', 'lid', 'lie', 'lied', 'lies', 'life', 'lifes', 'lifestyle', 'lifetime', 'lift', 'lifted', 'lifter', 'light', 'lighter', 'lighting', 'lights', 'lightweight', 'like', 'liked', 'likely', 'likes', 'liking', 'lil', 'lily', 'lime', 'limelight', 'limit', 'limited', 'limiting', 'limits', 'limp', 'lincoln', 'line', 'liner', 'lines', 'lineup', 'lingerie', 'link', 'linked', 'linkedin', 'linking', 'links', 'linstagram', 'lion', 'lionel', 'lions', 'lip', 'lips', 'lipstick', 'lipsticks', 'liquid', 'liquor', 'lisa', 'list', 'listen', 'listened', 'listening', 'lists', 'lit', 'lite', 'literally', 'littering', 'little', 'liv', 'live', 'lived', 'livelypics', 'liverpool', 'lives', 'livestream', 'living', 'liye', 'liz', 'lizzie', 'll', 'llc', 'lmao', 'lmaoo', 'lmfao', 'lo', 'load', 'loaded', 'loading', 'loads', 'loathing', 'lobby', 'lobster', 'local', 'locally', 'location', 'locations', 'lock', 'locked', 'locks', 'lodge', 'log', 'logan', 'logic', 'logical', 'logins', 'logo', 'lois', 'lokey', 'lol', 'lola', 'lollipop', 'lolol', 'london', 'lone', 'loneliness', 'lonely', 'long', 'longer', 'longest', 'longhorn', 'loo', 'look', 'looked', 'looki', 'lookin', 'looking', 'looks', 'looney', 'loop', 'loose', 'loosing', 'lopes', 'lopezchiro', 'lord', 'los', 'lose', 'loser', 'losers', 'loses', 'losing', 'loss', 'losses', 'lost', 'lot', 'lots', 'lotta', 'lou', 'loud', 'loudly', 'louis', 'louise', 'louismainjr', 'lounge', 'lousy', 'lov', 'lovable', 'love', 'loved', 'lovelies', 'lovely', 'lover', 'lovers', 'loves', 'lovesong', 'lovin', 'loving', 'low', 'lower', 'lowered', 'lowest', 'lowry', 'lows', 'loyal', 'loyalty', 'lozza', 'lt', 'lube', 'lucas', 'lucia', 'luck', 'luckily', 'lucky', 'lucy', 'ludicrous', 'luis', 'luke', 'luminous', 'lumpy', 'lunch', 'lunchtime', 'lure', 'lush', 'luth', 'luv', 'luxury', 'lve', 'lyf', 'lyft', 'lyin', 'lying', 'lyk', 'lyon', 'lyric', 'lyrics', 'ma', 'maa', 'maam', 'mabel', 'mac', 'macbook', 'macdonald', 'machine', 'machines', 'mad', 'maddy', 'madly', 'madness', 'madrid', 'mae', 'maestro', 'mag', 'magazine', 'magic', 'magical', 'magnetize', 'magnets', 'magnificent', 'mags', 'mai', 'maidsafe', 'mail', 'mailbox', 'mails', 'main', 'maine', 'mainly', 'mainstream', 'maintain', 'maintenance', 'majestic', 'majesty', 'major', 'majority', 'make', 'makeover', 'maker', 'makers', 'makes', 'makeup', 'making', 'malawi', 'malaysia', 'malcolm', 'male', 'males', 'malia', 'malign', 'mall', 'mam', 'mama', 'mamas', 'mammal', 'man', 'manage', 'managed', 'management', 'manager', 'managing', 'manchester', 'mandatory', 'mandy', 'mango', 'manhattan', 'manhood', 'mania', 'manifesting', 'manipulation', 'mankind', 'manner', 'manning', 'manor', 'mans', 'mansion', 'mantra', 'map', 'mar', 'marathon', 'marbella', 'marble', 'marbles', 'marbs', 'march', 'marco', 'marcus', 'margaret', 'margarita', 'mari', 'maria', 'marie', 'marijuana', 'marina', 'marine', 'mario', 'mark', 'markantalya', 'market', 'marketing', 'markets', 'marking', 'marks', 'marriage', 'married', 'marry', 'marrying', 'mars', 'marseille', 'marsh', 'maru', 'marvel', 'marvellous', 'marvelous', 'marx', 'mary', 'maryland', 'mas', 'masaji', 'mascot', 'mask', 'mason', 'mass', 'massachusetts', 'massacre', 'massage', 'masses', 'massive', 'mast', 'master', 'mastered', 'masters', 'mat', 'mata', 'match', 'matches', 'mate', 'mateen', 'mater', 'materi', 'materia', 'material', 'materials', 'maternity', 'maters', 'mates', 'math', 'matt', 'matte', 'matter', 'matters', 'matthew', 'matthews', 'mature', 'maui', 'max', 'maximus', 'maya', 'maybe', 'mayhem', 'mayo', 'mayor', 'maza', 'mazara', 'mba', 'mbm', 'mc', 'mccain', 'mccormick', 'mcdonalds', 'mcguire', 'mckechnie', 'mclain', 'md', 'mea', 'meal', 'meals', 'mean', 'meaning', 'meaningful', 'meaningless', 'means', 'meant', 'measure', 'measured', 'measures', 'meat', 'meatloaf', 'mebut', 'med', 'medal', 'medford', 'media', 'medical', 'medicine', 'mediocre', 'meditate', 'meditation', 'medium', 'meds', 'meek', 'meet', 'meeting', 'meetings', 'meets', 'mega', 'megan', 'mehn', 'mei', 'melania', 'melbourne', 'melissa', 'melo', 'melted', 'melts', 'member', 'members', 'membership', 'meme', 'memes', 'memorable', 'memorial', 'memoriam', 'memories', 'memory', 'memphis', 'men', 'menorah', 'mens', 'mental', 'mentality', 'mentally', 'mention', 'mentioned', 'mentioning', 'mentions', 'mentor', 'mentoring', 'menu', 'meps', 'mercedes', 'mercy', 'mere', 'merely', 'merger', 'merica', 'merry', 'mesa', 'mess', 'message', 'messaged', 'messages', 'messed', 'messi', 'messing', 'messy', 'met', 'metal', 'methinks', 'metro', 'mex', 'mexican', 'mexico', 'meyer', 'mf', 'mfs', 'mg', 'mgaenp', 'mi', 'miami', 'mic', 'michael', 'michaels', 'michelle', 'mickey', 'micro', 'micronesian', 'microsoft', 'mid', 'midday', 'middle', 'midfield', 'midnight', 'midst', 'midsummer', 'midweek', 'mighty', 'migrants', 'migrated', 'mike', 'mil', 'mile', 'miler', 'miles', 'milestones', 'military', 'milk', 'milkyway', 'millennials', 'miller', 'million', 'millions', 'mills', 'milo', 'min', 'mind', 'minded', 'minds', 'mindsconsole', 'mindset', 'minecraft', 'mini', 'minimum', 'mining', 'minions', 'minister', 'minneapolis', 'minnesota', 'minorities', 'minority', 'mins', 'mint', 'minus', 'minute', 'minutes', 'miranda', 'miriam', 'mirror', 'mirrors', 'mis', 'miscegenation', 'miserable', 'misery', 'misogynist', 'misogynists', 'misogyny', 'miss', 'missed', 'misses', 'missing', 'mission', 'mistake', 'mistakes', 'mitt', 'mix', 'mixed', 'mixtape', 'mixture', 'mj', 'mk', 'mlb', 'mlk', 'mm', 'mma', 'mmm', 'mmmiastar', 'mmmm', 'mmmmm', 'mo', 'moan', 'moans', 'mob', 'mobile', 'mobiles', 'mock', 'mocked', 'mockery', 'mod', 'mode', 'model', 'modeling', 'models', 'modern', 'modes', 'modi', 'modified', 'mods', 'module', 'mofknz', 'mogage', 'mohammed', 'moi', 'mojo', 'mom', 'moment', 'moments', 'momentum', 'momma', 'mommy', 'moms', 'mon', 'monday', 'mondays', 'monetary', 'money', 'mongering', 'monica', 'monique', 'monitor', 'monkey', 'monkeys', 'monroe', 'monsoon', 'monster', 'monsters', 'montana', 'month', 'monthly', 'months', 'monthsary', 'montreal', 'mood', 'moods', 'moody', 'moon', 'moore', 'moose', 'mor', 'moral', 'morality', 'moreeee', 'morgan', 'mormon', 'morn', 'mornin', 'morning', 'mornings', 'moro', 'morocco', 'moron', 'morro', 'morrow', 'mosque', 'mother', 'motherfucker', 'mothers', 'motivate', 'motivated', 'motivation', 'motivational', 'motive', 'moto', 'motor', 'motorcycle', 'motto', 'mount', 'mountain', 'mountains', 'mounting', 'mourinho', 'mourn', 'mourning', 'mouse', 'mouth', 'mouthpiece', 'moved', 'movement', 'moves', 'movie', 'movies', 'moving', 'mowing', 'moynihan', 'mp', 'mps', 'mr', 'mrrat', 'mrs', 'ms', 'msg', 'msgs', 'msm', 'mt', 'mtf', 'mtg', 'mth', 'mua', 'mubarak', 'mud', 'mudder', 'muffins', 'mufg', 'mug', 'muhbt', 'muller', 'multi', 'multiculturalism', 'multiple', 'multiply', 'multivitamins', 'mum', 'mumbai', 'mummy', 'mums', 'muna', 'munich', 'muppets', 'murder', 'murdered', 'murderer', 'murderers', 'murdering', 'murderous', 'murders', 'museum', 'museums', 'music', 'musical', 'musically', 'muslim', 'muslims', 'mustache', 'mustfall', 'muted', 'mutual', 'muza', 'mv', 'mvp', 'mxm', 'myle', 'mysterious', 'mystery', 'myth', 'mytraining', 'na', 'nab', 'nadal', 'nah', 'nail', 'nailed', 'nails', 'nairobi', 'naked', 'naman', 'named', 'names', 'nana', 'nancy', 'nandamuri', 'naoyuki', 'nap', 'narrative', 'narrow', 'nascar', 'nashville', 'nasty', 'nat', 'natalie', 'natasha', 'nation', 'national', 'nationalbestfriendday', 'nationalbestfriendsday', 'nationalist', 'nationality', 'nationals', 'nations', 'native', 'nats', 'natural', 'naturally', 'nature', 'naughty', 'navy', 'nazi', 'nazis', 'nba', 'nbc', 'nbjc', 'nd', 'ne', 'near', 'nearby', 'nearest', 'nearly', 'neat', 'nebraska', 'necessary', 'necessity', 'neck', 'necklace', 'need', 'needa', 'needed', 'needing', 'needles', 'needs', 'negative', 'negativity', 'negro', 'negros', 'neighbor', 'neighborhood', 'neighborhoods', 'neighbors', 'neighbour', 'neighbourhood', 'neighbours', 'neil', 'nemo', 'neo', 'nephew', 'nerd', 'nervous', 'ness', 'nest', 'net', 'netanyahu', 'netflix', 'netherlands', 'network', 'networking', 'neutral', 'neutrality', 'new', 'newcastle', 'newest', 'newly', 'newpaperand', 'news', 'newsi', 'newsletter', 'newspaper', 'newton', 'newyear', 'nff', 'nfl', 'ng', 'nh', 'nhat', 'ni', 'nice', 'nicely', 'nicer', 'nicest', 'nick', 'nickname', 'nicola', 'nicole', 'niece', 'nigel', 'niger', 'nigeria', 'nigerian', 'nigga', 'niggas', 'niggaz', 'nigger', 'night', 'nightclub', 'nightclubber', 'nightim', 'nightmare', 'nightmares', 'nights', 'nigth', 'nike', 'nikkei', 'nikki', 'nils', 'nimrod', 'nina', 'ninja', 'nintendo', 'nipple', 'nite', 'nites', 'nitro', 'nj', 'noble', 'nobodies', 'nod', 'nof', 'noh', 'nohern', 'noise', 'nominate', 'nominated', 'nominee', 'nomura', 'non', 'nonetheless', 'nonsense', 'nonsensical', 'nonton', 'noon', 'nooo', 'noooo', 'nooooo', 'nooooooo', 'nope', 'norfolk', 'norm', 'normal', 'normalizing', 'norman', 'norway', 'nos', 'nose', 'notch', 'note', 'notes', 'nothin', 'nothings', 'nothng', 'notice', 'noticed', 'notices', 'noticing', 'notification', 'notifications', 'nottingham', 'nou', 'nov', 'novel', 'november', 'nowadays', 'nowadaysso', 'nowlinkup', 'nowweve', 'np', 'nr', 'nra', 'ns', 'nsa', 'nt', 'nuclear', 'nude', 'numb', 'number', 'numbers', 'nun', 'nura', 'nurse', 'nursery', 'nurses', 'nut', 'nuts', 'nutshell', 'nuuring', 'nvr', 'nxt', 'ny', 'nyc', 'nye', 'nyman', 'nysc', 'nyt', 'nz', 'nzd', 'oak', 'oakland', 'obama', 'obamas', 'obesity', 'obeying', 'object', 'objective', 'obligated', 'obligation', 'obnoxious', 'obs', 'obscene', 'observation', 'observed', 'obsessed', 'obsession', 'obstruction', 'obvious', 'obviously', 'occasion', 'occur', 'occurred', 'occurredjust', 'ocean', 'oceans', 'oclock', 'oct', 'october', 'odd', 'odds', 'odonoghue', 'ofc', 'offended', 'offense', 'offensive', 'offer', 'offered', 'offering', 'offers', 'offical', 'office', 'officer', 'officers', 'official', 'officially', 'officials', 'officiating', 'offline', 'oh', 'ohalloran', 'ohh', 'ohhh', 'ohhhhh', 'ohio', 'oil', 'oils', 'oitnb', 'oiz', 'oj', 'ojb', 'ok', 'okay', 'ol', 'old', 'older', 'oldest', 'olds', 'ole', 'olives', 'olivia', 'olympic', 'olympics', 'om', 'omaha', 'omar', 'omfg', 'omg', 'omit', 'omits', 'ommmy', 'omw', 'onboard', 'onda', 'oneplus', 'ones', 'ongoing', 'onion', 'onions', 'online', 'ontario', 'onwards', 'ooh', 'oomf', 'oooh', 'oooo', 'ooooh', 'ooooooooooo', 'oops', 'ootd', 'op', 'open', 'opened', 'opener', 'opening', 'openly', 'opens', 'opera', 'operating', 'operation', 'opinion', 'opinions', 'oppa', 'opponents', 'oppose', 'opposed', 'opposite', 'opposition', 'oppounities', 'oppounity', 'oppressive', 'opps', 'oprah', 'opt', 'optimism', 'optimistic', 'option', 'options', 'opus', 'oral', 'orange', 'order', 'ordered', 'ordering', 'orders', 'ordinary', 'org', 'organic', 'organisation', 'organised', 'organiser', 'organization', 'organizations', 'organized', 'orgoblins', 'orientation', 'origin', 'original', 'originally', 'orlando', 'orr', 'osaka', 'oscar', 'oskar', 'oslo', 'ottawa', 'otw', 'ouch', 'ounce', 'ounces', 'oust', 'outburst', 'outcast', 'outcome', 'outdated', 'outdoor', 'outfit', 'outing', 'outlet', 'outlets', 'outline', 'outlook', 'output', 'outrage', 'outraged', 'outrageous', 'outs', 'outside', 'outstanding', 'outta', 'ove', 'oveime', 'oven', 'overall', 'overcome', 'overdoses', 'overlap', 'overload', 'overloaded', 'overnight', 'overseas', 'overused', 'overwatch', 'overweight', 'overwhelmed', 'overwhelmingly', 'ow', 'owe', 'owes', 'owl', 'owlashop', 'owls', 'owned', 'owner', 'owners', 'ownership', 'owns', 'oxford', 'oxygen', 'oye', 'oz', 'ozzy', 'pa', 'pablo', 'pac', 'pace', 'pachay', 'pack', 'package', 'packages', 'packaging', 'packed', 'packing', 'pad', 'padded', 'paddling', 'page', 'pageant', 'pageants', 'pages', 'pai', 'paicipate', 'paicipateekiti', 'paicipating', 'paicipation', 'paicular', 'paicularly', 'paid', 'paies', 'pain', 'painful', 'paing', 'pains', 'paint', 'painting', 'paintings', 'pair', 'pairs', 'pajamas', 'pakistan', 'pakistani', 'pal', 'palace', 'paladino', 'paladinos', 'palestinian', 'palette', 'palin', 'palladino', 'pally', 'palm', 'pals', 'paly', 'pamela', 'pampered', 'pancakes', 'panda', 'panel', 'paner', 'paners', 'panic', 'panthers', 'panties', 'pants', 'papa', 'paper', 'paperback', 'papers', 'par', 'para', 'parade', 'paradise', 'paraguay', 'paranoid', 'parcel', 'parent', 'parenting', 'parents', 'paris', 'park', 'parked', 'parking', 'parklife', 'parks', 'parliament', 'pas', 'pasalubong', 'pasig', 'pass', 'passed', 'passen', 'passenger', 'passengers', 'passes', 'passing', 'passion', 'passionate', 'passpo', 'password', 'past', 'pastel', 'pastor', 'pastors', 'pastry', 'pasture', 'pasty', 'pat', 'patch', 'patented', 'patently', 'path', 'pathachu', 'pathetic', 'pathetically', 'pathfinder', 'paths', 'patience', 'patient', 'patiently', 'patients', 'patio', 'patissiere', 'patriarchal', 'patriarchy', 'patricia', 'patrick', 'patriotism', 'patriots', 'patrol', 'patronise', 'patronizing', 'patrons', 'pattaya', 'patterned', 'pattinson', 'paul', 'pauls', 'pause', 'paused', 'pausing', 'pavilion', 'pavillions', 'paw', 'pawleased', 'paws', 'pawsome', 'pax', 'paxxy', 'pay', 'paya', 'paybacknot', 'paycheck', 'paychecks', 'payday', 'paydays', 'payed', 'payet', 'paying', 'payingmore', 'payment', 'payments', 'payoff', 'payout', 'paypal', 'pays', 'payslip', 'paytm', 'pb', 'pbuh', 'pc', 'pchs', 'pchub', 'pcn', 'pcos', 'pcs', 'pcv', 'pdf', 'pdp', 'pdx', 'pe', 'peace', 'peaceful', 'peacefully', 'peacekeepers', 'peacewith', 'peach', 'peachy', 'peacock', 'peaining', 'peak', 'peake', 'peaked', 'peaks', 'peaky', 'peale', 'peanut', 'pearl', 'pearlman', 'pearls', 'pearly', 'peas', 'pebbles', 'pebeo', 'peckham', 'peculiar', 'pedagogical', 'pedantic', 'pedestrains', 'pediactric', 'pedicure', 'pedo', 'pedophile', 'pedophilia', 'peds', 'peed', 'peej', 'peek', 'peel', 'peeled', 'peeling', 'peeps', 'peepz', 'peers', 'pegasas', 'peh', 'pelita', 'pembroke', 'pen', 'penalty', 'pendant', 'pendilinos', 'pending', 'penguin', 'penis', 'penn', 'penne', 'penney', 'pennsylvania', 'penny', 'pennyloafer', 'pennys', 'pens', 'pension', 'pensioners', 'penstemon', 'pentecost', 'pentecostals', 'penting', 'peon', 'peonies', 'peopl', 'people', 'peopleare', 'peoples', 'peoplesvote', 'peoplewith', 'peopleyou', 'peoria', 'peotus', 'pep', 'pepa', 'peppa', 'pepper', 'peppermint', 'pepperonis', 'peps', 'pepsi', 'perceived', 'percent', 'perception', 'perceptions', 'percussion', 'perez', 'perfect', 'perfected', 'perfecting', 'perfection', 'perfectionism', 'perfectly', 'perfectshow', 'perform', 'performance', 'performances', 'performer', 'performing', 'performs', 'perfume', 'perfumer', 'perhapse', 'period', 'periscope', 'perks', 'perma', 'permanent', 'permanently', 'permission', 'permit', 'permits', 'permitted', 'pero', 'perpetrated', 'perpetuating', 'perps', 'perry', 'perse', 'persecuted', 'persecuting', 'persevered', 'persian', 'persians', 'persist', 'persistence', 'persky', 'person', 'personal', 'personalised', 'personality', 'personalized', 'personally', 'personesilenziose', 'personnal', 'persons', 'perspective', 'persuade', 'persuaded', 'persuadewill', 'persuit', 'peru', 'peruvian', 'peruvians', 'perveed', 'perveeds', 'peshawar', 'pesos', 'pet', 'pete', 'peter', 'petercareys', 'petes', 'petit', 'petite', 'petoskey', 'petous', 'petroleum', 'pets', 'petting', 'petty', 'pewaukee', 'peyton', 'pfc', 'pfft', 'pg', 'ph', 'phal', 'phantomaviation', 'phareels', 'pharmacy', 'pharrell', 'pharrelwilliams', 'phase', 'phases', 'phc', 'phd', 'phed', 'phelps', 'phenomenal', 'phenomenon', 'phenominal', 'pheonix', 'pherell', 'phew', 'phewww', 'phil', 'philadelphia', 'philip', 'philippines', 'philips', 'phillies', 'phillips', 'phillppines', 'phillup', 'philly', 'philosopher', 'phils', 'phipps', 'phishing', 'phit', 'pho', 'phobias', 'phobie', 'phoebe', 'phoenix', 'phone', 'phones', 'phony', 'phopos', 'phoro', 'photo', 'photocred', 'photograph', 'photographer', 'photographers', 'photographic', 'photographing', 'photographs', 'photography', 'photoi', 'photojournalist', 'photos', 'photoshoot', 'photoshootings', 'photoshoots', 'photoshopped', 'photothank', 'phq', 'phrase', 'phrases', 'phuket', 'phyllis', 'physical', 'physically', 'physicians', 'physics', 'piano', 'piazza', 'piazzetta', 'pic', 'picasso', 'pick', 'picked', 'pickin', 'picking', 'pickle', 'pickles', 'picks', 'picnic', 'pics', 'pictoftheday', 'picture', 'picturebangladeshi', 'pictured', 'pictures', 'picturesque', 'picturewouldnt', 'pictwi', 'pie', 'piece', 'pieces', 'piedmont', 'pier', 'piercer', 'piercing', 'pierson', 'piervld', 'pies', 'pig', 'pigeons', 'piggy', 'pigs', 'pigskin', 'pigwoman', 'pik', 'piket', 'piktochas', 'pil', 'pile', 'piliha', 'pilihan', 'pill', 'pillar', 'pillow', 'pillows', 'pills', 'pilot', 'pilots', 'pimpin', 'pin', 'pinata', 'pinche', 'pincher', 'pine', 'pineapple', 'pinee', 'pinery', 'pines', 'ping', 'pink', 'pinked', 'pinkpink', 'pinky', 'pinned', 'pins', 'pint', 'pinterest', 'pintrest', 'pioneers', 'pip', 'pipe', 'piped', 'pipeline', 'pipelineexciting', 'pipelines', 'pippin', 'pipz', 'piracy', 'piranaship', 'pirates', 'pisina', 'piso', 'piss', 'pissed', 'pissedoffitalian', 'pisses', 'pissing', 'pit', 'pitaji', 'pitch', 'pitched', 'piterpan', 'pithy', 'pits', 'pitti', 'pittsburgh', 'pity', 'pivo', 'pivoted', 'pix', 'pixar', 'pixel', 'pixion', 'pixiv', 'pizza', 'pizzeria', 'pj', 'pjs', 'pkn', 'pl', 'plac', 'place', 'placebo', 'placed', 'placemat', 'placement', 'placements', 'places', 'placing', 'plage', 'plagiarizes', 'plail', 'plain', 'plains', 'plaintainhad', 'plak', 'plan', 'pland', 'plane', 'planed', 'planes', 'planet', 'planets', 'planetthey', 'planks', 'planned', 'planning', 'plans', 'plant', 'plantain', 'plantation', 'plantbutler', 'planted', 'planter', 'plants', 'plaque', 'plaster', 'plasters', 'plastic', 'plate', 'plated', 'platform', 'plating', 'platinium', 'platinum', 'plato', 'play', 'playa', 'playable', 'playday', 'played', 'player', 'players', 'playground', 'playin', 'playing', 'playlist', 'playlists', 'playmats', 'playoff', 'playoffs', 'plays', 'playstation', 'playsuit', 'playtime', 'plaza', 'pleaaaseee', 'plead', 'pleasantly', 'pleased', 'pleaseee', 'pleasehelp', 'pleasure', 'pleasures', 'plebes', 'plebs', 'pledge', 'pledged', 'pleeease', 'pleeeease', 'plegable', 'plenty', 'plethora', 'plexus', 'pleyeo', 'plight', 'pll', 'plot', 'plp', 'pls', 'plse', 'plslike', 'plss', 'plug', 'plum', 'plundered', 'plurality', 'plus', 'plush', 'plushie', 'plussizebarbieconjuring', 'plymouth', 'plz', 'plzzzz', 'pm', 'pmet', 'pmln', 'pmonly', 'pms', 'pnc', 'pneumonia', 'po', 'poa', 'poable', 'poachers', 'poal', 'poc', 'pocahontas', 'pock', 'pocket', 'pockets', 'pod', 'podcast', 'podium', 'poem', 'poems', 'poeple', 'poer', 'poesham', 'poet', 'poetry', 'pofolio', 'pofolios', 'poh', 'poharcou', 'pohcawlbikehire', 'poignant', 'point', 'pointe', 'pointed', 'pointer', 'pointers', 'pointing', 'pointless', 'points', 'pointscore', 'poion', 'poise', 'poison', 'poisoning', 'poisonous', 'pokdex', 'poke', 'poker', 'pokmon', 'pol', 'poland', 'polandgoing', 'polar', 'polarisation', 'polaroid', 'pole', 'poles', 'police', 'policed', 'policeman', 'polices', 'policies', 'policing', 'policy', 'polish', 'polished', 'polite', 'politi', 'political', 'politically', 'politicalthen', 'politician', 'politicians', 'politicized', 'politicizing', 'politics', 'polka', 'poll', 'polled', 'polling', 'polls', 'pollutes', 'polluting', 'polly', 'polo', 'poloz', 'pols', 'polski', 'poman', 'pomegranate', 'ponce', 'pond', 'pondi', 'ponsanooth', 'ponte', 'pontoon', 'pony', 'poo', 'pooch', 'poofino', 'pool', 'poole', 'pools', 'poolside', 'poop', 'poor', 'poorer', 'poorest', 'poorly', 'pop', 'popcorn', 'pope', 'popey', 'popocatepetl', 'poppaaaass', 'popped', 'poppin', 'popping', 'poppins', 'poppy', 'pops', 'popsicle', 'popsy', 'popu', 'popular', 'popularity', 'population', 'por', 'porait', 'poray', 'porays', 'porcelain', 'porch', 'porchia', 'porcupine', 'pores', 'pork', 'porn', 'porno', 'pornor', 'porns', 'porntube', 'pos', 'pose', 'posed', 'poses', 'posing', 'position', 'positions', 'positive', 'positively', 'positivementalattitude', 'positivepositivepositive', 'positivethats', 'positivevibesonly', 'positivism', 'positivity', 'posse', 'posses', 'possession', 'possessions', 'possibility', 'possible', 'possibleripwe', 'possibly', 'possion', 'posso', 'post', 'postal', 'postcards', 'posted', 'poster', 'posters', 'postgame', 'posting', 'postion', 'postitnotechronicles', 'postman', 'postpone', 'posts', 'posturing', 'pot', 'potato', 'potatoes', 'potchfest', 'potential', 'potentially', 'potery', 'potholes', 'potion', 'potp', 'pots', 'potter', 'pottery', 'potus', 'pougal', 'pound', 'pounds', 'pour', 'poured', 'pouring', 'pouseeey', 'poussey', 'poussire', 'pout', 'poutine', 'pouty', 'pov', 'povey', 'poweools', 'power', 'powercables', 'powerful', 'powering', 'powerpoint', 'powers', 'pp', 'ppffttt', 'ppi', 'ppl', 'pple', 'ppleeyan', 'pplhad', 'ppls', 'pplwe', 'ppm', 'ppoppo', 'ppt', 'pr', 'practical', 'practically', 'practice', 'practices', 'practicing', 'practicum', 'practise', 'practising', 'prada', 'prado', 'prague', 'prairie', 'praise', 'praised', 'praises', 'praising', 'pram', 'pranithas', 'prank', 'prankster', 'pratt', 'pratteln', 'pray', 'prayed', 'prayer', 'prayers', 'praying', 'prays', 'pre', 'preach', 'preacher', 'preachers', 'preaching', 'precap', 'precepts', 'precincts', 'precious', 'precipitating', 'precise', 'precisely', 'precision', 'preconference', 'predators', 'predebut', 'predictable', 'predicted', 'predicting', 'predictions', 'prefect', 'prefeer', 'prefer', 'preferably', 'preference', 'preferences', 'preferring', 'prefers', 'pregnancy', 'pregnant', 'prejudice', 'prejudicial', 'prek', 'premier', 'premiere', 'premieres', 'premiership', 'premire', 'premium', 'prenup', 'preorder', 'preordered', 'prep', 'preparation', 'preparations', 'preparato', 'prepare', 'prepared', 'preparing', 'prepped', 'prerequisites', 'pres', 'prescription', 'presence', 'present', 'presentation', 'presentations', 'presented', 'presenter', 'presenting', 'presently', 'presents', 'preserve', 'presidency', 'president', 'presidental', 'presidential', 'presidents', 'presiding', 'press', 'pressed', 'presses', 'pressie', 'pressies', 'pressly', 'pressure', 'pressured', 'pressures', 'pressurise', 'pressurize', 'preston', 'presume', 'presumptive', 'pretend', 'pretended', 'pretending', 'pretends', 'pretenses', 'pretoria', 'prett', 'pretties', 'prettiest', 'pretty', 'prettyboy', 'preturnaturally', 'pretzel', 'prevail', 'prevalent', 'prevent', 'preventable', 'prevented', 'preventing', 'prevents', 'preview', 'previews', 'previous', 'previously', 'preying', 'prez', 'prezzie', 'price', 'priceless', 'prices', 'prick', 'pride', 'pridemake', 'priebus', 'priest', 'prim', 'primal', 'primaries', 'primary', 'prime', 'primed', 'primrose', 'princ', 'prince', 'princesas', 'princess', 'princesses', 'principal', 'principality', 'principi', 'principle', 'principles', 'pringles', 'print', 'printable', 'printed', 'printers', 'printing', 'prints', 'prior', 'priorities', 'prioritized', 'priority', 'prismacolor', 'prison', 'prisoners', 'privacy', 'private', 'privatize', 'priviledge', 'privilege', 'privileged', 'prix', 'prize', 'prized', 'prizes', 'prm', 'pro', 'prob', 'probab', 'probably', 'probation', 'probe', 'probed', 'probems', 'probiotics', 'problem', 'problematic', 'problemhe', 'problems', 'problm', 'probs', 'proccupied', 'proceed', 'process', 'processed', 'processso', 'proclaim', 'procreate', 'prod', 'produce', 'produced', 'producer', 'producers', 'producing', 'product', 'production', 'productions', 'productive', 'productivity', 'products', 'prof', 'profesh', 'profesor', 'profession', 'professional', 'professionalism', 'professionals', 'professions', 'professor', 'profile', 'profiled', 'profiles', 'profiling', 'profit', 'profitable', 'profiting', 'profoundly', 'profs', 'prog', 'program', 'programme', 'programmed', 'programmes', 'programming', 'programs', 'progress', 'progressing', 'progressive', 'progressives', 'progresverebel', 'prohibition', 'project', 'projected', 'projecting', 'projection', 'projects', 'prolapsed', 'proliferating', 'proliferation', 'prolly', 'prolong', 'proly', 'prom', 'promise', 'promised', 'promises', 'promising', 'promo', 'promote', 'promoted', 'promoting', 'promotion', 'promotional', 'promotions', 'prompt', 'prompter', 'prompts', 'proo', 'proof', 'proofs', 'prop', 'propaganda', 'propeaq', 'propensity', 'proper', 'properly', 'propey', 'prophet', 'proposal', 'propose', 'proposed', 'props', 'propslaptop', 'pros', 'proscar', 'prosecco', 'prosecute', 'prosecuted', 'prosecutions', 'prosecutor', 'prospect', 'prospective', 'prospects', 'prospectus', 'prosperity', 'prosperous', 'prostitute', 'prostitutes', 'prostitution', 'prote', 'protect', 'protected', 'protecting', 'protection', 'protects', 'protein', 'protest', 'protester', 'protesters', 'protesting', 'protestors', 'protests', 'protocol', 'prototype', 'proud', 'prouder', 'proudly', 'provaper', 'prove', 'proved', 'proven', 'proverb', 'proverbs', 'proves', 'provide', 'provided', 'provider', 'providers', 'provides', 'providing', 'provincempumalanga', 'provincial', 'proving', 'provision', 'provo', 'provocateur', 'provocative', 'provoking', 'prunciples', 'prussian', 'ps', 'psalm', 'psarou', 'psbs', 'pseudo', 'psp', 'psquare', 'pss', 'psssstttit', 'pssst', 'psst', 'pst', 'psu', 'psvr', 'psyched', 'psychiatrist', 'psycho', 'psychological', 'psychology', 'psychopath', 'psychopaths', 'psychosis', 'psychotic', 'psyco', 'pt', 'ptbo', 'pti', 'ptrish', 'pts', 'puase', 'pub', 'public', 'publication', 'publicity', 'publicly', 'published', 'publisher', 'publishing', 'pudding', 'puddle', 'puddles', 'puds', 'puea', 'puff', 'puffs', 'pugfaced', 'pugs', 'pugsley', 'puj', 'pujas', 'pula', 'pulitzer', 'pull', 'pulled', 'pullin', 'pulling', 'pulls', 'pulse', 'pumped', 'pumping', 'punch', 'punching', 'pundit', 'pundits', 'pune', 'punish', 'punished', 'punishing', 'punishment', 'punjab', 'punjabwhich', 'punk', 'puns', 'punted', 'pup', 'pupil', 'pupils', 'puppet', 'puppets', 'puppies', 'puppy', 'pups', 'pupupupuuuuuuh', 'pura', 'purchase', 'purchased', 'purchases', 'purchasing', 'pure', 'purfles', 'purge', 'purity', 'purple', 'purpose', 'purposedly', 'purposefully', 'purr', 'purring', 'purrs', 'purse', 'pursue', 'pursuing', 'pursuit', 'push', 'pushback', 'pushed', 'pushes', 'pushinem', 'pushing', 'pusiste', 'pussies', 'pussifucation', 'pussy', 'putdowns', 'putin', 'putins', 'puts', 'putt', 'putting', 'puzzle', 'pvd', 'pvp', 'px', 'python', 'qatar', 'qb', 'qbd', 'qbit', 'qc', 'qcs', 'qe', 'qma', 'qna', 'qnds', 'qoq', 'qpac', 'qsb', 'qt', 'qu', 'qua', 'quack', 'quad', 'quadradot', 'quads', 'quaer', 'quaerly', 'quaers', 'quaetto', 'quaint', 'quake', 'qual', 'qualification', 'qualifications', 'qualified', 'qualify', 'qualifying', 'qualities', 'quality', 'quallcom', 'qualls', 'qualy', 'quantities', 'quark', 'quay', 'quays', 'quaz', 'qubis', 'que', 'quebec', 'queen', 'queenanelisse', 'queenie', 'queens', 'queer', 'quench', 'query', 'quest', 'question', 'questioned', 'questioning', 'questions', 'queue', 'queuing', 'quezon', 'quick', 'quicker', 'quickly', 'quiet', 'quietly', 'quillen', 'quillpad', 'quintet', 'quit', 'quite', 'quits', 'quitter', 'quitting', 'quiz', 'quizzes', 'quo', 'quote', 'quoted', 'quotes', 'quotestags', 'quotiful', 'quoting', 'quran', 'qusay', 'qw', 'qzom', 'ra', 'raaaaarrrrrr', 'raalhugandu', 'rabbit', 'rabid', 'rabobank', 'rac', 'race', 'racebait', 'racecard', 'raceday', 'racehorses', 'races', 'rachaels', 'racheal', 'rachel', 'rachelpeaches', 'racheltatum', 'racial', 'racially', 'racing', 'racism', 'racist', 'racists', 'rack', 'rad', 'radiance', 'radiating', 'radiation', 'radical', 'radicali', 'radicalism', 'radicalized', 'radio', 'radityainc', 'radler', 'radulovicke', 'rae', 'raf', 'rafa', 'rafael', 'rafaellas', 'rafi', 'raft', 'rag', 'rage', 'raggin', 'raghu', 'raging', 'rags', 'ragul', 'rahe', 'raheall', 'raheel', 'rahulji', 'raid', 'raiders', 'raids', 'raiford', 'rail', 'railway', 'raimi', 'rain', 'rainbow', 'rainbows', 'raincoat', 'rained', 'rainforest', 'raining', 'rainingbut', 'rainingfor', 'rains', 'rainwater', 'rainy', 'raise', 'raised', 'raising', 'raison', 'rajan', 'rajans', 'rajeev', 'rajkuamar', 'rajo', 'rajoy', 'rakesh', 'rakhy', 'rallies', 'rally', 'rallying', 'ralph', 'ram', 'rama', 'ramadaan', 'ramadan', 'ramadanit', 'ramadans', 'ramadhan', 'ramazan', 'rambling', 'rambo', 'ramdan', 'ramenskoye', 'ramifications', 'rammed', 'ramon', 'rampant', 'ramsey', 'ramzan', 'ran', 'ranch', 'ranchi', 'randa', 'randburg', 'random', 'randomly', 'rang', 'range', 'ranger', 'rangers', 'rani', 'ranked', 'rankings', 'ranks', 'rant', 'rants', 'ranveer', 'ranveers', 'rap', 'rapacious', 'rape', 'rapebut', 'raped', 'rapes', 'rapidly', 'rapist', 'rapists', 'rapkiddo', 'rappapo', 'rapper', 'rappers', 'rapping', 'rappist', 'raptor', 'rare', 'rarely', 'rascals', 'rasebud', 'rash', 'rashford', 'raspberries', 'raspberry', 'rat', 'ratcliffe', 'rate', 'rated', 'rates', 'rating', 'ratings', 'ratio', 'rational', 'rationality', 'rationalize', 'rationally', 'raton', 'rats', 'ratty', 'ravan', 'rave', 'raven', 'raves', 'raw', 'ray', 'raya', 'rayc', 'raygun', 'raymond', 'rayos', 'rays', 'raza', 'razer', 'razor', 'rb', 'rbas', 'rbc', 'rbi', 'rbnz', 'rc', 'rd', 'rdm', 'rdp', 'reach', 'reached', 'reaches', 'reaching', 'react', 'reacted', 'reaction', 'reactionary', 'reactions', 'reactive', 'reactors', 'read', 'reader', 'readers', 'readersgazette', 'readily', 'reading', 'readingwe', 'reads', 'readto', 'ready', 'readyfoheday', 'readysetgo', 'reagan', 'reagans', 'real', 'realest', 'reali', 'realies', 'realise', 'realised', 'realism', 'realistic', 'realities', 'reality', 'realization', 'realize', 'realized', 'realizes', 'realizing', 'really', 'realm', 'realmirna', 'realness', 'realytics', 'realz', 'reap', 'reappraise', 'rear', 'rearing', 'reason', 'reasonable', 'reasonably', 'reasonnot', 'reasons', 'reasse', 'reassurance', 'reassuring', 'reba', 'rebeccacaptures', 'rebeccamoondesigns', 'rebeccas', 'rebel', 'rebih', 'rebook', 'reboot', 'reboots', 'reborn', 'rebound', 'rebounding', 'rebounds', 'rebrand', 'rebuilding', 'rebuke', 'rebuked', 'rec', 'recall', 'recanted', 'recap', 'recast', 'recce', 'recedes', 'receipt', 'receive', 'received', 'receives', 'receiving', 'recent', 'recently', 'reception', 'receptionist', 'receptions', 'recession', 'recharge', 'recharged', 'recipe', 'recipes', 'recipients', 'reciprocate', 'reciprocated', 'recirculates', 'recital', 'recite', 'recites', 'reckless', 'reckons', 'reclaimed', 'recoding', 'recognise', 'recognition', 'recognize', 'recognized', 'recognizing', 'recoils', 'recomme', 'recommend', 'recommendations', 'reconcile', 'reconcilia', 'reconciliation', 'reconfig', 'reconnect', 'reconsider', 'recorcholis', 'record', 'recorded', 'recordeven', 'recording', 'records', 'recordsmanagerv', 'recover', 'recovered', 'recovering', 'recovers', 'recovery', 'recreation', 'recreational', 'recruiting', 'recruitment', 'recruits', 'recrute', 'rectify', 'rector', 'recycled', 'red', 'redacts', 'redbook', 'redbox', 'reddish', 'reddit', 'redditori', 'reddragondas', 'reddy', 'redecorating', 'redefining', 'redemption', 'redesign', 'redesigned', 'redhead', 'redirecting', 'redken', 'redneck', 'rednecks', 'redo', 'reds', 'redtube', 'reduce', 'reduced', 'reduces', 'reducing', 'reductive', 'reed', 'reedus', 'reef', 'reefers', 'reel', 'reelection', 'reelenterprises', 'reemergence', 'ref', 'refer', 'referees', 'reference', 'references', 'referencing', 'referendum', 'referred', 'referring', 'refers', 'reffs', 'refill', 'refillable', 'refined', 'reflect', 'reflected', 'reflecting', 'reflection', 'reflections', 'reflects', 'reform', 'refresh', 'refreshed', 'refresher', 'refreshing', 'refs', 'refu', 'refugee', 'refugees', 'refund', 'refunded', 'refundnow', 'refunds', 'refurbished', 'refurbishment', 'refuse', 'refused', 'refuses', 'reg', 'regain', 'regains', 'regard', 'regarding', 'regardless', 'regards', 'regas', 'regatte', 'regent', 'regents', 'regestration', 'reggae', 'reggio', 'reggios', 'regime', 'regimeits', 'regina', 'reginald', 'region', 'regionals', 'regionbut', 'register', 'registered', 'registering', 'registration', 'registrations', 'regnant', 'rego', 'regram', 'regrann', 'regressing', 'regret', 'regrets', 'regular', 'regulated', 'regulations', 'regulator', 'regulatory', 'regurgitated', 'reh', 'rehazentrum', 'rehearsal', 'rehearsals', 'rehearse', 'rehired', 'rehmat', 'rehome', 'rehrasals', 'reich', 'reid', 'reigler', 'reincarnation', 'reince', 'reinforced', 'reinforcement', 'reinforcing', 'reinstall', 'reinstate', 'reinstated', 'reinz', 'reissue', 'reject', 'rejected', 'rejecting', 'rejection', 'rejects', 'rejoice', 'rejuvenate', 'rek', 'rel', 'rela', 'relasing', 'relate', 'related', 'relates', 'relation', 'relations', 'relationship', 'relationships', 'relative', 'relatively', 'relatives', 'relax', 'relaxation', 'relaxed', 'relaxing', 'relay', 'release', 'released', 'releases', 'releasewill', 'releasing', 'relegation', 'relentless', 'relentlessly', 'relevant', 'reliable', 'relied', 'relief', 'relieve', 'relieved', 'religion', 'religions', 'religious', 'reliogion', 'relived', 'relligion', 'relocation', 'remai', 'remain', 'remained', 'remaining', 'remains', 'remake', 'remark', 'remarkable', 'remarkably', 'remarks', 'remarque', 'remaster', 'remastered', 'remedies', 'remedy', 'rememba', 'remember', 'remembered', 'rememberi', 'remembering', 'remembers', 'remind', 'reminded', 'reminder', 'reminders', 'reminding', 'reminds', 'remiss', 'remix', 'remixed', 'remixes', 'remnants', 'remo', 'remodeling', 'remote', 'remotely', 'removal', 'remove', 'removed', 'removedhis', 'removes', 'removing', 'renaissance', 'rename', 'rendering', 'rendevous', 'rendition', 'renee', 'renegan', 'renemo', 'renew', 'renewable', 'renewal', 'renewed', 'renewing', 'renovation', 'renovations', 'renowned', 'rent', 'rental', 'rented', 'renting', 'reopen', 'rep', 'repaired', 'repatriating', 'repeat', 'repeated', 'repeating', 'repeatingthe', 'repeats', 'repetitive', 'rephrase', 'replace', 'replaced', 'replacement', 'replaces', 'replacing', 'replay', 'replayed', 'replaying', 'replicastuk', 'replied', 'replies', 'reply', 'replying', 'repo', 'repoed', 'repoer', 'repoerd', 'repoers', 'repoing', 'repos', 'repost', 'repostapp', 'reposted', 'repostinstamood', 'repostsoffierose', 'repping', 'reprehensible', 'represent', 'representation', 'representations', 'representative', 'representatives', 'represented', 'representing', 'represents', 'repressive', 'reprint', 'reproductive', 'reps', 'republic', 'republican', 'republicans', 'repug', 'repugnant', 'repulsion', 'repulsive', 'repurposed', 'reputation', 'request', 'requested', 'requests', 'required', 'requirement', 'requires', 'rere', 'reschedule', 'rescue', 'rescued', 'research', 'researched', 'researcher', 'researchers', 'researching', 'reseller', 'resent', 'reservation', 'reserved', 'reservoir', 'reset', 'reshape', 'residance', 'residence', 'residency', 'resident', 'residential', 'residents', 'resign', 'resignation', 'resignations', 'resigned', 'resigns', 'resiliency', 'resist', 'resistance', 'resistant', 'resisted', 'resnick', 'reso', 'resolution', 'resolve', 'resolved', 'reson', 'resonating', 'resos', 'resounding', 'resource', 'resources', 'respect', 'respected', 'respecting', 'respects', 'respond', 'responded', 'responder', 'responders', 'responding', 'responds', 'response', 'responses', 'responsibilities', 'responsibility', 'responsible', 'rest', 'restaurant', 'restaurants', 'resting', 'restless', 'restorante', 'restore', 'restored', 'restrained', 'restricted', 'restructure', 'resty', 'result', 'resultant', 'resulting', 'results', 'resume', 'resumes', 'resurface', 'resurrected', 'retail', 'retailer', 'retailers', 'retain', 'retainers', 'retaliated', 'retard', 'retarded', 'retardo', 'retches', 'rethink', 'retimed', 'retire', 'retirement', 'reto', 'retos', 'retrain', 'retreat', 'retreats', 'retro', 'return', 'returned', 'returngenesis', 'returning', 'returninstead', 'returns', 'returnssss', 'retweet', 'retweeted', 'retweeting', 'retweets', 'reunion', 'reunite', 'reunited', 'reutersbiz', 'rev', 'reveal', 'revealed', 'revealing', 'revealingit', 'reveals', 'revenge', 'revenue', 'reverie', 'reversal', 'reverse', 'reversed', 'reversegraffiti', 'reverses', 'reversing', 'review', 'reviewer', 'reviewing', 'reviews', 'revised', 'revises', 'revision', 'revisions', 'revival', 'revive', 'revives', 'revolted', 'revoltingly', 'revolts', 'revolution', 'revolutionise', 'revolutionist', 'revs', 'revving', 'reward', 'rewarding', 'rewards', 'rewardsgg', 'rewatch', 'rewatching', 'rewelcome', 'rewind', 'rewires', 'reworking', 'rewrite', 'rewrote', 'rexes', 'rexy', 'rez', 'rezwan', 'rf', 'rg', 'rhapsody', 'rhetoric', 'rhett', 'rhino', 'rhinos', 'rhny', 'rhoda', 'rhodes', 'rhodesia', 'rhodonite', 'rhonda', 'rhs', 'rhymes', 'rhythm', 'rib', 'rica', 'rice', 'rich', 'richard', 'richards', 'richardson', 'richest', 'richie', 'richmond', 'rick', 'rickards', 'rickerby', 'rickityrick', 'ricky', 'rickyh', 'rico', 'rid', 'rida', 'ridda', 'riddance', 'ridden', 'ride', 'rider', 'riders', 'ridge', 'ridiculed', 'ridiculous', 'ridiculously', 'ridiculousness', 'ridin', 'riding', 'rids', 'riehle', 'rife', 'riff', 'rifle', 'rifles', 'rift', 'riga', 'rigged', 'rigging', 'right', 'righteous', 'righteousbhakt', 'rightful', 'rightfully', 'rightie', 'rightist', 'rightly', 'rights', 'righty', 'rihanna', 'rik', 'riley', 'rim', 'rima', 'rin', 'ring', 'ringed', 'ringer', 'ringing', 'rings', 'rink', 'rinna', 'rinpoche', 'rinpoches', 'rio', 'riot', 'rioting', 'riots', 'rip', 'riposte', 'ripped', 'rips', 'rise', 'rises', 'risha', 'rising', 'risk', 'risks', 'risky', 'rita', 'rite', 'riteish', 'rittenhouse', 'rituals', 'ritz', 'river', 'rivers', 'riviera', 'rixos', 'riyadh', 'rj', 'rku', 'rly', 'rm', 'rmb', 'rn', 'rnc', 'rnr', 'ro', 'roa', 'roaches', 'road', 'roads', 'roam', 'roamin', 'roar', 'roaring', 'roast', 'roasting', 'rob', 'robb', 'robben', 'robbie', 'robbing', 'robbins', 'robe', 'robeson', 'robesons', 'robin', 'robinson', 'robinwood', 'robson', 'robust', 'rochefoucauld', 'rock', 'rocket', 'rockies', 'rockin', 'rocking', 'rocks', 'rockstar', 'rockstars', 'rod', 'rode', 'rodeio', 'rodent', 'rodeo', 'rodriguez', 'rodriques', 'rodriquez', 'rods', 'roel', 'roelant', 'roger', 'rogue', 'rohan', 'rohn', 'rohnabsolute', 'roi', 'roju', 'rola', 'roland', 'rolando', 'role', 'roleplayer', 'roles', 'roll', 'rolled', 'roller', 'rollercoasters', 'rolling', 'rollins', 'rolls', 'rom', 'romain', 'romance', 'romancehe', 'romania', 'romans', 'romantic', 'rome', 'romeo', 'romney', 'ron', 'ronaldo', 'ronan', 'ronda', 'ronery', 'ronf', 'ronnie', 'roof', 'roofs', 'rooftop', 'rooftops', 'rookery', 'rooks', 'room', 'roomie', 'roommates', 'rooms', 'rooney', 'rooom', 'roosevelt', 'rooster', 'root', 'rooted', 'rooting', 'roots', 'rope', 'roque', 'rory', 'rosalee', 'rosalinda', 'rosario', 'rose', 'roseanne', 'rosemond', 'roses', 'rosesanddaydreams', 'rosie', 'rosieeannx', 'ross', 'rossana', 'roswell', 'rot', 'rotakids', 'rotation', 'rother', 'rotten', 'rotterdam', 'rottweilers', 'rouge', 'rough', 'roughly', 'roumayne', 'round', 'rounder', 'rounders', 'rounding', 'roundtable', 'roundup', 'rouse', 'rouses', 'rousey', 'rout', 'route', 'routine', 'routines', 'rover', 'row', 'rowling', 'rowlings', 'rows', 'roxborough', 'roxe', 'roxie', 'roxys', 'roy', 'royal', 'royale', 'royalorchid', 'royalty', 'royaltyrenames', 'royce', 'roza', 'rozay', 'rp', 'rpers', 'rpg', 'rps', 'rptlafamilya', 'rr', 'rrrr', 'rrrreeeeennn', 'rs', 'rsequeira', 'rss', 'rssxactaccounts', 'rsvp', 'rub', 'rubbing', 'rubbish', 'rube', 'ruben', 'rubes', 'rubiks', 'rubio', 'rubs', 'ruby', 'rudd', 'rude', 'rue', 'rug', 'rugby', 'rugged', 'ruin', 'ruined', 'ruining', 'ruins', 'ruiz', 'rul', 'rule', 'ruled', 'rules', 'ruling', 'rumba', 'rumble', 'rumbling', 'rumbo', 'rumi', 'rumor', 'rumours', 'run', 'runa', 'runbeck', 'runners', 'running', 'runny', 'runs', 'runway', 'rupe', 'rus', 'rush', 'rushed', 'rushhour', 'rushing', 'russell', 'russellbeckwith', 'russia', 'russian', 'russians', 'ruth', 'ruthless', 'rutland', 'rv', 'rva', 'rwnj', 'rwnjs', 'ry', 'ryan', 'ryder', 'ryderrideu', 'rykard', 'ryt', 'sa', 'saaaaaaaaa', 'saaaaaaaaaan', 'saad', 'sab', 'saban', 'sabaoth', 'sabbath', 'sabbathday', 'sabbatical', 'sabe', 'sabes', 'sabon', 'sabotage', 'sabotaged', 'sabr', 'sach', 'sack', 'sacked', 'saco', 'sacramento', 'sacred', 'sacrifice', 'sacrificed', 'sacrifices', 'sacrificing', 'sacrilege', 'sad', 'sadagaintweet', 'saddened', 'saddens', 'sadder', 'saddest', 'saddie', 'saddle', 'saddles', 'sadfor', 'sadhere', 'sadhvi', 'sadi', 'sadie', 'sadistic', 'sadley', 'sadly', 'sadness', 'sadno', 'sadu', 'sadwav', 'safari', 'safe', 'safely', 'safer', 'safety', 'saffas', 'safrron', 'sagarika', 'sage', 'sahaja', 'sahara', 'sahib', 'saholat', 'sahri', 'sahurand', 'sahurit', 'sai', 'said', 'saidfather', 'saidof', 'sailboat', 'sailor', 'sainsburys', 'saint', 'saints', 'sairam', 'sairas', 'sajnani', 'sake', 'sakesstop', 'sakestephen', 'sakura', 'salad', 'salam', 'salamat', 'salaries', 'salary', 'salata', 'sale', 'saleh', 'salento', 'sales', 'salesmen', 'salford', 'salla', 'salman', 'salmon', 'salon', 'salons', 'salsa', 'salt', 'saltseasand', 'salty', 'salut', 'salutbut', 'salute', 'salvadoran', 'salvage', 'salvation', 'salver', 'sam', 'sama', 'samantha', 'sammaki', 'sample', 'samples', 'sampling', 'sams', 'samsung', 'samu', 'samuel', 'san', 'sana', 'sanadid', 'sanctioned', 'sanctity', 'sanctuary', 'sand', 'sanders', 'sandiegozoo', 'sandler', 'sandlot', 'sandoval', 'sandra', 'sands', 'sandstones', 'sandwhich', 'sandwich', 'sandwiches', 'sandy', 'sandyscandybags', 'sanfilippo', 'sang', 'sangeeth', 'sangria', 'sania', 'sanibel', 'sanity', 'sanjay', 'sanogo', 'sans', 'santa', 'santagnese', 'santorini', 'santoro', 'saoirse', 'saorial', 'sapot', 'sar', 'sara', 'sarah', 'sarahmagarey', 'sarajevo', 'sarap', 'sarcasm', 'sarcastic', 'sardinia', 'sargaams', 'saruman', 'sas', 'saskatchewan', 'sassy', 'sat', 'satanic', 'satans', 'satb', 'satellite', 'satisfaction', 'satisfied', 'satisfy', 'satisfying', 'satnight', 'satnite', 'sattineferrety', 'saturda', 'saturday', 'saturdayis', 'saturdays', 'saturdayzorro', 'sauce', 'sauces', 'saudi', 'saudis', 'sauli', 'saundra', 'sausage', 'sauteed', 'savage', 'savagery', 'savageryn', 'savages', 'savannah', 'savchenko', 'save', 'savebut', 'saved', 'savege', 'saver', 'savers', 'saves', 'saviles', 'saving', 'savings', 'savoryandsweetfood', 'saw', 'sawyer', 'say', 'sayaa', 'sayeth', 'sayin', 'saying', 'sayng', 'says', 'saythis', 'saza', 'sb', 'sborn', 'sbs', 'sc', 'scalds', 'scale', 'scaling', 'scalpers', 'scam', 'scammed', 'scamming', 'scan', 'scandal', 'scandals', 'scanning', 'scapegoat', 'scapelliti', 'scar', 'scarborough', 'scarce', 'scare', 'scarecrow', 'scared', 'scaredy', 'scares', 'scarf', 'scarlet', 'scars', 'scary', 'scatter', 'scattered', 'scavenger', 'scenario', 'scene', 'scenery', 'scenes', 'scenic', 'scent', 'schadenfreude', 'schedule', 'scheduled', 'scheduling', 'scheidet', 'scheme', 'scheming', 'schmidt', 'scholar', 'scholarship', 'scholtz', 'school', 'schoolboys', 'schoolday', 'schoolers', 'schoolgirl', 'schooling', 'schools', 'schoolyard', 'schueler', 'schuster', 'sci', 'science', 'scientific', 'scientifically', 'scientists', 'scoc', 'scoff', 'scolds', 'scoop', 'scoopwhoopnews', 'scooter', 'scooting', 'scope', 'scorching', 'score', 'scores', 'scoring', 'scotiabank', 'scotland', 'scott', 'scottish', 'scottsboro', 'scotus', 'scourge', 'scout', 'scouted', 'scouting', 'scouts', 'scrab', 'scrabble', 'scraggly', 'scrambled', 'scrapping', 'scraps', 'scratch', 'scratched', 'scratching', 'scream', 'screamin', 'screaming', 'screams', 'screen', 'screened', 'screening', 'screens', 'screenshot', 'screenshots', 'screw', 'screwed', 'screws', 'script', 'scripts', 'scripture', 'scroll', 'scrolled', 'scrolling', 'scrolls', 'scrub', 'scrubbg', 'scrubs', 'scrumy', 'scsu', 'scuba', 'scuffle', 'sculpted', 'scum', 'scumbag', 'scunthorpe', 'scurvy', 'scute', 'sd', 'sday', 'sdcc', 'sdob', 'sds', 'se', 'sea', 'seaboard', 'seabreeze', 'seafront', 'seagull', 'seal', 'sealed', 'sean', 'seaquarium', 'search', 'searching', 'seashellcounseling', 'seaside', 'season', 'seasonal', 'seasone', 'seasoned', 'seasons', 'seat', 'seatand', 'seated', 'seats', 'seattle', 'seaworld', 'seba', 'sebastian', 'sebbo', 'sec', 'second', 'secondary', 'seconds', 'secret', 'secretly', 'secrets', 'section', 'sections', 'sector', 'secular', 'secure', 'secured', 'secures', 'securing', 'security', 'sed', 'sedaris', 'sedikit', 'seduced', 'seduction', 'seed', 'seeded', 'seedless', 'seedlings', 'seeds', 'seein', 'seeing', 'seek', 'seeked', 'seekers', 'seeking', 'seeks', 'seemore', 'seemz', 'seen', 'seengreat', 'sees', 'sef', 'segment', 'segregate', 'seibu', 'seize', 'seized', 'seizure', 'sejong', 'sektor', 'selah', 'selamat', 'seldom', 'select', 'selected', 'selection', 'selections', 'selena', 'selenaa', 'self', 'selfie', 'selfies', 'selfish', 'selfishness', 'selfs', 'sell', 'seller', 'sellers', 'selling', 'sells', 'selves', 'semana', 'semantics', 'semen', 'semenya', 'semest', 'semester', 'semi', 'semifinals', 'seminar', 'seminars', 'seminary', 'seminole', 'semis', 'semite', 'semitic', 'semitism', 'semmester', 'semoga', 'sen', 'senad', 'senate', 'senator', 'senators', 'send', 'sender', 'sending', 'sends', 'senior', 'seniors', 'sensationalizing', 'sense', 'senseless', 'senselessly', 'senses', 'sensing', 'sensitive', 'sensual', 'sent', 'senta', 'sentence', 'sentences', 'sentencing', 'sentiment', 'sentiments', 'sentlel', 'seo', 'seong', 'seoul', 'sep', 'separate', 'separation', 'sepatu', 'sephora', 'seprates', 'sept', 'september', 'sequel', 'sequence', 'sequester', 'sequoia', 'serafini', 'serco', 'serenity', 'sergei', 'serie', 'series', 'seriously', 'seriouslyslow', 'serive', 'serpents', 'servant', 'servants', 'serve', 'served', 'server', 'servers', 'serves', 'service', 'services', 'serving', 'sesh', 'session', 'sessions', 'set', 'seth', 'setia', 'sets', 'setting', 'settle', 'settlement', 'settlementjust', 'settlements', 'settling', 'setup', 'seunggi', 'seussical', 'seven', 'sevenfold', 'seventeen', 'seventh', 'seventies', 'severely', 'sevierville', 'sevral', 'sew', 'sewage', 'sewer', 'sewing', 'sewn', 'sex', 'sexest', 'sexgirl', 'sexiness', 'sexism', 'sexist', 'sexpes', 'sexting', 'sexual', 'sexuality', 'sexualityreligion', 'sexy', 'sexyfriday', 'seychelles', 'sf', 'sg', 'sgetsh', 'sgi', 'sgow', 'sgv', 'sh', 'sha', 'shaan', 'shabbat', 'shabby', 'shackles', 'shacks', 'shaddai', 'shade', 'shades', 'shadier', 'shadow', 'shadowed', 'shadows', 'shady', 'shafted', 'shafts', 'shag', 'shagged', 'shaggy', 'shahtaj', 'shahzadian', 'shaibu', 'shairi', 'shake', 'shakeology', 'shakes', 'shakespeare', 'shakeys', 'shakib', 'shaking', 'shakur', 'shaky', 'shalan', 'shall', 'shallow', 'shame', 'shameful', 'shameless', 'shaming', 'shampoo', 'shana', 'shandy', 'shane', 'shanghai', 'shangri', 'shanklin', 'shantel', 'shanti', 'shape', 'shaped', 'shapeshifting', 'shappy', 'shard', 'share', 'shared', 'sharefood', 'shareholder', 'shares', 'sharia', 'sharif', 'sharing', 'sharingwe', 'shark', 'sharks', 'sharna', 'sharp', 'sharpens', 'sharper', 'sharply', 'sharpton', 'sharrod', 'shaterirunnels', 'shatter', 'shattered', 'shaun', 'shave', 'shaved', 'shaw', 'shawarma', 'shawn', 'shawnachor', 'shawnee', 'shaws', 'shays', 'shears', 'sheboutit', 'shed', 'shedding', 'shedule', 'sheeeeshhh', 'sheep', 'sheer', 'sheeran', 'sheet', 'sheets', 'sheffield', 'sheikh', 'sheila', 'shelburne', 'shelf', 'shell', 'shelley', 'shells', 'shelter', 'shelves', 'shelvey', 'shenanigans', 'sheople', 'shepherd', 'shepherds', 'sheree', 'sheriff', 'sherlock', 'sherman', 'sherrifs', 'sheryls', 'shes', 'shetty', 'shezi', 'shhhh', 'shhhhhhhe', 'shi', 'shia', 'shid', 'shiekha', 'shield', 'shift', 'shifted', 'shifts', 'shikar', 'shikari', 'shikarifull', 'shiless', 'shill', 'shillary', 'shilpa', 'shimla', 'shine', 'shines', 'shinhyes', 'shining', 'shinning', 'shinny', 'ship', 'shipments', 'shipped', 'shippers', 'shipping', 'shipwrecked', 'shirley', 'shis', 'shit', 'shitfest', 'shitheads', 'shitim', 'shitload', 'shitter', 'shitty', 'shity', 'shitz', 'shizz', 'shizzz', 'shld', 'shloshim', 'sho', 'shoage', 'shoal', 'shock', 'shocked', 'shocker', 'shocking', 'shockingly', 'shoe', 'shoebox', 'shoeing', 'shoener', 'shoer', 'shoes', 'shojust', 'shoking', 'shola', 'sholist', 'sholisted', 'sholy', 'shone', 'shoo', 'shools', 'shoot', 'shooter', 'shooters', 'shootin', 'shooting', 'shootings', 'shootingsthis', 'shoots', 'shop', 'shopaholics', 'shopes', 'shopped', 'shopper', 'shoppers', 'shopping', 'shops', 'shopwise', 'shore', 'shos', 'shot', 'shotgun', 'shots', 'shou', 'shoulda', 'shoulder', 'shouldnt', 'shout', 'shouted', 'shouting', 'shoutout', 'shouts', 'shovel', 'shoving', 'showcase', 'showcases', 'showcasing', 'showed', 'shower', 'showering', 'showers', 'showguide', 'showi', 'showing', 'shown', 'shownu', 'showroom', 'shows', 'showtime', 'shoys', 'shrank', 'shred', 'shrek', 'shrewsbury', 'shri', 'shrimp', 'shrink', 'shrinks', 'shrouded', 'sht', 'shuaibu', 'shud', 'shuffle', 'shuffling', 'shumpes', 'shut', 'shutdown', 'shuts', 'shutterbug', 'shutting', 'shuttle', 'shwgrl', 'shy', 'shyan', 'shyintruder', 'shyster', 'shyt', 'si', 'sia', 'siberian', 'siblings', 'sibs', 'sic', 'sick', 'sickening', 'sickens', 'sicker', 'sicki', 'sickness', 'sickular', 'sid', 'siddiq', 'siddique', 'sidecar', 'sided', 'sidei', 'sides', 'sidewalk', 'sideways', 'sidmin', 'sidney', 'siege', 'sieges', 'siempre', 'siestas', 'sigh', 'sighs', 'sight', 'sign', 'signal', 'signals', 'signature', 'signed', 'significant', 'signing', 'signings', 'signs', 'silence', 'silenced', 'silent', 'silhouettes', 'sili', 'siliguri', 'silky', 'sillies', 'silliest', 'silly', 'silsbee', 'silva', 'silver', 'silverado', 'silveragatka', 'silvergate', 'sim', 'simba', 'simbone', 'simcoe', 'similar', 'similarly', 'simm', 'simmons', 'simon', 'simons', 'simonstone', 'simple', 'simpleclean', 'simpler', 'simples', 'simplest', 'simpleton', 'simplicity', 'simplified', 'simplistic', 'simply', 'simplyvetterojo', 'simpson', 'sims', 'simulation', 'simulator', 'sin', 'sinai', 'sinal', 'sincerely', 'sincerest', 'sindy', 'sinesh', 'sing', 'singalong', 'singapore', 'singer', 'singers', 'singh', 'singhcuz', 'singing', 'single', 'singles', 'sings', 'sink', 'sinker', 'sinking', 'sinks', 'sino', 'sins', 'sip', 'sipiso', 'sipped', 'sippigrip', 'sippy', 'sips', 'sir', 'sire', 'sirens', 'sirf', 'siri', 'siriusxm', 'sirjee', 'sirjerry', 'sirrr', 'sirs', 'sis', 'sisher', 'sisko', 'sismographe', 'siste', 'sister', 'sisterhood', 'sisters', 'sit', 'sitcom', 'site', 'sites', 'sitges', 'sits', 'sitting', 'situation', 'situations', 'situtation', 'sivakoratala', 'sixteen', 'sixth', 'sixties', 'size', 'sized', 'sizes', 'sizing', 'sizzle', 'skank', 'skanks', 'skate', 'skater', 'skating', 'skegness', 'skellefte', 'skeptical', 'skeptics', 'sketch', 'sketchbook', 'sketchbooks', 'sketches', 'sketchy', 'skewed', 'ski', 'skies', 'skiing', 'skill', 'skilled', 'skills', 'skillset', 'skin', 'skincare', 'skinned', 'skinny', 'skinnywraps', 'skip', 'skipped', 'skipping', 'skips', 'skipton', 'skit', 'sklep', 'skool', 'skrillex', 'skull', 'skv', 'sky', 'skyf', 'skyline', 'skype', 'skyrim', 'sl', 'slack', 'slag', 'slam', 'slammed', 'slamming', 'slamminjamminon', 'slams', 'slander', 'slandered', 'slandering', 'slant', 'slanted', 'slap', 'slapped', 'slapping', 'slaps', 'slash', 'slaughter', 'slaughtered', 'slaughterhouse', 'slaughtering', 'slave', 'slavery', 'slaves', 'slay', 'sleaze', 'sleazy', 'sleazyjet', 'sleeeeep', 'sleep', 'sleepbe', 'sleeping', 'sleepless', 'sleepover', 'sleepovers', 'sleeps', 'sleepy', 'sleeve', 'sleeves', 'slept', 'slew', 'slice', 'sliced', 'slices', 'slide', 'slides', 'sliding', 'slightly', 'slim', 'slime', 'slimmer', 'slimming', 'slip', 'slipmatt', 'slipperamazing', 'slips', 'slit', 'slithering', 'slo', 'slob', 'slobbering', 'slocombe', 'slogan', 'slooooowww', 'slot', 'sloth', 'slots', 'slovakia', 'slove', 'slow', 'slowdown', 'slower', 'slowing', 'slowly', 'slowtoo', 'slowtweet', 'slp', 'slug', 'slugg', 'slumps', 'slur', 'slurr', 'slurs', 'slush', 'slut', 'sluts', 'slutty', 'slytherin', 'sm', 'sma', 'smack', 'smacks', 'smaen', 'smaer', 'small', 'smaller', 'smallest', 'smaphones', 'smark', 'smash', 'smashed', 'smashedand', 'smashes', 'smdh', 'sme', 'smear', 'smearing', 'smears', 'smell', 'smells', 'smfh', 'smh', 'smhsadreal', 'smiiiiiiiile', 'smile', 'smilei', 'smilelaugh', 'smilemore', 'smilemy', 'smiles', 'smileselfie', 'smiley', 'smileyour', 'smilin', 'smiling', 'smilinglet', 'smille', 'smith', 'smiths', 'smjhe', 'smmfh', 'smog', 'smoke', 'smoked', 'smokes', 'smokey', 'smokin', 'smoking', 'smoky', 'smooth', 'smoother', 'smoothie', 'smoothies', 'smores', 'smpa', 'sms', 'smss', 'smth', 'smthg', 'smug', 'smugglers', 'smwhere', 'smyrna', 'smythe', 'sn', 'snack', 'snacks', 'snafu', 'snails', 'snake', 'snap', 'snaparazzi', 'snapchat', 'snapchater', 'snapchats', 'snapped', 'snapple', 'snappy', 'snaps', 'snapseed', 'snarky', 'snatam', 'snatch', 'snatched', 'snatching', 'snb', 'snd', 'sneak', 'sneakdissin', 'sneaked', 'sneaks', 'sneaky', 'sneers', 'sneha', 'sneijder', 'snetteon', 'sniff', 'sniffed', 'snip', 'snookums', 'snoop', 'snooze', 'snoozes', 'snorkel', 'snorkeling', 'snotalife', 'snow', 'snowball', 'snowboarding', 'snowed', 'snowflake', 'snowpeople', 'snug', 'snuggle', 'snuggled', 'snuggles', 'snupe', 'soak', 'soaked', 'soaking', 'soaks', 'soap', 'soapbox', 'soar', 'sob', 'sobbing', 'sober', 'sobering', 'sobs', 'soc', 'socafrenzy', 'soccer', 'socgen', 'social', 'socialism', 'socialist', 'socialists', 'socialized', 'socially', 'societal', 'societies', 'society', 'societyfeelings', 'societys', 'socio', 'sociopath', 'sociopaths', 'sock', 'socks', 'socksgoing', 'socute', 'soda', 'sodality', 'sodden', 'sodium', 'sodom', 'soed', 'soetimes', 'sof', 'sofa', 'sofia', 'sofrita', 'soft', 'software', 'soggy', 'soghat', 'sogorka', 'soheil', 'sohni', 'soho', 'soi', 'soing', 'sol', 'sold', 'soldiers', 'sole', 'soleluna', 'soles', 'solid', 'solidarity', 'solitary', 'solo', 'soloman', 'solomon', 'solution', 'solutions', 'solvay', 'solve', 'solved', 'som', 'somalia', 'somalis', 'somdecamp', 'somebody', 'somebodys', 'someday', 'somedaysomeone', 'someones', 'somerset', 'somethin', 'somethings', 'somethink', 'someway', 'somewhat', 'somme', 'somn', 'somone', 'son', 'sonam', 'sonata', 'sone', 'song', 'songcalledbe', 'songrise', 'songs', 'songtell', 'sonia', 'sonic', 'sonnet', 'sonny', 'sono', 'sonofthemoonid', 'sonrie', 'sons', 'soo', 'soomanday', 'soon', 'sooner', 'soonest', 'sooo', 'soooo', 'sooooo', 'soooooo', 'sooooooon', 'soooooooooo', 'soothe', 'soothing', 'soph', 'sophia', 'sophie', 'sophisticated', 'sophistication', 'soppy', 'soprano', 'sorana', 'sorbonne', 'sore', 'soror', 'sorority', 'soros', 'sorria', 'sorrow', 'sorrows', 'sorry', 'sos', 'sothis', 'sought', 'soul', 'soulful', 'soulightmovement', 'soulless', 'soulmate', 'soulmates', 'soulmatethe', 'souls', 'soulsthey', 'soultrain', 'soumya', 'sound', 'soundbite', 'soundcloud', 'sounded', 'sounders', 'sounding', 'sounds', 'soundtrack', 'soup', 'sour', 'source', 'sourcenation', 'sources', 'south', 'southampton', 'southbound', 'southern', 'southpo', 'southwest', 'southwests', 'sovereign', 'sovereignty', 'sow', 'sowhos', 'sows', 'soy', 'sp', 'spa', 'spaanburg', 'space', 'spaces', 'spacing', 'spad', 'spade', 'spagetti', 'spaghetti', 'spain', 'spam', 'spaniel', 'spanish', 'spanking', 'spar', 'spare', 'spared', 'spark', 'sparkle', 'sparkled', 'sparkles', 'sparkling', 'sparkly', 'sparks', 'sparky', 'sparrow', 'spate', 'spawn', 'spawned', 'speak', 'speaker', 'speakers', 'speaking', 'speaks', 'spearhead', 'special', 'specialists', 'specials', 'species', 'specific', 'specifically', 'specimens', 'spectacle', 'spectacles', 'spectacular', 'spectators', 'spectrum', 'speculative', 'speech', 'speeches', 'speechless', 'speed', 'speedfest', 'speeding', 'speedway', 'spell', 'spellcheck', 'spelled', 'spellings', 'spemark', 'spencer', 'spend', 'spendig', 'spending', 'spends', 'speno', 'spent', 'spew', 'spewed', 'spewing', 'spf', 'sphere', 'spice', 'spiced', 'spicy', 'spider', 'spiderman', 'spiderwebiness', 'spidey', 'spies', 'spike', 'spikes', 'spilled', 'spin', 'spinach', 'spinal', 'spindle', 'spine', 'spineless', 'spinning', 'spins', 'spira', 'spiral', 'spiraling', 'spirit', 'spirited', 'spirits', 'spiritual', 'spiritually', 'spit', 'spitballs', 'spiteful', 'spitting', 'spl', 'splash', 'splendid', 'splendor', 'split', 'splurge', 'spnd', 'spo', 'spoil', 'spoiled', 'spoiledideas', 'spoilers', 'spoiling', 'spoilt', 'spoing', 'spoke', 'spoken', 'spokesperson', 'spongebob', 'sponsor', 'sponsored', 'sponsoring', 'sponsors', 'spontaneity', 'spontaneous', 'spontaneously', 'spoon', 'sporadic', 'spos', 'sposcaster', 'sposwriters', 'spot', 'spotify', 'spotlight', 'spots', 'spotted', 'spout', 'spouting', 'spray', 'sprayed', 'spre', 'spread', 'spreading', 'spree', 'spreydon', 'spring', 'springburn', 'springer', 'springs', 'springsteen', 'springtime', 'sprinkler', 'sprint', 'sprout', 'sprudelhof', 'spun', 'spuntino', 'spurgeon', 'spy', 'sqeuling', 'squad', 'squadgirls', 'square', 'squarepants', 'squashed', 'squeaking', 'squee', 'squeeee', 'squeeze', 'squid', 'squidge', 'squiin', 'squirrel', 'squirrels', 'sr', 'sree', 'sri', 'srilanka', 'srilankanboyssex', 'srk', 'srry', 'ss', 'ssihave', 'ssnaddresshome', 'ssnit', 'ssr', 'sssso', 'sssssoooo', 'sswain', 'st', 'sta', 'stab', 'stabbed', 'stabbing', 'stabilisers', 'stability', 'stable', 'stack', 'stacked', 'stacy', 'stadium', 'stadiums', 'staed', 'staer', 'staersas', 'staff', 'staffordshire', 'stag', 'stage', 'staged', 'stages', 'staging', 'stagnates', 'stain', 'staing', 'stainless', 'staircase', 'stairs', 'stairway', 'staled', 'stalets', 'stalk', 'stalked', 'stalkers', 'stalking', 'stall', 'stalling', 'stamford', 'stamp', 'stan', 'stance', 'stand', 'standard', 'standards', 'standby', 'standing', 'standings', 'stands', 'stanford', 'stangmore', 'stanley', 'stans', 'stantons', 'stapls', 'star', 'starbucks', 'starburst', 'starch', 'stared', 'starfish', 'starfleet', 'stargaze', 'starin', 'staring', 'stark', 'starkes', 'starlight', 'starlink', 'starring', 'stars', 'starship', 'starstruck', 'starve', 'starvingbut', 'stas', 'stasnow', 'state', 'statedey', 'statement', 'statementdoubling', 'statements', 'states', 'statesman', 'statham', 'station', 'statistic', 'statistics', 'stats', 'status', 'staup', 'stauplister', 'stay', 'staycation', 'stayed', 'staying', 'stays', 'stead', 'steady', 'steak', 'steakhouse', 'steaks', 'steal', 'stealing', 'steals', 'steam', 'steamed', 'steamg', 'steel', 'steeles', 'steeped', 'steer', 'stef', 'stefani', 'stein', 'steiner', 'steinway', 'stella', 'stellar', 'stem', 'stems', 'steong', 'step', 'stepdad', 'steph', 'stephanie', 'stephen', 'stephens', 'stepmom', 'stepped', 'stepping', 'steps', 'stereo', 'stereotype', 'stereotypes', 'stereotyping', 'sterling', 'stern', 'steve', 'steven', 'steward', 'stfu', 'stfuuuuu', 'stick', 'sticker', 'stickers', 'sticking', 'stickney', 'sticks', 'stiff', 'stigma', 'stigmatize', 'stil', 'stillbmx', 'stillrest', 'stills', 'stimulates', 'stinking', 'stinks', 'stinky', 'stint', 'stints', 'stirrups', 'stirs', 'stitch', 'stitches', 'stkng', 'stl', 'stlouis', 'stm', 'stmu', 'stnd', 'sto', 'stock', 'stocked', 'stockholm', 'stocking', 'stockings', 'stockpiles', 'stocks', 'stodda', 'stoke', 'stoked', 'stole', 'stolen', 'stomach', 'stomping', 'stone', 'stoned', 'stones', 'stood', 'stooge', 'stoop', 'stoopid', 'stop', 'stopcant', 'stoppe', 'stopped', 'stopping', 'stops', 'storage', 'store', 'stored', 'storehouse', 'stores', 'stories', 'stork', 'storm', 'stormchaser', 'storms', 'stormwind', 'story', 'storyline', 'storylineso', 'storysanta', 'stowe', 'stpaulslondon', 'stpeters', 'str', 'straght', 'straight', 'straighten', 'straightening', 'straights', 'strain', 'stranded', 'strane', 'strange', 'strangely', 'stranger', 'strangers', 'strap', 'strapped', 'strat', 'strategies', 'strategy', 'stratford', 'straw', 'strawberries', 'strawberry', 'strawbs', 'strawmen', 'straws', 'stray', 'strayer', 'strayhorn', 'streak', 'streaks', 'stream', 'streaming', 'streams', 'streep', 'street', 'streetcar', 'streetdance', 'streets', 'strength', 'strengthen', 'strengthens', 'strengths', 'stress', 'stressed', 'stressing', 'stretch', 'stretched', 'strict', 'strictly', 'strident', 'strides', 'strife', 'strike', 'striker', 'strikes', 'string', 'strings', 'strip', 'stripe', 'striped', 'stripes', 'striping', 'stripper', 'strips', 'strive', 'striving', 'strix', 'strngshhhh', 'stro', 'stroke', 'strokes', 'stroll', 'stroller', 'strolling', 'stromboooooooli', 'stron', 'strong', 'stronger', 'strongest', 'strongindependent', 'strongly', 'strongthanks', 'struck', 'structure', 'structured', 'structures', 'struggle', 'struggles', 'struggling', 'strugglings', 'stua', 'stuakenyon', 'stubborn', 'stuck', 'stud', 'studded', 'studebaker', 'student', 'students', 'studied', 'studies', 'studio', 'studios', 'studiosatl', 'study', 'studying', 'stuff', 'stuffed', 'stuggling', 'stumble', 'stumbled', 'stump', 'stunned', 'stunning', 'stunt', 'stupid', 'stupidest', 'stupidity', 'stupids', 'stupidto', 'sturgeon', 'style', 'styles', 'stylewe', 'styleyoruba', 'styling', 'stylish', 'su', 'suarez', 'suarezs', 'sub', 'subcontractors', 'subdued', 'subhas', 'subies', 'subj', 'subject', 'subjected', 'submission', 'submit', 'submitted', 'subs', 'subscribe', 'subscribed', 'subscriptions', 'substantially', 'substantive', 'subtitles', 'subtle', 'suburbal', 'subversive', 'subway', 'succed', 'succeed', 'success', 'successes', 'successful', 'successfully', 'successive', 'successyou', 'succubus', 'succulents', 'succumbed', 'suck', 'sucked', 'suckers', 'suckin', 'suckiness', 'sucking', 'sucks', 'sudan', 'sudbury', 'sudden', 'suddenly', 'sue', 'suedoise', 'suffer', 'suffered', 'suffering', 'sufferingim', 'suffers', 'suffice', 'suffices', 'suffocated', 'suffocating', 'suffolk', 'suffrage', 'suga', 'sugar', 'sugary', 'sugestions', 'suggest', 'suggested', 'suggestions', 'suggests', 'suicide', 'suicidenorman', 'suicides', 'suing', 'suit', 'suitcase', 'suite', 'suits', 'sulk', 'sullivan', 'sully', 'sultra', 'sum', 'sumfest', 'sumin', 'summaries', 'summative', 'summeime', 'summer', 'summerlove', 'summers', 'summit', 'sumo', 'sums', 'sumvahkagak', 'sun', 'sunbathing', 'sunbeam', 'sunburn', 'sunburnt', 'sunda', 'sundaes', 'sundate', 'sunday', 'sundaymood', 'sundayn', 'sundays', 'sunderland', 'sundown', 'sundrops', 'sunflower', 'sungguh', 'sunglasses', 'sunk', 'sunke', 'sunnday', 'sunnies', 'sunny', 'sunrise', 'sunrises', 'suns', 'sunscreen', 'sunset', 'sunsets', 'sunshine', 'sunworld', 'sup', 'supa', 'super', 'superb', 'supercool', 'supercut', 'superdad', 'superdemoreo', 'superexvid', 'superfabric', 'superficial', 'superhero', 'superheroes', 'superior', 'superiors', 'superkick', 'superlatives', 'superman', 'supermarket', 'supernatural', 'superspo', 'superspoilt', 'superstar', 'superstars', 'supervision', 'supervisor', 'superwomen', 'superxcited', 'supp', 'supplemental', 'suppliers', 'supplies', 'supply', 'supplying', 'suppo', 'suppobg', 'suppoed', 'suppoer', 'suppoers', 'suppoing', 'suppoive', 'suppor', 'suppos', 'suppose', 'supposed', 'supposedly', 'suppressed', 'suppression', 'supps', 'supremacists', 'supremacy', 'supreme', 'supremely', 'suprised', 'supsended', 'surbiton', 'sure', 'surely', 'surest', 'surf', 'surface', 'surfaced', 'surfers', 'surge', 'surged', 'surgeon', 'surgery', 'surges', 'surgical', 'suriya', 'surly', 'surname', 'surprise', 'surprised', 'surprises', 'surprisethe', 'surprising', 'surreal', 'surrender', 'surrendered', 'surrey', 'surrogates', 'surround', 'surrounded', 'surrounding', 'surrounds', 'survey', 'surveys', 'surving', 'survivable', 'survival', 'survive', 'survived', 'surviving', 'survivor', 'survivors', 'surya', 'susan', 'susanna', 'sushi', 'sushine', 'suspect', 'suspected', 'suspects', 'suspend', 'suspended', 'suspenders', 'suspending', 'suspension', 'suspicious', 'sussex', 'sustain', 'sutton', 'suv', 'suwon', 'sux', 'suya', 'suzanne', 'svs', 'sw', 'swagged', 'swaggins', 'swallows', 'swalscha', 'swam', 'swap', 'swaps', 'swarms', 'swastika', 'swastikas', 'swatch', 'swatchingclosely', 'swatson', 'swatting', 'sway', 'swear', 'swearing', 'swears', 'sweat', 'sweater', 'sweating', 'sweatpants', 'sweaty', 'sweden', 'swedes', 'sweds', 'sweeet', 'sweep', 'sweeping', 'sweepstake', 'sweet', 'sweetened', 'sweeter', 'sweetest', 'sweetgreen', 'sweethea', 'sweethome', 'sweetie', 'sweetiethats', 'sweetness', 'sweets', 'sweety', 'swell', 'swheeet', 'swift', 'swiftly', 'swifts', 'swill', 'swim', 'swimmers', 'swimming', 'swimsuit', 'swimwear', 'swimwhatever', 'swine', 'swing', 'swinger', 'swinging', 'swipe', 'swirl', 'switch', 'switched', 'switches', 'switching', 'switchover', 'switzerland', 'swivel', 'swollen', 'swoon', 'swooning', 'sworn', 'swt', 'sxhoute', 'syamozero', 'sycophantic', 'sycophants', 'sydney', 'syeel', 'syfy', 'syllabus', 'sylvia', 'symbol', 'symbols', 'sympathise', 'sympathisers', 'sympathize', 'sympathized', 'sympathy', 'symphony', 'symptom', 'symptoms', 'sync', 'syndrome', 'synergy', 'synonymous', 'syracuse', 'syria', 'syrian', 'sysike', 'systematically', 'systemd', 'systemic', 'systems', 'szymanowskis', 'szymanski', 'ta', 'tab', 'tabarez', 'tabby', 'tabique', 'table', 'tables', 'tablet', 'tabor', 'tace', 'tackle', 'tackled', 'tackling', 'tacky', 'tacloban', 'taco', 'tacos', 'tact', 'tactics', 'tae', 'taeil', 'taeiriya', 'taeyeon', 'taffy', 'tafree', 'tag', 'tagg', 'tagging', 'tags', 'tahini', 'tahiti', 'tahitian', 'tahzan', 'tail', 'tailgating', 'tailss', 'tailwind', 'tainting', 'taiwan', 'taiwo', 'tak', 'takashis', 'takda', 'taken', 'takeoff', 'takeover', 'taker', 'takes', 'takin', 'taking', 'talbot', 'tale', 'talend', 'talent', 'talented', 'talentedpassionate', 'talentlab', 'talents', 'taliban', 'talk', 'talkative', 'talked', 'talkers', 'talkin', 'talking', 'talks', 'talkshow', 'tall', 'tamai', 'taman', 'tamanna', 'tamil', 'taming', 'tammy', 'tampa', 'tampered', 'tan', 'tanico', 'tanjucalimli', 'tanjung', 'tank', 'tanks', 'tanned', 'tantrum', 'tantrums', 'tap', 'tapas', 'tape', 'tapestry', 'taping', 'tapings', 'tapos', 'tapped', 'taqueria', 'tara', 'taragon', 'tarde', 'tarek', 'target', 'targeted', 'targets', 'targetted', 'tarifa', 'tarlac', 'tarnation', 'tarnished', 'tarnishing', 'tarot', 'tas', 'tasar', 'task', 'tasked', 'tasksgrodner', 'tassie', 'taste', 'tasted', 'taster', 'tastes', 'tasting', 'tastings', 'tasty', 'tat', 'tata', 'tatacliq', 'tatay', 'tate', 'tattle', 'tattler', 'tattoo', 'tattooist', 'tattoos', 'tattooshop', 'tau', 'taught', 'taunton', 'tavern', 'tavi', 'tax', 'taxes', 'taxi', 'taxidermy', 'taxis', 'taxonomies', 'taxpayers', 'tay', 'taylor', 'taytay', 'tayyaar', 'taz', 'tbd', 'tbh', 'tbt', 'tc', 'tcc', 'tchita', 'tcl', 'tdc', 'tdd', 'tds', 'tdy', 'te', 'tea', 'teach', 'teacher', 'teachers', 'teaches', 'teaching', 'teachmeet', 'team', 'teammate', 'teammates', 'teammatesbig', 'teams', 'teamshyboi', 'teamsoyeah', 'teamspeak', 'teamwork', 'teamworkmuch', 'teapot', 'teapublicans', 'tear', 'teared', 'tearing', 'tears', 'teary', 'tease', 'teaser', 'teasers', 'teasing', 'teavana', 'tech', 'techjunkiejhalt', 'techjunkiejhthe', 'technical', 'technically', 'technique', 'techno', 'technologies', 'technology', 'tecia', 'ted', 'teddy', 'tee', 'teen', 'teenager', 'teenagers', 'teenagesexvideo', 'teens', 'teeny', 'tees', 'teespring', 'teetee', 'teeth', 'teh', 'tehaleh', 'teju', 'tel', 'tele', 'telecast', 'teleformula', 'telephone', 'teleprompter', 'television', 'tell', 'telling', 'tellingwhat', 'tells', 'telltales', 'telly', 'telugu', 'tema', 'temecula', 'temp', 'temper', 'templates', 'temple', 'temples', 'temporarily', 'temporary', 'temptation', 'tempted', 'tena', 'tenacity', 'tenang', 'tend', 'tendencies', 'tends', 'tengo', 'tennessee', 'tennis', 'tens', 'tense', 'tent', 'tenure', 'tequila', 'teresa', 'teriyaki', 'term', 'termed', 'terminal', 'terminator', 'terming', 'terminix', 'terminology', 'terms', 'terra', 'terrace', 'terraced', 'terraces', 'terracotta', 'terrell', 'terrestrial', 'terrible', 'terriblethis', 'terribly', 'terrific', 'terrifically', 'terrified', 'terrifying', 'territory', 'terror', 'terrorism', 'terrorist', 'terrorists', 'terrorize', 'terrorizing', 'terry', 'tes', 'tessa', 'test', 'tested', 'testifies', 'testimonial', 'testimonials', 'testimony', 'testing', 'tests', 'tet', 'tetanusimmunization', 'texas', 'texaskat', 'texass', 'text', 'textbook', 'textbooks', 'texted', 'textile', 'textin', 'texting', 'texts', 'textures', 'tey', 'tf', 'tfl', 'tg', 'tge', 'tgetoutmuch', 'tgi', 'tgif', 'tgp', 'tgwcw', 'th', 'tha', 'thai', 'thailand', 'thailands', 'thairapist', 'thalaivaa', 'thalapathy', 'thames', 'thane', 'thanh', 'thank', 'thanked', 'thankful', 'thankfully', 'thanking', 'thanks', 'thanksgiving', 'thanku', 'thankyou', 'thankyouall', 'thankyoustudio', 'thanx', 'thas', 'thatd', 'thati', 'thatll', 'thatmakes', 'thats', 'thatsamerica', 'thatthen', 'thatzille', 'thays', 'thea', 'theaby', 'theater', 'theaters', 'theatre', 'theatreoau', 'theatres', 'thebarn', 'thebeaumont', 'thebook', 'thee', 'theeu', 'thefashionpoet', 'thefirstgorgeous', 'thefoxtheatre', 'theft', 'thegoodboxph', 'thehistorypic', 'thehyper', 'theif', 'theirown', 'theirs', 'thejoshmoon', 'thelcshow', 'thelifeerotic', 'thelyvers', 'themdo', 'theme', 'themed', 'themeowood', 'themes', 'themfathers', 'themfor', 'themigoodbye', 'themmost', 'themthat', 'themwe', 'theo', 'theodore', 'theoretically', 'theories', 'theory', 'ther', 'therapeutic', 'therapy', 'therealflatfoot', 'therebetter', 'theredid', 'therehappy', 'therell', 'therere', 'theres', 'theresa', 'thermal', 'theron', 'thes', 'thesame', 'thesecret', 'thesis', 'theverdict', 'theyd', 'theyll', 'theyre', 'theyve', 'theyy', 'thi', 'thiago', 'thich', 'thickskin', 'thier', 'thieves', 'thigh', 'thighs', 'thing', 'thingies', 'things', 'thingy', 'think', 'thinkers', 'thinking', 'thinkingby', 'thinkingonly', 'thinks', 'thinkthey', 'thinkwe', 'thinnest', 'thirst', 'thirstdays', 'thisis', 'thislegitimately', 'thisno', 'thiss', 'thissuppoing', 'thisthx', 'thiy', 'thiza', 'thm', 'thmonthsary', 'thn', 'thng', 'thnku', 'thnx', 'tho', 'thomas', 'thompson', 'thong', 'thor', 'thoreau', 'thorn', 'thoroughly', 'thorpe', 'thos', 'thot', 'thotoo', 'thotsdale', 'thou', 'thoughh', 'thoughhhhh', 'thoughj', 'thought', 'thoughtarent', 'thoughtcast', 'thoughtful', 'thoughts', 'thour', 'thous', 'thousand', 'thousands', 'thr', 'thread', 'threads', 'threat', 'threaten', 'threatened', 'threatening', 'threats', 'threw', 'thrice', 'thrift', 'thrill', 'thrilled', 'thriller', 'thrilling', 'thrissur', 'thrive', 'thrives', 'thriving', 'thrivinglittle', 'throat', 'throne', 'thrones', 'throttle', 'throughbut', 'throw', 'throwback', 'throwbacks', 'throwing', 'thrown', 'throws', 'tht', 'thts', 'thug', 'thugged', 'thugs', 'thumb', 'thumbs', 'thumping', 'thunder', 'thunderball', 'thunderdance', 'thundering', 'thurs', 'thursday', 'thursdays', 'thuzioclub', 'thwaed', 'thweeksary', 'thx', 'thy', 'thyini', 'thys', 'ti', 'tiafoe', 'tias', 'tic', 'tick', 'ticked', 'ticket', 'tickets', 'ticking', 'tickled', 'tickles', 'ticks', 'tics', 'tide', 'tidwoh', 'tidying', 'tie', 'tied', 'tiembla', 'tierd', 'ties', 'tiffany', 'tiger', 'tigers', 'tigh', 'tigher', 'tight', 'tights', 'tiiiiiiiiiiiiiiiiiiiiiiiiiiiime', 'tiiiiime', 'tiiime', 'tiina', 'til', 'tilburg', 'till', 'tim', 'time', 'timecongrats', 'timeee', 'timeexpect', 'timeheheeturn', 'timehop', 'timeline', 'timely', 'timenaps', 'timers', 'times', 'timesa', 'timesbe', 'timesbut', 'timesimply', 'timesnow', 'timeso', 'timetable', 'timeyou', 'timing', 'timothy', 'tims', 'tin', 'tina', 'tinajero', 'tinctures', 'tinder', 'tinker', 'tinkthese', 'tinky', 'tiny', 'tioman', 'tip', 'tipical', 'tipp', 'tipping', 'tippytop', 'tips', 'tire', 'tired', 'tiring', 'tis', 'tissot', 'tissue', 'tissues', 'titan', 'titanic', 'titanium', 'titas', 'titicaca', 'title', 'titled', 'titles', 'tits', 'titties', 'tiu', 'tix', 'tixthanks', 'tiyo', 'tjefferson', 'tk', 'tkkim', 'tknow', 'tknowwhattodo', 'tks', 'tl', 'tlc', 'tlk', 'tlou', 'tls', 'tltro', 'tm', 'tma', 'tmak', 'tmiss', 'tmorrow', 'tmr', 'tmrrw', 'tmrw', 'tms', 'tmtc', 'tmus', 'tn', 'tnks', 'tnx', 'toa', 'toast', 'toasting', 'toasty', 'tobebig', 'tobias', 'tobin', 'toblerons', 'toby', 'today', 'todayand', 'todaycheers', 'todaycome', 'todaycoordinates', 'todaygoing', 'todayits', 'todayon', 'todays', 'todaysparking', 'todaythey', 'todayyyyyyyyyyyyyyyyy', 'todd', 'toddington', 'toddler', 'toddlermom', 'toddlers', 'todo', 'todos', 'tody', 'toe', 'toes', 'togheter', 'toh', 'toie', 'toilet', 'toilette', 'toke', 'token', 'tokens', 'tokifuji', 'tokyo', 'told', 'tolerance', 'tolerant', 'tolerate', 'tolerated', 'toll', 'tolstoy', 'tolyatti', 'tom', 'toma', 'tomahawk', 'tomato', 'tomilnson', 'tomlin', 'tommorow', 'tommorrow', 'tommy', 'tomo', 'tomoro', 'tomorrow', 'tomorrowi', 'tomorrowland', 'tomorrownews', 'tomorrows', 'toms', 'ton', 'tonbe', 'tondo', 'tone', 'tones', 'tongue', 'tongueouttuesday', 'toni', 'tonight', 'tonighta', 'tonightcant', 'tonightim', 'tonights', 'tonigth', 'tonite', 'tonorrows', 'tons', 'tonsillitis', 'tonto', 'tony', 'tonya', 'tonys', 'toofan', 'tooise', 'took', 'tool', 'tools', 'toons', 'tooo', 'tooooo', 'toooooooo', 'toosince', 'toothbrush', 'topexsound', 'topic', 'topics', 'topless', 'topped', 'topping', 'tops', 'toptags', 'toraya', 'torba', 'torkhum', 'torment', 'tormented', 'tormenting', 'torn', 'tornado', 'tornament', 'toronto', 'torv', 'tory', 'tossed', 'tosser', 'tossing', 'total', 'totall', 'totally', 'tote', 'toting', 'totlly', 'tou', 'touch', 'touched', 'touches', 'touching', 'touga', 'tough', 'toulouse', 'tour', 'toure', 'toured', 'toures', 'touring', 'tourism', 'tourists', 'tournament', 'tournaments', 'tourney', 'tours', 'towel', 'towels', 'tower', 'towers', 'towing', 'towlerlindsay', 'town', 'townhome', 'townhouse', 'towns', 'townsquare', 'towwn', 'toxic', 'toy', 'toys', 'tpab', 'tpp', 'tps', 'tr', 'tra', 'trabajo', 'trace', 'traces', 'track', 'tracker', 'tracks', 'traction', 'tracy', 'trade', 'traded', 'trader', 'traders', 'trading', 'tradition', 'traditional', 'traditions', 'trafalgar', 'traffic', 'trafficking', 'trafford', 'traged', 'tragedies', 'tragedy', 'tragic', 'tragically', 'trail', 'trailblazer', 'trailer', 'trailing', 'trailor', 'trails', 'train', 'trained', 'trainers', 'training', 'trains', 'trainspotting', 'traitor', 'traitors', 'traits', 'tram', 'tramonto', 'tramp', 'trample', 'trampled', 'trampoline', 'trance', 'trang', 'tranning', 'tranquil', 'tranquility', 'trans', 'transcendental', 'transcripts', 'transfer', 'transform', 'transformation', 'transformational', 'transformed', 'transformer', 'transforming', 'transgender', 'transgresses', 'transition', 'translate', 'translation', 'transplant', 'transpo', 'transpoation', 'transpoed', 'transpos', 'transsexy', 'transylvania', 'trantuanviet', 'trap', 'trapped', 'trash', 'trashing', 'trauma', 'traumatic', 'travel', 'traveler', 'traveling', 'travelled', 'travellers', 'travelling', 'travels', 'travelso', 'traverse', 'travesty', 'travis', 'travistip', 'tray', 'trc', 'treacherous', 'treacy', 'treading', 'treadmill', 'treadmills', 'treason', 'treasure', 'treasured', 'treasures', 'treat', 'treated', 'treating', 'treatment', 'treatments', 'treats', 'tree', 'trees', 'trek', 'trembling', 'tremendous', 'trench', 'trend', 'trending', 'trends', 'trendy', 'tres', 'tresor', 'trevor', 'trezor', 'tri', 'trial', 'trials', 'triangle', 'triathlon', 'tribal', 'tribune', 'tribute', 'tributes', 'trick', 'tricking', 'trickled', 'tricks', 'tricky', 'tried', 'tries', 'trifecta', 'trifles', 'trigger', 'triggered', 'triggering', 'trilingual', 'trilogy', 'trimmed', 'trims', 'trin', 'trina', 'trinity', 'trinkets', 'trio', 'trip', 'tripe', 'tripinnnnn', 'triple', 'trippin', 'trips', 'triscuits', 'trisha', 'tristan', 'triste', 'tristen', 'triumph', 'triumphant', 'triumphs', 'trivia', 'trojan', 'troll', 'trolled', 'trolling', 'trolls', 'trollyou', 'troopers', 'trooping', 'troops', 'trophies', 'trophy', 'tropical', 'trot', 'trott', 'trouble', 'troubled', 'troublemakers', 'troubles', 'troubling', 'trough', 'trounced', 'trouser', 'trousers', 'trout', 'troutthen', 'troxy', 'troy', 'trs', 'truck', 'truckload', 'trucks', 'trudi', 'trudy', 'true', 'truebut', 'truehow', 'truely', 'trueobamas', 'truepeople', 'truer', 'truganina', 'truism', 'trully', 'truly', 'trumann', 'trump', 'trumper', 'trumpets', 'trumpism', 'trumpkin', 'trumps', 'trumpster', 'trumpsters', 'trumptrain', 'trumpworld', 'trumpy', 'trunki', 'trust', 'trusted', 'trusting', 'trustwohy', 'truth', 'truthand', 'truthful', 'truthfully', 'truths', 'truthwhat', 'truueee', 'try', 'tryin', 'trying', 'tryinghavent', 'tryna', 'trynna', 'tryouts', 'tsa', 'tsem', 'tshi', 'tsk', 'tsleep', 'tstopsmiling', 'tt', 'ttrusthim', 'tty', 'tu', 'tub', 'tubbytoons', 'tube', 'tubs', 'tubular', 'tuck', 'tucked', 'tucker', 'tucson', 'tucsons', 'tue', 'tues', 'tuesday', 'tuesdays', 'tuition', 'tule', 'tules', 'tulips', 'tulsa', 'tumbler', 'tumbling', 'tumblr', 'tumhocover', 'tummies', 'tummy', 'tummybyepicuremeals', 'tummys', 'tumor', 'tumors', 'tun', 'tunas', 'tune', 'tuned', 'tunes', 'tuning', 'tupac', 'tupacs', 'turds', 'turf', 'turkey', 'turkish', 'turlock', 'turmoil', 'turn', 'turne', 'turned', 'turner', 'turning', 'turnout', 'turns', 'turnup', 'tusks', 'tutor', 'tutorial', 'tutorials', 'tutti', 'tutu', 'tux', 'tuxedo', 'tv', 'tvd', 'tvperfect', 'tvs', 'tvxq', 'tw', 'twain', 'twait', 'twat', 'twats', 'tweaks', 'tweeples', 'tweeps', 'tweet', 'tweeted', 'tweeter', 'tweeters', 'tweetheas', 'tweeti', 'tweetin', 'tweeting', 'tweetless', 'tweets', 'tweetsi', 'twerk', 'twhiddleston', 'twi', 'twice', 'twiggers', 'twilight', 'twin', 'twink', 'twinkie', 'twinkies', 'twinklatinboys', 'twinkle', 'twins', 'twirl', 'twist', 'twisted', 'twisting', 'twists', 'twitches', 'twitfox', 'twits', 'twitter', 'twitters', 'twitterworld', 'twitterww', 'twitting', 'twizzlers', 'tws', 'twt', 'twtl', 'twtly', 'twtlyc', 'twtr', 'tx', 'txt', 'ty', 'tyannah', 'tydear', 'tyler', 'tylerh', 'tym', 'tyne', 'type', 'types', 'typical', 'typically', 'typing', 'typos', 'tyra', 'tyrannical', 'tyranny', 'tyronn', 'tyson', 'tysvm', 'tyt', 'tzu', 'tzuyu', 'tzuyuupdates', 'ua', 'uae', 'ubc', 'uber', 'uberrush', 'ubt', 'ubud', 'ubuntu', 'uc', 'ucant', 'ucaring', 'uch', 'uchiha', 'ucla', 'ucsfready', 'uday', 'udt', 'udta', 'udu', 'uefa', 'uekettas', 'ufc', 'ufeellucky', 'ugh', 'ughhhhh', 'uglier', 'ugliest', 'uglist', 'ugly', 'uglylady', 'uh', 'uhh', 'uhhhh', 'ui', 'uiotifdh', 'uk', 'ukhx', 'ukip', 'ukraine', 'ukraines', 'ukrainians', 'ukrayna', 'ukrunchat', 'uks', 'uku', 'ukulele', 'ulit', 'ull', 'ulm', 'ulticulture', 'ultimate', 'ultimately', 'ultra', 'ultraboost', 'ultranationalism', 'ultrasound', 'ultrawinds', 'um', 'umbrellas', 'umfkorea', 'ummhmm', 'ummiido', 'ummm', 'umpires', 'umpteenth', 'umrah', 'umwhat', 'unabated', 'unable', 'unacceptable', 'unadulterated', 'unamerican', 'unanimous', 'unapologetic', 'unappetizing', 'unarmed', 'unashamedly', 'unavailability', 'unavailable', 'unawareness', 'unbelievable', 'unbelievably', 'unbelievers', 'unbiased', 'unborn', 'unboxing', 'unbreakable', 'unc', 'unceain', 'unceainty', 'unchained', 'unchanged', 'uncle', 'uncles', 'uncomfutable', 'uncommon', 'unconditional', 'unconsumable', 'uncontrollably', 'unconventional', 'uncool', 'uncountable', 'uncov', 'uncovered', 'uncovers', 'uncut', 'unday', 'undecided', 'undeniable', 'underbelly', 'undercooked', 'underestimate', 'underestimated', 'undergarments', 'underlying', 'undermine', 'underrate', 'understand', 'understanding', 'understands', 'understatement', 'understood', 'underway', 'underwear', 'underwhelming', 'underwood', 'undescribable', 'undo', 'undoubtedly', 'unedited', 'uneducated', 'unempathic', 'unemployed', 'unemployment', 'unending', 'unequal', 'unesco', 'unexpectedly', 'unextraordinary', 'unfair', 'unfathomablehow', 'unfavorable', 'unfiltered', 'unfinished', 'unfit', 'unfold', 'unfolding', 'unfollow', 'unfollowed', 'unfollowing', 'unforgettable', 'unfounate', 'unfounately', 'ungrateful', 'unguarded', 'unhappy', 'unhealthy', 'unhelpful', 'unhelpfulneed', 'uni', 'unicef', 'unicorn', 'unicorns', 'unificationsdayand', 'uniform', 'uniformly', 'unify', 'unifying', 'unimpressive', 'uninstalling', 'unintentionally', 'uninterested', 'union', 'unique', 'unit', 'unite', 'united', 'uniting', 'unity', 'universal', 'universals', 'universe', 'universities', 'university', 'universityofwisconsinmadison', 'universitys', 'unjust', 'unjustly', 'unk', 'unknown', 'unleashed', 'unleashes', 'unless', 'unlike', 'unlikely', 'unlimited', 'unloaded', 'unloading', 'unloads', 'unlock', 'unlocked', 'unlovable', 'unlucky', 'unmasking', 'unmatched', 'unmoved', 'unna', 'unnecessarily', 'unnecessary', 'unnie', 'unnies', 'unopened', 'unopposed', 'unpacked', 'unpacking', 'unpacks', 'unpaid', 'unpaused', 'unprecedented', 'unpredictable', 'unprofessional', 'unputdownable', 'unqualified', 'unrapp', 'unravel', 'unreal', 'unrecognizable', 'unrepentant', 'unrest', 'uns', 'unsafe', 'unsatisfied', 'unsay', 'unscrambled', 'unsee', 'unsocial', 'unsolvable', 'unspeakable', 'unstable', 'unstoppable', 'unsure', 'unthinkable', 'untill', 'untitled', 'unto', 'untruetheir', 'untuk', 'unused', 'unusual', 'unveil', 'unveiled', 'unwanted', 'unwavering', 'unwell', 'unwilling', 'unwind', 'uo', 'uomo', 'upbeat', 'upcoming', 'upcycled', 'update', 'updated', 'updates', 'updating', 'upenn', 'upflood', 'upgrade', 'upgraded', 'uphill', 'upits', 'uplift', 'upload', 'uploadddddd', 'uploaded', 'uploading', 'uploads', 'upod', 'uppity', 'uppppp', 'ups', 'upset', 'upsetting', 'upside', 'upsides', 'upsta', 'upstairs', 'upwards', 'ur', 'uraken', 'urban', 'urdu', 'ure', 'urgency', 'urgent', 'urges', 'urgh', 'urging', 'uriah', 'url', 'urns', 'urself', 'urselflove', 'ursexiestmorena', 'uruguay', 'usa', 'usama', 'usb', 'usd', 'use', 'used', 'usedtobeafathersday', 'useful', 'useless', 'user', 'users', 'usersyou', 'uses', 'usga', 'usher', 'ushered', 'ushers', 'using', 'usofa', 'ussda', 'usshootingsaccidentsabuse', 'usual', 'usually', 'uswe', 'ut', 'utah', 'utc', 'utd', 'uth', 'uthamaki', 'uthenge', 'utilization', 'utilizing', 'utter', 'uttered', 'utterly', 'uturunco', 'uuu', 'uv', 'uve', 'ux', 'uyanze', 'uyindoda', 'uyo', 'uyou', 'uzumaki', 'va', 'vacation', 'vacations', 'vacay', 'vaccay', 'vaccines', 'vagabond', 'vagina', 'vai', 'val', 'valdez', 'valentina', 'valentine', 'valentines', 'valid', 'validating', 'validation', 'validity', 'valium', 'valley', 'valravn', 'valuable', 'value', 'valued', 'values', 'valves', 'vampire', 'van', 'vancouver', 'vandalised', 'vandalism', 'vandals', 'vandenburg', 'vanderwaal', 'vanessa', 'vanilla', 'vanished', 'vanishes', 'vanity', 'vanitylets', 'vans', 'vaporize', 'vardy', 'varejao', 'various', 'varna', 'varoufakis', 'vary', 'varying', 'vase', 'vasee', 'vast', 'vat', 'vax', 'vc', 've', 'vedic', 'veebrates', 'veg', 'vegan', 'vegans', 'vegas', 'vegetable', 'vegetables', 'vegetal', 'vegetarian', 'vegetarians', 'veggie', 'veggies', 'vehicle', 'vehicles', 'veiled', 'veins', 'vel', 'velicaria', 'vellum', 'velly', 'velour', 'velours', 'vendetta', 'vendor', 'vendors', 'venezuela', 'vengeance', 'vengossie', 'venice', 'venmo', 'venom', 'venomous', 'vent', 'ventil', 'ventilation', 'ventura', 'venture', 'ventures', 'venue', 'venues', 'ver', 'veranda', 'veranza', 'verbal', 'verbally', 'verbs', 'verde', 'verge', 'verified', 'verify', 'verifying', 'veritable', 'vermin', 'vermont', 'verona', 'verre', 'versa', 'versatile', 'verse', 'verses', 'version', 'versions', 'versus', 'verything', 'vesalius', 'vet', 'veteran', 'veterans', 'veto', 'vets', 'vettel', 'vetting', 'vevo', 'vfiestarintl', 'vfriendly', 'vfw', 'vhafuwi', 'vhim', 'vi', 'viable', 'vibe', 'vibes', 'vibesshe', 'vibez', 'vibing', 'vibrant', 'vibrator', 'vic', 'vicar', 'vice', 'vicinity', 'vicious', 'viciously', 'vicitms', 'vicky', 'victim', 'victimhood', 'victimise', 'victimized', 'victims', 'victor', 'victoria', 'victorian', 'victories', 'victorious', 'victory', 'victums', 'vid', 'vida', 'vidathe', 'video', 'videomaking', 'videos', 'videothank', 'vido', 'vids', 'viendo', 'viernes', 'view', 'viewed', 'viewer', 'viewers', 'viewing', 'views', 'vigil', 'vigilant', 'vigilante', 'vijay', 'vikramaditya', 'vil', 'vile', 'villa', 'village', 'villegas', 'villetta', 'villy', 'vimeo', 'vinallop', 'vincent', 'vinci', 'vindication', 'vindictive', 'vine', 'vineet', 'vines', 'vineyards', 'vino', 'vintage', 'vinyl', 'vinylgroover', 'vinyls', 'viola', 'violated', 'violates', 'violation', 'violence', 'violences', 'violent', 'violently', 'violet', 'violets', 'violin', 'violins', 'vip', 'vipee', 'viper', 'viral', 'virgin', 'virginia', 'virus', 'vis', 'visa', 'vise', 'vishakha', 'visible', 'vision', 'visit', 'visitation', 'visited', 'visiting', 'visitor', 'visitors', 'visits', 'vista', 'visualize', 'vital', 'vitamin', 'vitiating', 'vitriol', 'vittusaatanaperkele', 'viual', 'viuous', 'viuously', 'viva', 'vivacious', 'vivre', 'vixx', 'vizzini', 'vk', 'vladimir', 'vlive', 'vlog', 'vm', 'vmin', 'vo', 'vocab', 'vocabulary', 'vocal', 'vocals', 'vodka', 'voez', 'vogue', 'voic', 'voice', 'voices', 'voicing', 'void', 'vol', 'volatile', 'volatility', 'volbeat', 'volley', 'volleyball', 'voltaire', 'volume', 'volumes', 'volunteer', 'volunteering', 'volunteers', 'vom', 'vomit', 'vomos', 'vot', 'vote', 'voted', 'voter', 'voters', 'votes', 'votetrump', 'voting', 'voty', 'vows', 'vox', 'voyage', 'vp', 'vpns', 'vps', 'vr', 'vroomvroom', 'vry', 'vs', 'vu', 'vulgar', 'vulgarian', 'vulnerable', 'vv', 'vzw', 'wa', 'waaaaaaa', 'waaaaahhh', 'waaaay', 'waaah', 'waahey', 'wack', 'wacko', 'wada', 'wade', 'waders', 'wading', 'waffle', 'waffles', 'wage', 'waged', 'wages', 'waging', 'wagner', 'wagon', 'wah', 'wahabism', 'wahhhh', 'wahoo', 'waifu', 'wailed', 'waime', 'waino', 'wair', 'waist', 'wait', 'waitcant', 'waited', 'waiter', 'waiters', 'waithing', 'waithope', 'waiting', 'waitingall', 'waitley', 'waitlisted', 'waitress', 'waits', 'wake', 'wakeman', 'wakes', 'wakeup', 'wakeuppeopl', 'waking', 'wala', 'waldo', 'walenty', 'wales', 'walk', 'walkden', 'walked', 'walker', 'walkers', 'walkies', 'walking', 'walks', 'wall', 'wallaby', 'wallchas', 'wallet', 'wallets', 'wallow', 'wallpaper', 'wallpapers', 'walls', 'walma', 'walnut', 'walnuts', 'walrus', 'walt', 'waltdisneyworld', 'walters', 'waltz', 'wan', 'wana', 'wander', 'wandswoh', 'wang', 'wangle', 'wank', 'wanker', 'wankers', 'wanna', 'wannabe', 'wannna', 'wannnn', 'want', 'wanted', 'wantfuck', 'wantin', 'wanting', 'wantn', 'wantnoits', 'wanton', 'wantreally', 'wants', 'wantsshoprsnetcom', 'waohthis', 'waooooow', 'waow', 'wap', 'wapo', 'war', 'warcraft', 'warcraftmovie', 'ward', 'wardrobe', 'warehouse', 'warfares', 'warm', 'warmed', 'warming', 'warmongers', 'warn', 'warned', 'warner', 'warning', 'warns', 'warpaint', 'warped', 'warranty', 'warren', 'warrior', 'warriors', 'warriorsbut', 'wars', 'warzone', 'wash', 'washed', 'washer', 'washes', 'washing', 'washington', 'washingtonparkhotel', 'washingtonway', 'washout', 'washtimes', 'wasmadwasibnoworsteverws', 'wasnt', 'waspi', 'wassup', 'wastapp', 'waste', 'wasted', 'wasteing', 'wasting', 'wat', 'watanabe', 'watc', 'watch', 'watchable', 'watched', 'watches', 'watchhhh', 'watchin', 'watching', 'watchingthis', 'watchlist', 'watchtowers', 'wate', 'water', 'waterbom', 'watercolour', 'watered', 'waterfall', 'waterfalls', 'waterfight', 'waterford', 'waterfront', 'watering', 'waterloo', 'watermelon', 'waterproof', 'waterproofs', 'waters', 'watersdisney', 'wathing', 'wating', 'wats', 'watson', 'wattpad', 'watz', 'wave', 'waves', 'waving', 'wawo', 'wawrinka', 'waxed', 'way', 'wayare', 'wayne', 'ways', 'wayward', 'wayyyyy', 'wbal', 'wbruchal', 'wbu', 'wchs', 'wcw', 'wd', 'wda', 'wdc', 'weak', 'weakening', 'weaker', 'weakest', 'weakness', 'weaknesses', 'wealthppy', 'wealthy', 'weapon', 'weapons', 'wear', 'wearetech', 'wearing', 'weariy', 'wears', 'weasel', 'weather', 'weave', 'weaved', 'weaving', 'web', 'webcam', 'webinar', 'webpage', 'website', 'webster', 'wed', 'wedding', 'weddinganniversary', 'weddings', 'wednesay', 'wednesday', 'wednesdaybut', 'wednesdays', 'weds', 'wee', 'weed', 'weeding', 'weee', 'weeeellll', 'weeheeeee', 'week', 'weekbe', 'weekday', 'weekdays', 'weekeend', 'weekend', 'weekender', 'weekendin', 'weekendis', 'weekendqueens', 'weekends', 'weekendwell', 'weekjust', 'weeklong', 'weekly', 'weeks', 'weeksary', 'weeksnow', 'weenie', 'weep', 'wefie', 'wegmans', 'weh', 'wehate', 'weho', 'weigh', 'weighed', 'weighs', 'weight', 'weights', 'weiner', 'weird', 'weirdly', 'weirdness', 'weirdo', 'weirdos', 'weiter', 'welcome', 'welcomed', 'welcomes', 'welcoming', 'welcomm', 'welfare', 'wellbeing', 'wellies', 'welligtalea', 'wellingham', 'wellington', 'wellit', 'wellness', 'wells', 'wellthese', 'wellybel', 'welp', 'welsh', 'welsing', 'wembley', 'wembly', 'wen', 'wena', 'wend', 'wendy', 'wendys', 'weneed', 'wenger', 'weniger', 'went', 'wer', 'werdz', 'werent', 'werewolf', 'werk', 'wesley', 'west', 'westboro', 'westbourne', 'westbury', 'westendlive', 'western', 'westerners', 'westeros', 'westhaven', 'westin', 'westlake', 'westminster', 'weston', 'westpac', 'westroes', 'wests', 'westwood', 'wet', 'wetpanty', 'wetrump', 'weve', 'wew', 'wey', 'weybridge', 'weyou', 'wftv', 'wh', 'wha', 'whaaaaaa', 'whaaaaaat', 'whaaat', 'whaat', 'whack', 'whaiiieeeee', 'whale', 'whales', 'whaling', 'wharf', 'whatbusiness', 'whatchout', 'whateva', 'whats', 'whatsapp', 'whatsoever', 'whatswrong', 'whatz', 'whe', 'wheat', 'wheel', 'wheelchair', 'wheeler', 'wheelhe', 'wheeling', 'wheels', 'whene', 'wheniamalone', 'whens', 'whereh', 'wheres', 'whew', 'whhaaaaaaaatt', 'whhoooo', 'whic', 'whichever', 'whig', 'whilst', 'whimp', 'whined', 'whingeing', 'whining', 'whiny', 'whip', 'whipped', 'whirl', 'whirling', 'whiskey', 'whisky', 'whisper', 'whispered', 'whispering', 'whispers', 'whistler', 'whistling', 'whit', 'white', 'whiteboard', 'whiteland', 'whiteman', 'whiteness', 'whitepanther', 'whiter', 'whites', 'whitesboro', 'whitewashing', 'whitewater', 'whitey', 'whithout', 'whiz', 'whn', 'whoa', 'whod', 'whoe', 'wholesome', 'wholl', 'whoo', 'whoohoo', 'whoooo', 'whooooole', 'whoooooo', 'whoooop', 'whoop', 'whoopi', 'whoopppp', 'whoops', 'whoot', 'whopped', 'whopper', 'whore', 'whores', 'whos', 'whynot', 'whys', 'whythats', 'whyyyyy', 'wi', 'wiah', 'wick', 'wicked', 'wickets', 'wid', 'wide', 'wife', 'wifehappylife', 'wifes', 'wifi', 'wifieither', 'wig', 'wiggins', 'wiggle', 'wigs', 'wih', 'wii', 'wiiiiiiiiiiiiiiiiiii', 'wiki', 'wikipedia', 'wil', 'wild', 'wilde', 'wilderness', 'wildfire', 'wildfires', 'wildflower', 'wildlife', 'wildly', 'wile', 'wiley', 'wilfully', 'willamette', 'willbe', 'willfully', 'william', 'williams', 'williamsburg', 'willing', 'willorsa', 'willoughbys', 'willow', 'wills', 'willshare', 'willy', 'wilmington', 'wilson', 'wilsonimu', 'wilsons', 'wimbledon', 'wimpy', 'win', 'winch', 'winched', 'winchester', 'wind', 'windecknow', 'winding', 'window', 'windows', 'winds', 'windy', 'wine', 'winery', 'wines', 'winfrey', 'wing', 'winged', 'wingers', 'wingin', 'wings', 'wingym', 'wink', 'winner', 'winners', 'winnin', 'winning', 'winnipeg', 'wins', 'winston', 'winter', 'winterfest', 'wintergreen', 'wip', 'wipe', 'wiped', 'wiping', 'wirral', 'wisconsin', 'wisdom', 'wise', 'wisely', 'wish', 'wished', 'wishes', 'wishful', 'wishing', 'wishingalldadsgoodgirlsboys', 'wishingsta', 'wishlist', 'wit', 'witch', 'witchktaft', 'witcom', 'withdrawal', 'withdrawals', 'withdrawing', 'withdraws', 'withers', 'withholding', 'witho', 'withsarita', 'withyou', 'witjin', 'witness', 'witnessed', 'witnessing', 'witty', 'wives', 'wiz', 'wk', 'wkend', 'wknd', 'wks', 'wldve', 'wlk', 'wmn', 'wmy', 'wnt', 'wnyers', 'wo', 'woah', 'woahh', 'wobbles', 'wochenende', 'woe', 'woes', 'wog', 'woh', 'wohily', 'wohless', 'wohoo', 'wohooo', 'wohoooo', 'wohoooooo', 'wohwhile', 'wohy', 'woiiiii', 'woke', 'woken', 'wokeup', 'wold', 'wolf', 'wolves', 'woman', 'womanmakeup', 'womans', 'womb', 'women', 'womenmalayalam', 'womens', 'womp', 'won', 'wonder', 'wondered', 'wonderer', 'wonderful', 'wonderfully', 'wondering', 'wonderingand', 'wonderland', 'wonders', 'wondrous', 'wonn', 'wont', 'woo', 'woobietuesday', 'wood', 'wooden', 'woodford', 'woodhouse', 'woodlands', 'woodpecker', 'woodrow', 'woods', 'woodsford', 'woof', 'woohoo', 'woohooo', 'woohoooooo', 'wooly', 'wooo', 'wooohhhh', 'woooo', 'woooohooo', 'wooooo', 'woooooaaaahhh', 'woooooo', 'woop', 'woori', 'woot', 'woow', 'wor', 'word', 'wordans', 'wordpress', 'words', 'wore', 'work', 'workbook', 'workday', 'worked', 'worker', 'workers', 'workin', 'working', 'workingthe', 'worknext', 'workout', 'workoutfeeling', 'workouts', 'workplace', 'works', 'worksheet', 'workshop', 'workshops', 'worksite', 'worksop', 'workwork', 'world', 'worldas', 'worldcare', 'worldfew', 'worldlove', 'worldly', 'worldmay', 'worldno', 'worlds', 'worldstress', 'worldvery', 'worldview', 'worldwide', 'worn', 'worried', 'worriedawesone', 'worries', 'worriesofhappylifethatcanbuybigtv', 'worry', 'worrying', 'worse', 'worship', 'worshipped', 'worst', 'wos', 'wot', 'wotching', 'wots', 'woulda', 'wouldnt', 'wouldve', 'woult', 'wounded', 'wounds', 'wow', 'wowed', 'wowfinally', 'wowfirst', 'wowmtn', 'wowwww', 'wowwwwww', 'wp', 'wr', 'wrap', 'wrapped', 'wrapping', 'wrassling', 'wrath', 'wreath', 'wreck', 'wrecked', 'wrecking', 'wrenching', 'wrendavis', 'wrenn', 'wrestled', 'wrestler', 'wrestlers', 'wrestling', 'wrexham', 'wriggles', 'wright', 'wrinkle', 'wrist', 'wristband', 'wristbands', 'write', 'writer', 'writers', 'writes', 'writin', 'writing', 'written', 'wrk', 'wron', 'wrong', 'wrongbut', 'wrongful', 'wrongorlando', 'wrote', 'wroth', 'ws', 'wsib', 'wt', 'wtc', 'wtf', 'wtfffff', 'wtfwhy', 'wth', 'wu', 'wud', 'wuhuuuu', 'wut', 'wverything', 'wvgirl', 'wvu', 'ww', 'wwdc', 'wwe', 'wwes', 'wwf', 'wwhemm', 'wwi', 'wwii', 'www', 'wwwalvarum', 'wwwdrunk', 'wwwsmallgirlsexcom', 'wxcitedfor', 'wyears', 'wynne', 'wynonna', 'wyoming', 'wyonna', 'xabi', 'xamena', 'xbox', 'xboxs', 'xboxthat', 'xc', 'xcams', 'xd', 'xddd', 'xenophobia', 'xenophobic', 'xhaka', 'xi', 'xia', 'xiang', 'xians', 'xiii', 'xingmi', 'xmas', 'xmastoday', 'xo', 'xox', 'xoxo', 'xoxoorlando', 'xoxosamantha', 'xoxoxo', 'xp', 'xplore', 'xs', 'xskinnybeautyxo', 'xx', 'xxx', 'xxxix', 'xxxpoland', 'xxxx', 'ya', 'yaaaaa', 'yaaaaaaaaaass', 'yaaaaaaaasss', 'yaaaaaaaay', 'yaaaaaas', 'yaaaaaass', 'yaaaaasssss', 'yaaaaay', 'yaaaass', 'yaar', 'yaay', 'yadavakhilesh', 'yadien', 'yah', 'yahoo', 'yahooo', 'yahoooo', 'yaka', 'yakang', 'yall', 'yalls', 'yamashita', 'yana', 'yandel', 'yang', 'yangon', 'yap', 'yapping', 'yappy', 'yard', 'yardenaagresta', 'yarn', 'yass', 'yassss', 'yasssss', 'yassssss', 'yavin', 'yawn', 'yawns', 'yay', 'yayo', 'yayy', 'yayyy', 'yayyyy', 'yday', 'ye', 'yea', 'yeaaaaaahhh', 'yeaaaahhhh', 'yeaaayyy', 'yeah', 'yeahhh', 'yeahhhh', 'yeahhhhhhhhhhhhh', 'year', 'yearanother', 'yearbook', 'yearit', 'yearly', 'years', 'yearsthis', 'yearswithbts', 'yearwhen', 'yeas', 'yeayyyydia', 'yee', 'yeeeaaahhh', 'yeeeeee', 'yeeeeeessss', 'yeeesss', 'yeehaaaw', 'yeey', 'yeezy', 'yeh', 'yelchin', 'yelchins', 'yelcin', 'yell', 'yelled', 'yelling', 'yellow', 'yellowcard', 'yellowstone', 'yelp', 'yen', 'yep', 'yepdefinitely', 'yepp', 'yepppppp', 'yes', 'yesildenizt', 'yesits', 'yesmind', 'yesobviously', 'yessick', 'yesss', 'yessss', 'yesssss', 'yessssss', 'yesterday', 'yesterdays', 'yesteryear', 'yesu', 'yeti', 'yetta', 'yettalou', 'yetwas', 'yey', 'yeydarating', 'yeyy', 'yg', 'yha', 'yi', 'yiannopoulos', 'yiannopoulosis', 'yieaaahh', 'yield', 'yields', 'yiff', 'yikes', 'yin', 'yinz', 'yinzer', 'yipppiii', 'yiruma', 'yisrael', 'yiu', 'yixing', 'ymca', 'yo', 'yoakam', 'yoder', 'yoga', 'yogs', 'yoh', 'yoi', 'yojanas', 'yolo', 'yong', 'yonge', 'yoo', 'yooo', 'yore', 'york', 'yorkers', 'yorkshire', 'yos', 'youcanalwaystelldemocraticvoterstheyrloud', 'youd', 'youelnellagod', 'youi', 'youkeep', 'youll', 'youmy', 'young', 'younger', 'youngest', 'youngsters', 'youngto', 'younique', 'youniqueplaced', 'youre', 'yourinahinano', 'yourslef', 'youso', 'yousoo', 'youssoupha', 'youth', 'youthe', 'youthey', 'youthful', 'youtu', 'youtube', 'youtuber', 'youtubes', 'youuu', 'youuuu', 'youuuuuu', 'youve', 'youwhat', 'youyou', 'yoy', 'yoyas', 'yr', 'yrh', 'yrkkh', 'yrs', 'ysmael', 'yt', 'ytinny', 'yu', 'yuck', 'yuge', 'yuh', 'yuhki', 'yui', 'yuki', 'yul', 'yum', 'yummy', 'yumy', 'yun', 'yung', 'yunging', 'yunho', 'yunhos', 'yup', 'yuphoria', 'yuppies', 'yur', 'yus', 'yusuf', 'yutub', 'yuvle', 'yvonne', 'yyyaaass', 'zacarylove', 'zach', 'zadiq', 'zag', 'zags', 'zante', 'zara', 'zayne', 'ze', 'zeal', 'zealand', 'zealots', 'zealous', 'zedd', 'zee', 'zeevali', 'zelda', 'zeldabreath', 'zemura', 'zen', 'zer', 'zero', 'zeuskodawn', 'zi', 'zig', 'zihaolee', 'zika', 'zilch', 'zilles', 'zimbabwe', 'zimmer', 'zine', 'zing', 'zinging', 'zionism', 'zip', 'zit', 'ziy', 'zodiac', 'zoe', 'zoing', 'zombie', 'zombies', 'zomg', 'zone', 'zones', 'zong', 'zoo', 'zoological', 'zoologist', 'zoomerplex', 'zoro', 'zosh', 'zouma', 'zpamdelacruz', 'zucchinis', 'zulu', 'zuma', 'zurich', 'zx', 'zydeco', 'zz', 'zzz', 'zzzzzzzz']\n"
     ]
    }
   ],
   "source": [
    "print(vectorizer.get_feature_names())"
   ]
  },
  {
   "cell_type": "code",
   "execution_count": 40,
   "metadata": {},
   "outputs": [],
   "source": [
    "#train_03=vec[:31962,]\n",
    "#test_03=vec[31962:,]"
   ]
  },
  {
   "cell_type": "code",
   "execution_count": 41,
   "metadata": {},
   "outputs": [],
   "source": [
    "#spliting the train data for train and test split cross validation\n",
    "#X_train, X_test, Y_train, Y_test = train_test_split(vec,label,stratify=label,test_size=0.3,random_state=2,shuffle=True)"
   ]
  },
  {
   "cell_type": "code",
   "execution_count": 42,
   "metadata": {},
   "outputs": [],
   "source": [
    "#spliting the train data for train and test split cross validation\n",
    "#x_train, x_test, y_train, y_test = train_test_split(x_vec,y,stratify=y,test_size=0.3,random_state=2,shuffle=True)"
   ]
  },
  {
   "cell_type": "code",
   "execution_count": 43,
   "metadata": {},
   "outputs": [],
   "source": [
    "#build model\n",
    "#linear svm model\n",
    "#svm = svm.SVC(kernel='linear', probability = True)"
   ]
  },
  {
   "cell_type": "code",
   "execution_count": 44,
   "metadata": {},
   "outputs": [],
   "source": [
    "#model_1= svm.fit(x_vec,y)"
   ]
  },
  {
   "cell_type": "code",
   "execution_count": 45,
   "metadata": {},
   "outputs": [],
   "source": [
    "#x_vec_test = vectorizer.fit_transform(test_02['clean'])"
   ]
  },
  {
   "cell_type": "code",
   "execution_count": 46,
   "metadata": {},
   "outputs": [],
   "source": [
    "#x_vec_test"
   ]
  },
  {
   "cell_type": "code",
   "execution_count": 47,
   "metadata": {},
   "outputs": [],
   "source": [
    "#pred_test=model_1.predict(x_vec_test)"
   ]
  },
  {
   "cell_type": "code",
   "execution_count": 48,
   "metadata": {},
   "outputs": [],
   "source": [
    "#pred_test"
   ]
  },
  {
   "cell_type": "code",
   "execution_count": 82,
   "metadata": {},
   "outputs": [],
   "source": [
    "#f1 score\n",
    "#from sklearn.metrics import f1_score\n",
    "\n",
    "from sklearn.metrics import confusion_matrix\n",
    "\n",
    "#print(\"F1 score :\", f1_score(y_test,y_pred ))\n"
   ]
  },
  {
   "cell_type": "code",
   "execution_count": 50,
   "metadata": {},
   "outputs": [],
   "source": [
    "#cm = confusion_matrix(y_test, y_pred)\n",
    "#cm"
   ]
  },
  {
   "cell_type": "code",
   "execution_count": 51,
   "metadata": {},
   "outputs": [],
   "source": [
    "#prob = svm.fit(x_train, y_train)"
   ]
  },
  {
   "cell_type": "code",
   "execution_count": 52,
   "metadata": {},
   "outputs": [],
   "source": [
    "#y_pred = svm.predict(x_test)"
   ]
  },
  {
   "cell_type": "code",
   "execution_count": 53,
   "metadata": {},
   "outputs": [],
   "source": [
    "#accuracy_score(y_test,y_pred)*100"
   ]
  },
  {
   "cell_type": "code",
   "execution_count": 54,
   "metadata": {},
   "outputs": [],
   "source": [
    "#creating output file\n",
    "#test_pred = svm.predict()\n",
    "\n",
    "\n",
    "#output\n",
    "#pred=svm.predict(todo)\n",
    "\n",
    "#my_submission = pd.DataFrame({'ID':test.id ,'label': pred})\n",
    "#my_submission.to_csv('submission_1.csv', index=False)"
   ]
  },
  {
   "cell_type": "code",
   "execution_count": 55,
   "metadata": {},
   "outputs": [],
   "source": [
    "\n",
    "#my_submission = pd.DataFrame({'id':id,'label': pred_test})\n",
    "#my_submission.to_csv('twitter_2.csv', index=False)"
   ]
  },
  {
   "cell_type": "code",
   "execution_count": null,
   "metadata": {},
   "outputs": [],
   "source": []
  },
  {
   "cell_type": "code",
   "execution_count": 56,
   "metadata": {},
   "outputs": [],
   "source": [
    "#from sklearn.ensemble import RandomForestClassifier"
   ]
  },
  {
   "cell_type": "code",
   "execution_count": 57,
   "metadata": {},
   "outputs": [],
   "source": [
    "\n",
    "#model_ran= RandomForestClassifier()\n",
    "#model_ran.fit(x_train, y_train)\n",
    "\n",
    "\n"
   ]
  },
  {
   "cell_type": "code",
   "execution_count": 58,
   "metadata": {},
   "outputs": [],
   "source": [
    "#y_pred_ran = model_ran.predict(x_test)\n",
    "\n"
   ]
  },
  {
   "cell_type": "code",
   "execution_count": 79,
   "metadata": {},
   "outputs": [],
   "source": [
    "from sklearn.metrics import f1_score\n",
    "\n",
    "#from sklearn.metrics import confusion_matrix"
   ]
  },
  {
   "cell_type": "code",
   "execution_count": 60,
   "metadata": {},
   "outputs": [],
   "source": [
    "\n",
    "#print(\"Training Accuracy :\", model_ran.score(x_train, y_train))\n",
    "#print(\"Validation Accuracy :\", model_ran.score(x_test, y_test))\n",
    "\n",
    "# calculating the f1 score for the validation set\n",
    "#print(\"F1 score :\", f1_score(y_test, y_pred_ran))\n",
    "\n",
    "# confusion matrix\n",
    "#cm = confusion_matrix(y_test, y_pred_ran)#\n",
    "#print(cm)\n",
    "\n"
   ]
  },
  {
   "cell_type": "code",
   "execution_count": 61,
   "metadata": {},
   "outputs": [],
   "source": [
    "#y_pred_ran_actual=model_ran.predict(x_vec_test)"
   ]
  },
  {
   "cell_type": "code",
   "execution_count": 62,
   "metadata": {},
   "outputs": [],
   "source": [
    "#y_pred_ran_actual"
   ]
  },
  {
   "cell_type": "code",
   "execution_count": 63,
   "metadata": {},
   "outputs": [],
   "source": [
    "#my_submission = pd.DataFrame({'id':id,'label': y_pred_ran_actual})\n",
    "#my_submission.to_csv('twitter_3.csv', index=False)"
   ]
  },
  {
   "cell_type": "code",
   "execution_count": 86,
   "metadata": {},
   "outputs": [
    {
     "name": "stdout",
     "output_type": "stream",
     "text": [
      "Requirement already satisfied: xgboost in c:\\users\\smhac\\anaconda3\\lib\\site-packages (1.4.2)\n",
      "Requirement already satisfied: scipy in c:\\users\\smhac\\anaconda3\\lib\\site-packages (from xgboost) (1.6.2)\n",
      "Requirement already satisfied: numpy in c:\\users\\smhac\\anaconda3\\lib\\site-packages (from xgboost) (1.20.2)\n"
     ]
    }
   ],
   "source": [
    "!pip install xgboost"
   ]
  },
  {
   "cell_type": "code",
   "execution_count": 65,
   "metadata": {},
   "outputs": [],
   "source": [
    "import xgboost as xgb"
   ]
  },
  {
   "cell_type": "code",
   "execution_count": 66,
   "metadata": {},
   "outputs": [],
   "source": [
    "from xgboost.sklearn import XGBClassifier"
   ]
  },
  {
   "cell_type": "code",
   "execution_count": 67,
   "metadata": {},
   "outputs": [],
   "source": [
    "xgboost = XGBClassifier(ngram_range=(1,3), min_df=5, max_df=0.8,stop_words = 'english')"
   ]
  },
  {
   "cell_type": "code",
   "execution_count": 75,
   "metadata": {},
   "outputs": [
    {
     "name": "stderr",
     "output_type": "stream",
     "text": [
      "C:\\Users\\smhac\\anaconda3\\lib\\site-packages\\xgboost\\sklearn.py:1146: UserWarning: The use of label encoder in XGBClassifier is deprecated and will be removed in a future release. To remove this warning, do the following: 1) Pass option use_label_encoder=False when constructing XGBClassifier object; and 2) Encode your labels (y) as integers starting with 0, i.e. 0, 1, 2, ..., [num_class - 1].\n",
      "  warnings.warn(label_encoder_deprecation_msg, UserWarning)\n"
     ]
    },
    {
     "name": "stdout",
     "output_type": "stream",
     "text": [
      "[17:07:25] WARNING: C:/Users/Administrator/workspace/xgboost-win64_release_1.4.0/src/learner.cc:573: \n",
      "Parameters: { \"max_df\", \"min_df\", \"ngram_range\", \"stop_words\" } might not be used.\n",
      "\n",
      "  This may not be accurate due to some parameters are only used in language bindings but\n",
      "  passed down to XGBoost core.  Or some parameters are not used but slip through this\n",
      "  verification. Please open an issue if you find above cases.\n",
      "\n",
      "\n",
      "[17:07:25] WARNING: C:/Users/Administrator/workspace/xgboost-win64_release_1.4.0/src/learner.cc:1095: Starting in XGBoost 1.3.0, the default evaluation metric used with the objective 'binary:logistic' was changed from 'error' to 'logloss'. Explicitly set eval_metric if you'd like to restore the old behavior.\n"
     ]
    }
   ],
   "source": [
    "X_train_xgb = xgboost.fit(x_train1,y_train1)"
   ]
  },
  {
   "cell_type": "code",
   "execution_count": null,
   "metadata": {},
   "outputs": [],
   "source": [
    "from platform import python_version\n",
    "\n",
    "print(python_version())"
   ]
  },
  {
   "cell_type": "code",
   "execution_count": 70,
   "metadata": {},
   "outputs": [],
   "source": [
    "\n",
    "from sklearn.feature_extraction.text import TfidfVectorizer\n"
   ]
  },
  {
   "cell_type": "code",
   "execution_count": 71,
   "metadata": {},
   "outputs": [],
   "source": [
    "tfidf = TfidfVectorizer(ngram_range=(1,3), min_df=5, max_df=0.8,stop_words = 'english')"
   ]
  },
  {
   "cell_type": "code",
   "execution_count": 72,
   "metadata": {},
   "outputs": [],
   "source": [
    "X_train_tfidf = tfidf.fit_transform(x)\n",
    "#X_test_tfidf = tfidf.transform()"
   ]
  },
  {
   "cell_type": "code",
   "execution_count": 73,
   "metadata": {},
   "outputs": [
    {
     "data": {
      "text/plain": [
       "<31962x6159 sparse matrix of type '<class 'numpy.float64'>'\n",
       "\twith 154927 stored elements in Compressed Sparse Row format>"
      ]
     },
     "execution_count": 73,
     "metadata": {},
     "output_type": "execute_result"
    }
   ],
   "source": [
    "X_train_tfidf"
   ]
  },
  {
   "cell_type": "code",
   "execution_count": 74,
   "metadata": {},
   "outputs": [],
   "source": [
    "#spliting the train data for train and test split cross validation\n",
    "x_train1, x_test1, y_train1, y_test1 = train_test_split(X_train_tfidf,y,stratify=y,test_size=0.3,random_state=2,shuffle=True)"
   ]
  },
  {
   "cell_type": "code",
   "execution_count": null,
   "metadata": {},
   "outputs": [],
   "source": [
    "#from sklearn import svm\n",
    "\n",
    "#svm2 = svm.SVC(kernel='linear', probability = True)\n",
    "#model_2= svm2.fit(x_train1,y_train1)"
   ]
  },
  {
   "cell_type": "code",
   "execution_count": null,
   "metadata": {},
   "outputs": [],
   "source": [
    "#pred_tfidf=model_2.predict(x_test1)"
   ]
  },
  {
   "cell_type": "code",
   "execution_count": null,
   "metadata": {},
   "outputs": [],
   "source": [
    "#pred_tfidf"
   ]
  },
  {
   "cell_type": "code",
   "execution_count": null,
   "metadata": {},
   "outputs": [],
   "source": [
    "#f1_score(y_test1, pred_tfidf)"
   ]
  },
  {
   "cell_type": "code",
   "execution_count": null,
   "metadata": {},
   "outputs": [],
   "source": [
    "#confusion_matrix(y_test1, pred_tfidf)"
   ]
  },
  {
   "cell_type": "code",
   "execution_count": 76,
   "metadata": {},
   "outputs": [],
   "source": [
    "X_test_tfidf = tfidf.transform(test_02['clean'])"
   ]
  },
  {
   "cell_type": "code",
   "execution_count": null,
   "metadata": {},
   "outputs": [],
   "source": [
    "#pred_tfidf_act=model_2.predict(X_test_tfidf)"
   ]
  },
  {
   "cell_type": "code",
   "execution_count": null,
   "metadata": {},
   "outputs": [],
   "source": [
    "#pred_tfidf_act"
   ]
  },
  {
   "cell_type": "code",
   "execution_count": null,
   "metadata": {},
   "outputs": [],
   "source": [
    "#my_submission = pd.DataFrame({'id':id,'label': pred_tfidf_act})\n",
    "#my_submission.to_csv('twitter_4.csv', index=False)"
   ]
  },
  {
   "cell_type": "code",
   "execution_count": 77,
   "metadata": {},
   "outputs": [],
   "source": [
    "# for xbost\n",
    "pred_xg=X_train_xgb.predict(x_test1)"
   ]
  },
  {
   "cell_type": "code",
   "execution_count": 80,
   "metadata": {},
   "outputs": [
    {
     "data": {
      "text/plain": [
       "0.4209328782707622"
      ]
     },
     "execution_count": 80,
     "metadata": {},
     "output_type": "execute_result"
    }
   ],
   "source": [
    "f1_score(y_test1,pred_xg)"
   ]
  },
  {
   "cell_type": "code",
   "execution_count": 83,
   "metadata": {},
   "outputs": [
    {
     "data": {
      "text/plain": [
       "array([[8895,   21],\n",
       "       [ 488,  185]], dtype=int64)"
      ]
     },
     "execution_count": 83,
     "metadata": {},
     "output_type": "execute_result"
    }
   ],
   "source": [
    "confusion_matrix(y_test1,pred_xg)"
   ]
  },
  {
   "cell_type": "code",
   "execution_count": 84,
   "metadata": {},
   "outputs": [],
   "source": [
    "pred_xg_act=X_train_xgb.predict(X_test_tfidf)"
   ]
  },
  {
   "cell_type": "code",
   "execution_count": 85,
   "metadata": {},
   "outputs": [],
   "source": [
    "my_submission = pd.DataFrame({'id':id,'label':pred_xg_act })\n",
    "my_submission.to_csv('twitter_5.csv', index=False)"
   ]
  }
 ],
 "metadata": {
  "kernelspec": {
   "display_name": "Python 3",
   "language": "python",
   "name": "python3"
  },
  "language_info": {
   "codemirror_mode": {
    "name": "ipython",
    "version": 3
   },
   "file_extension": ".py",
   "mimetype": "text/x-python",
   "name": "python",
   "nbconvert_exporter": "python",
   "pygments_lexer": "ipython3",
   "version": "3.8.10"
  }
 },
 "nbformat": 4,
 "nbformat_minor": 4
}
