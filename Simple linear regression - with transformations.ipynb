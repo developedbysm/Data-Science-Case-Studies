{
 "cells": [
  {
   "cell_type": "code",
   "execution_count": 2,
   "metadata": {},
   "outputs": [],
   "source": [
    "# For reading data set\n",
    "# importing necessary libraries\n",
    "import pandas as pd \n",
    "import numpy as np\n",
    "import matplotlib.pyplot as plt\n",
    "\n"
   ]
  },
  {
   "cell_type": "code",
   "execution_count": 3,
   "metadata": {},
   "outputs": [
    {
     "data": {
      "text/plain": [
       "Index(['Waist', 'AT'], dtype='object')"
      ]
     },
     "execution_count": 3,
     "metadata": {},
     "output_type": "execute_result"
    }
   ],
   "source": [
    "\n",
    "# reading a csv file using pandas library\n",
    "wcat=pd.read_csv(\"wc-at.csv\")\n",
    "wcat.columns\n",
    "\n",
    "\n"
   ]
  },
  {
   "cell_type": "code",
   "execution_count": 4,
   "metadata": {},
   "outputs": [
    {
     "data": {
      "text/plain": [
       "{'whiskers': [<matplotlib.lines.Line2D at 0x122816430>,\n",
       "  <matplotlib.lines.Line2D at 0x122816790>],\n",
       " 'caps': [<matplotlib.lines.Line2D at 0x122816af0>,\n",
       "  <matplotlib.lines.Line2D at 0x122816e50>],\n",
       " 'boxes': [<matplotlib.lines.Line2D at 0x122816160>],\n",
       " 'medians': [<matplotlib.lines.Line2D at 0x12282b1f0>],\n",
       " 'fliers': [<matplotlib.lines.Line2D at 0x12282b550>],\n",
       " 'means': []}"
      ]
     },
     "execution_count": 4,
     "metadata": {},
     "output_type": "execute_result"
    },
    {
     "data": {
      "image/png": "[encoded data removed]",
      "text/plain": [
       "<Figure size 432x288 with 1 Axes>"
      ]
     },
     "metadata": {
      "needs_background": "light"
     },
     "output_type": "display_data"
    }
   ],
   "source": [
    "plt.hist(wcat.Waist)\n",
    "plt.boxplot(wcat.Waist,0,\"rs\",0)\n",
    "\n",
    "\n",
    "\n"
   ]
  },
  {
   "cell_type": "code",
   "execution_count": 5,
   "metadata": {},
   "outputs": [
    {
     "data": {
      "text/plain": [
       "{'whiskers': [<matplotlib.lines.Line2D at 0x1228ded90>,\n",
       "  <matplotlib.lines.Line2D at 0x1228ee130>],\n",
       " 'caps': [<matplotlib.lines.Line2D at 0x1228ee490>,\n",
       "  <matplotlib.lines.Line2D at 0x1228ee7f0>],\n",
       " 'boxes': [<matplotlib.lines.Line2D at 0x1228deac0>],\n",
       " 'medians': [<matplotlib.lines.Line2D at 0x1228eeb50>],\n",
       " 'fliers': [<matplotlib.lines.Line2D at 0x1228eeeb0>],\n",
       " 'means': []}"
      ]
     },
     "execution_count": 5,
     "metadata": {},
     "output_type": "execute_result"
    },
    {
     "data": {
      "image/png": "[encoded data removed]",
      "text/plain": [
       "<Figure size 432x288 with 1 Axes>"
      ]
     },
     "metadata": {
      "needs_background": "light"
     },
     "output_type": "display_data"
    }
   ],
   "source": [
    "plt.hist(wcat.AT)\n",
    "plt.boxplot(wcat.AT)\n",
    "\n",
    "\n"
   ]
  },
  {
   "cell_type": "code",
   "execution_count": 6,
   "metadata": {},
   "outputs": [
    {
     "data": {
      "text/plain": [
       "Text(0, 0.5, 'AT')"
      ]
     },
     "execution_count": 6,
     "metadata": {},
     "output_type": "execute_result"
    },
    {
     "data": {
      "image/png": "[encoded data removed]",
      "text/plain": [
       "<Figure size 432x288 with 1 Axes>"
      ]
     },
     "metadata": {
      "needs_background": "light"
     },
     "output_type": "display_data"
    }
   ],
   "source": [
    "plt.plot(wcat.Waist,wcat.AT,\"bo\");plt.xlabel(\"Waist\");plt.ylabel(\"AT\")\n"
   ]
  },
  {
   "cell_type": "code",
   "execution_count": 7,
   "metadata": {},
   "outputs": [
    {
     "data": {
      "text/plain": [
       "array([[1.        , 0.81855781],\n",
       "       [0.81855781, 1.        ]])"
      ]
     },
     "execution_count": 7,
     "metadata": {},
     "output_type": "execute_result"
    }
   ],
   "source": [
    "wcat.AT.corr(wcat.Waist) # # correlation value between X and Y\n",
    "np.corrcoef(wcat.AT,wcat.Waist)\n",
    "\n"
   ]
  },
  {
   "cell_type": "code",
   "execution_count": 8,
   "metadata": {},
   "outputs": [
    {
     "data": {
      "text/html": [
       "<table class=\"simpletable\">\n",
       "<caption>OLS Regression Results</caption>\n",
       "<tr>\n",
       "  <th>Dep. Variable:</th>           <td>AT</td>        <th>  R-squared:         </th> <td>   0.670</td>\n",
       "</tr>\n",
       "<tr>\n",
       "  <th>Model:</th>                   <td>OLS</td>       <th>  Adj. R-squared:    </th> <td>   0.667</td>\n",
       "</tr>\n",
       "<tr>\n",
       "  <th>Method:</th>             <td>Least Squares</td>  <th>  F-statistic:       </th> <td>   217.3</td>\n",
       "</tr>\n",
       "<tr>\n",
       "  <th>Date:</th>             <td>Mon, 17 May 2021</td> <th>  Prob (F-statistic):</th> <td>1.62e-27</td>\n",
       "</tr>\n",
       "<tr>\n",
       "  <th>Time:</th>                 <td>13:20:30</td>     <th>  Log-Likelihood:    </th> <td> -534.99</td>\n",
       "</tr>\n",
       "<tr>\n",
       "  <th>No. Observations:</th>      <td>   109</td>      <th>  AIC:               </th> <td>   1074.</td>\n",
       "</tr>\n",
       "<tr>\n",
       "  <th>Df Residuals:</th>          <td>   107</td>      <th>  BIC:               </th> <td>   1079.</td>\n",
       "</tr>\n",
       "<tr>\n",
       "  <th>Df Model:</th>              <td>     1</td>      <th>                     </th>     <td> </td>   \n",
       "</tr>\n",
       "<tr>\n",
       "  <th>Covariance Type:</th>      <td>nonrobust</td>    <th>                     </th>     <td> </td>   \n",
       "</tr>\n",
       "</table>\n",
       "<table class=\"simpletable\">\n",
       "<tr>\n",
       "      <td></td>         <th>coef</th>     <th>std err</th>      <th>t</th>      <th>P>|t|</th>  <th>[0.025</th>    <th>0.975]</th>  \n",
       "</tr>\n",
       "<tr>\n",
       "  <th>Intercept</th> <td> -215.9815</td> <td>   21.796</td> <td>   -9.909</td> <td> 0.000</td> <td> -259.190</td> <td> -172.773</td>\n",
       "</tr>\n",
       "<tr>\n",
       "  <th>Waist</th>     <td>    3.4589</td> <td>    0.235</td> <td>   14.740</td> <td> 0.000</td> <td>    2.994</td> <td>    3.924</td>\n",
       "</tr>\n",
       "</table>\n",
       "<table class=\"simpletable\">\n",
       "<tr>\n",
       "  <th>Omnibus:</th>       <td> 3.960</td> <th>  Durbin-Watson:     </th> <td>   1.560</td>\n",
       "</tr>\n",
       "<tr>\n",
       "  <th>Prob(Omnibus):</th> <td> 0.138</td> <th>  Jarque-Bera (JB):  </th> <td>   4.596</td>\n",
       "</tr>\n",
       "<tr>\n",
       "  <th>Skew:</th>          <td> 0.104</td> <th>  Prob(JB):          </th> <td>   0.100</td>\n",
       "</tr>\n",
       "<tr>\n",
       "  <th>Kurtosis:</th>      <td> 3.984</td> <th>  Cond. No.          </th> <td>    639.</td>\n",
       "</tr>\n",
       "</table><br/><br/>Notes:<br/>[1] Standard Errors assume that the covariance matrix of the errors is correctly specified."
      ],
      "text/plain": [
       "<class 'statsmodels.iolib.summary.Summary'>\n",
       "\"\"\"\n",
       "                            OLS Regression Results                            \n",
       "==============================================================================\n",
       "Dep. Variable:                     AT   R-squared:                       0.670\n",
       "Model:                            OLS   Adj. R-squared:                  0.667\n",
       "Method:                 Least Squares   F-statistic:                     217.3\n",
       "Date:                Mon, 17 May 2021   Prob (F-statistic):           1.62e-27\n",
       "Time:                        13:20:30   Log-Likelihood:                -534.99\n",
       "No. Observations:                 109   AIC:                             1074.\n",
       "Df Residuals:                     107   BIC:                             1079.\n",
       "Df Model:                           1                                         \n",
       "Covariance Type:            nonrobust                                         \n",
       "==============================================================================\n",
       "                 coef    std err          t      P>|t|      [0.025      0.975]\n",
       "------------------------------------------------------------------------------\n",
       "Intercept   -215.9815     21.796     -9.909      0.000    -259.190    -172.773\n",
       "Waist          3.4589      0.235     14.740      0.000       2.994       3.924\n",
       "==============================================================================\n",
       "Omnibus:                        3.960   Durbin-Watson:                   1.560\n",
       "Prob(Omnibus):                  0.138   Jarque-Bera (JB):                4.596\n",
       "Skew:                           0.104   Prob(JB):                        0.100\n",
       "Kurtosis:                       3.984   Cond. No.                         639.\n",
       "==============================================================================\n",
       "\n",
       "Notes:\n",
       "[1] Standard Errors assume that the covariance matrix of the errors is correctly specified.\n",
       "\"\"\""
      ]
     },
     "execution_count": 8,
     "metadata": {},
     "output_type": "execute_result"
    }
   ],
   "source": [
    "# For preparing linear regression model we need to import the statsmodels.formula.api\n",
    "import statsmodels.formula.api as smf\n",
    "model=smf.ols(\"AT~Waist\",data=wcat).fit()\n",
    "\n",
    "# For getting coefficients of the varibles used in equation\n",
    "model.params\n",
    "\n",
    "# P-values for the variables and R-squared value for prepared model\n",
    "model.summary()\n",
    "\n",
    "\n"
   ]
  },
  {
   "cell_type": "code",
   "execution_count": 9,
   "metadata": {},
   "outputs": [
    {
     "data": {
      "text/plain": [
       "0.818557812895853"
      ]
     },
     "execution_count": 9,
     "metadata": {},
     "output_type": "execute_result"
    },
    {
     "data": {
      "image/png": "[encoded data removed]",
      "text/plain": [
       "<Figure size 432x288 with 1 Axes>"
      ]
     },
     "metadata": {
      "needs_background": "light"
     },
     "output_type": "display_data"
    }
   ],
   "source": [
    "model.conf_int(0.05) # 95% confidence interval\n",
    "\n",
    "pred = model.predict(wcat.iloc[:,0]) # Predicted values of AT using the model\n",
    "\n",
    "# Visualization of regresion line over the scatter plot of Waist and AT\n",
    "# For visualization we need to import matplotlib.pyplot\n",
    "import matplotlib.pylab as plt\n",
    "plt.scatter(x=wcat['Waist'],y=wcat['AT'],color='red');plt.plot(wcat['Waist'],pred,color='black');plt.xlabel('WAIST');plt.ylabel('TISSUE')\n",
    "\n",
    "pred.corr(wcat.AT) # 0.81\n",
    "\n",
    "\n"
   ]
  },
  {
   "cell_type": "code",
   "execution_count": 10,
   "metadata": {},
   "outputs": [
    {
     "name": "stdout",
     "output_type": "stream",
     "text": [
      "                         0            1\n",
      "Intercept     -1579.905632 -1076.778346\n",
      "np.log(Waist)   261.384641   372.886487\n"
     ]
    },
    {
     "data": {
      "text/plain": [
       "Text(0, 0.5, 'TISSUE')"
      ]
     },
     "execution_count": 10,
     "metadata": {},
     "output_type": "execute_result"
    },
    {
     "data": {
      "image/png": "[encoded data removed]",
      "text/plain": [
       "<Figure size 432x288 with 1 Axes>"
      ]
     },
     "metadata": {
      "needs_background": "light"
     },
     "output_type": "display_data"
    }
   ],
   "source": [
    "# Transforming variables for accuracy\n",
    "model2 = smf.ols('AT~np.log(Waist)',data=wcat).fit()\n",
    "model2.params\n",
    "model2.summary()\n",
    "print(model2.conf_int(0.01)) # 99% confidence level\n",
    "pred2 = model2.predict(pd.DataFrame(wcat['Waist']))\n",
    "pred2.corr(wcat.AT)\n",
    "# pred2 = model2.predict(wcat.iloc[:,0])\n",
    "pred2\n",
    "plt.scatter(x=wcat['Waist'],y=wcat['AT'],color='green');plt.plot(wcat['Waist'],pred2,color='blue');plt.xlabel('WAIST');plt.ylabel('TISSUE')\n",
    "\n",
    "\n"
   ]
  },
  {
   "cell_type": "code",
   "execution_count": 11,
   "metadata": {},
   "outputs": [
    {
     "data": {
      "text/html": [
       "<table class=\"simpletable\">\n",
       "<caption>OLS Regression Results</caption>\n",
       "<tr>\n",
       "  <th>Dep. Variable:</th>       <td>np.log(AT)</td>    <th>  R-squared:         </th> <td>   0.707</td>\n",
       "</tr>\n",
       "<tr>\n",
       "  <th>Model:</th>                   <td>OLS</td>       <th>  Adj. R-squared:    </th> <td>   0.704</td>\n",
       "</tr>\n",
       "<tr>\n",
       "  <th>Method:</th>             <td>Least Squares</td>  <th>  F-statistic:       </th> <td>   258.3</td>\n",
       "</tr>\n",
       "<tr>\n",
       "  <th>Date:</th>             <td>Mon, 17 May 2021</td> <th>  Prob (F-statistic):</th> <td>2.68e-30</td>\n",
       "</tr>\n",
       "<tr>\n",
       "  <th>Time:</th>                 <td>13:20:30</td>     <th>  Log-Likelihood:    </th> <td> -40.123</td>\n",
       "</tr>\n",
       "<tr>\n",
       "  <th>No. Observations:</th>      <td>   109</td>      <th>  AIC:               </th> <td>   84.25</td>\n",
       "</tr>\n",
       "<tr>\n",
       "  <th>Df Residuals:</th>          <td>   107</td>      <th>  BIC:               </th> <td>   89.63</td>\n",
       "</tr>\n",
       "<tr>\n",
       "  <th>Df Model:</th>              <td>     1</td>      <th>                     </th>     <td> </td>   \n",
       "</tr>\n",
       "<tr>\n",
       "  <th>Covariance Type:</th>      <td>nonrobust</td>    <th>                     </th>     <td> </td>   \n",
       "</tr>\n",
       "</table>\n",
       "<table class=\"simpletable\">\n",
       "<tr>\n",
       "      <td></td>         <th>coef</th>     <th>std err</th>      <th>t</th>      <th>P>|t|</th>  <th>[0.025</th>    <th>0.975]</th>  \n",
       "</tr>\n",
       "<tr>\n",
       "  <th>Intercept</th> <td>    0.7410</td> <td>    0.233</td> <td>    3.185</td> <td> 0.002</td> <td>    0.280</td> <td>    1.202</td>\n",
       "</tr>\n",
       "<tr>\n",
       "  <th>Waist</th>     <td>    0.0403</td> <td>    0.003</td> <td>   16.073</td> <td> 0.000</td> <td>    0.035</td> <td>    0.045</td>\n",
       "</tr>\n",
       "</table>\n",
       "<table class=\"simpletable\">\n",
       "<tr>\n",
       "  <th>Omnibus:</th>       <td> 2.604</td> <th>  Durbin-Watson:     </th> <td>   1.201</td>\n",
       "</tr>\n",
       "<tr>\n",
       "  <th>Prob(Omnibus):</th> <td> 0.272</td> <th>  Jarque-Bera (JB):  </th> <td>   2.117</td>\n",
       "</tr>\n",
       "<tr>\n",
       "  <th>Skew:</th>          <td>-0.329</td> <th>  Prob(JB):          </th> <td>   0.347</td>\n",
       "</tr>\n",
       "<tr>\n",
       "  <th>Kurtosis:</th>      <td> 3.182</td> <th>  Cond. No.          </th> <td>    639.</td>\n",
       "</tr>\n",
       "</table><br/><br/>Notes:<br/>[1] Standard Errors assume that the covariance matrix of the errors is correctly specified."
      ],
      "text/plain": [
       "<class 'statsmodels.iolib.summary.Summary'>\n",
       "\"\"\"\n",
       "                            OLS Regression Results                            \n",
       "==============================================================================\n",
       "Dep. Variable:             np.log(AT)   R-squared:                       0.707\n",
       "Model:                            OLS   Adj. R-squared:                  0.704\n",
       "Method:                 Least Squares   F-statistic:                     258.3\n",
       "Date:                Mon, 17 May 2021   Prob (F-statistic):           2.68e-30\n",
       "Time:                        13:20:30   Log-Likelihood:                -40.123\n",
       "No. Observations:                 109   AIC:                             84.25\n",
       "Df Residuals:                     107   BIC:                             89.63\n",
       "Df Model:                           1                                         \n",
       "Covariance Type:            nonrobust                                         \n",
       "==============================================================================\n",
       "                 coef    std err          t      P>|t|      [0.025      0.975]\n",
       "------------------------------------------------------------------------------\n",
       "Intercept      0.7410      0.233      3.185      0.002       0.280       1.202\n",
       "Waist          0.0403      0.003     16.073      0.000       0.035       0.045\n",
       "==============================================================================\n",
       "Omnibus:                        2.604   Durbin-Watson:                   1.201\n",
       "Prob(Omnibus):                  0.272   Jarque-Bera (JB):                2.117\n",
       "Skew:                          -0.329   Prob(JB):                        0.347\n",
       "Kurtosis:                       3.182   Cond. No.                         639.\n",
       "==============================================================================\n",
       "\n",
       "Notes:\n",
       "[1] Standard Errors assume that the covariance matrix of the errors is correctly specified.\n",
       "\"\"\""
      ]
     },
     "execution_count": 11,
     "metadata": {},
     "output_type": "execute_result"
    }
   ],
   "source": [
    "# Exponential transformation\n",
    "model3 = smf.ols('np.log(AT)~Waist',data=wcat).fit()\n",
    "model3.params\n",
    "model3.summary()\n",
    "\n",
    "\n"
   ]
  },
  {
   "cell_type": "code",
   "execution_count": 12,
   "metadata": {},
   "outputs": [
    {
     "name": "stdout",
     "output_type": "stream",
     "text": [
      "                  0         1\n",
      "Intercept  0.130939  1.351102\n",
      "Waist      0.033684  0.046820\n"
     ]
    },
    {
     "data": {
      "text/plain": [
       "Text(0, 0.5, 'Actual')"
      ]
     },
     "execution_count": 12,
     "metadata": {},
     "output_type": "execute_result"
    },
    {
     "data": {
      "image/png": "[encoded data removed]",
      "text/plain": [
       "<Figure size 432x288 with 1 Axes>"
      ]
     },
     "metadata": {
      "needs_background": "light"
     },
     "output_type": "display_data"
    }
   ],
   "source": [
    "print(model3.conf_int(0.01)) # 99% confidence level\n",
    "pred_log = model3.predict(pd.DataFrame(wcat['Waist']))\n",
    "pred_log\n",
    "pred3=np.exp(pred_log)  # as we have used log(AT) in preparing model so we need to convert it back\n",
    "pred3\n",
    "pred3.corr(wcat.AT)\n",
    "plt.scatter(x=wcat['Waist'],y=wcat['AT'],color='green');plt.plot(wcat.Waist,np.exp(pred_log),color='blue');plt.xlabel('WAIST');plt.ylabel('TISSUE')\n",
    "resid_3 = pred3-wcat.AT\n",
    "# so we will consider the model having highest R-Squared value which is the log transformation - model3\n",
    "# getting residuals of the entire data set\n",
    "student_resid = model3.resid_pearson \n",
    "student_resid\n",
    "plt.plot(model3.resid_pearson,'o');plt.axhline(y=0,color='green');plt.xlabel(\"Observation Number\");plt.ylabel(\"Standardized Residual\")\n",
    "\n",
    "# Predicted vs actual values\n",
    "plt.scatter(x=pred3,y=wcat.AT);plt.xlabel(\"Predicted\");plt.ylabel(\"Actual\")\n",
    "\n"
   ]
  },
  {
   "cell_type": "code",
   "execution_count": 13,
   "metadata": {},
   "outputs": [
    {
     "data": {
      "text/html": [
       "<table class=\"simpletable\">\n",
       "<caption>OLS Regression Results</caption>\n",
       "<tr>\n",
       "  <th>Dep. Variable:</th>           <td>AT</td>        <th>  R-squared:         </th> <td>   0.678</td>\n",
       "</tr>\n",
       "<tr>\n",
       "  <th>Model:</th>                   <td>OLS</td>       <th>  Adj. R-squared:    </th> <td>   0.672</td>\n",
       "</tr>\n",
       "<tr>\n",
       "  <th>Method:</th>             <td>Least Squares</td>  <th>  F-statistic:       </th> <td>   111.6</td>\n",
       "</tr>\n",
       "<tr>\n",
       "  <th>Date:</th>             <td>Mon, 17 May 2021</td> <th>  Prob (F-statistic):</th> <td>8.37e-27</td>\n",
       "</tr>\n",
       "<tr>\n",
       "  <th>Time:</th>                 <td>13:20:30</td>     <th>  Log-Likelihood:    </th> <td> -533.67</td>\n",
       "</tr>\n",
       "<tr>\n",
       "  <th>No. Observations:</th>      <td>   109</td>      <th>  AIC:               </th> <td>   1073.</td>\n",
       "</tr>\n",
       "<tr>\n",
       "  <th>Df Residuals:</th>          <td>   106</td>      <th>  BIC:               </th> <td>   1081.</td>\n",
       "</tr>\n",
       "<tr>\n",
       "  <th>Df Model:</th>              <td>     2</td>      <th>                     </th>     <td> </td>   \n",
       "</tr>\n",
       "<tr>\n",
       "  <th>Covariance Type:</th>      <td>nonrobust</td>    <th>                     </th>     <td> </td>   \n",
       "</tr>\n",
       "</table>\n",
       "<table class=\"simpletable\">\n",
       "<tr>\n",
       "      <td></td>         <th>coef</th>     <th>std err</th>      <th>t</th>      <th>P>|t|</th>  <th>[0.025</th>    <th>0.975]</th>  \n",
       "</tr>\n",
       "<tr>\n",
       "  <th>Intercept</th> <td> -466.2887</td> <td>  156.964</td> <td>   -2.971</td> <td> 0.004</td> <td> -777.485</td> <td> -155.092</td>\n",
       "</tr>\n",
       "<tr>\n",
       "  <th>Waist</th>     <td>    8.9709</td> <td>    3.431</td> <td>    2.614</td> <td> 0.010</td> <td>    2.168</td> <td>   15.774</td>\n",
       "</tr>\n",
       "<tr>\n",
       "  <th>Waist_Sq</th>  <td>   -0.0297</td> <td>    0.018</td> <td>   -1.610</td> <td> 0.110</td> <td>   -0.066</td> <td>    0.007</td>\n",
       "</tr>\n",
       "</table>\n",
       "<table class=\"simpletable\">\n",
       "<tr>\n",
       "  <th>Omnibus:</th>       <td> 3.682</td> <th>  Durbin-Watson:     </th> <td>   1.620</td>\n",
       "</tr>\n",
       "<tr>\n",
       "  <th>Prob(Omnibus):</th> <td> 0.159</td> <th>  Jarque-Bera (JB):  </th> <td>   3.054</td>\n",
       "</tr>\n",
       "<tr>\n",
       "  <th>Skew:</th>          <td> 0.338</td> <th>  Prob(JB):          </th> <td>   0.217</td>\n",
       "</tr>\n",
       "<tr>\n",
       "  <th>Kurtosis:</th>      <td> 3.465</td> <th>  Cond. No.          </th> <td>4.49e+05</td>\n",
       "</tr>\n",
       "</table><br/><br/>Notes:<br/>[1] Standard Errors assume that the covariance matrix of the errors is correctly specified.<br/>[2] The condition number is large, 4.49e+05. This might indicate that there are<br/>strong multicollinearity or other numerical problems."
      ],
      "text/plain": [
       "<class 'statsmodels.iolib.summary.Summary'>\n",
       "\"\"\"\n",
       "                            OLS Regression Results                            \n",
       "==============================================================================\n",
       "Dep. Variable:                     AT   R-squared:                       0.678\n",
       "Model:                            OLS   Adj. R-squared:                  0.672\n",
       "Method:                 Least Squares   F-statistic:                     111.6\n",
       "Date:                Mon, 17 May 2021   Prob (F-statistic):           8.37e-27\n",
       "Time:                        13:20:30   Log-Likelihood:                -533.67\n",
       "No. Observations:                 109   AIC:                             1073.\n",
       "Df Residuals:                     106   BIC:                             1081.\n",
       "Df Model:                           2                                         \n",
       "Covariance Type:            nonrobust                                         \n",
       "==============================================================================\n",
       "                 coef    std err          t      P>|t|      [0.025      0.975]\n",
       "------------------------------------------------------------------------------\n",
       "Intercept   -466.2887    156.964     -2.971      0.004    -777.485    -155.092\n",
       "Waist          8.9709      3.431      2.614      0.010       2.168      15.774\n",
       "Waist_Sq      -0.0297      0.018     -1.610      0.110      -0.066       0.007\n",
       "==============================================================================\n",
       "Omnibus:                        3.682   Durbin-Watson:                   1.620\n",
       "Prob(Omnibus):                  0.159   Jarque-Bera (JB):                3.054\n",
       "Skew:                           0.338   Prob(JB):                        0.217\n",
       "Kurtosis:                       3.465   Cond. No.                     4.49e+05\n",
       "==============================================================================\n",
       "\n",
       "Notes:\n",
       "[1] Standard Errors assume that the covariance matrix of the errors is correctly specified.\n",
       "[2] The condition number is large, 4.49e+05. This might indicate that there are\n",
       "strong multicollinearity or other numerical problems.\n",
       "\"\"\""
      ]
     },
     "execution_count": 13,
     "metadata": {},
     "output_type": "execute_result"
    }
   ],
   "source": [
    "\n",
    "\n",
    "# Quadratic model\n",
    "wcat[\"Waist_Sq\"] = wcat.Waist*wcat.Waist\n",
    "model_quad = smf.ols(\"AT~Waist+Waist_Sq\",data=wcat).fit()\n",
    "\n",
    "model_quad.params\n",
    "model_quad.summary()\n"
   ]
  },
  {
   "cell_type": "code",
   "execution_count": 23,
   "metadata": {},
   "outputs": [],
   "source": [
    "\n",
    "#pred_quad = model_quad.predict(wcat['Waist']+wcat['Waist_Sq'])\n",
    "\n",
    "#model_quad.conf_int(0.05) # \n",
    "#plt.scatter(wcat.Waist,wcat.AT,c=\"b\");plt.plot(wcat.Waist,pred_quad,\"r\")\n",
    "\n",
    "#plt.scatter(np.arange(109),model_quad.resid_pearson);plt.axhline(y=0,color='red');plt.xlabel(\"Observation Number\");plt.ylabel(\"Standardized Residual\")\n",
    "\n",
    "#plt.hist(model_quad.resid_pearson) # histogram for residual values \n",
    "\n"
   ]
  },
  {
   "cell_type": "code",
   "execution_count": 18,
   "metadata": {},
   "outputs": [
    {
     "data": {
      "text/html": [
       "<div>\n",
       "<style scoped>\n",
       "    .dataframe tbody tr th:only-of-type {\n",
       "        vertical-align: middle;\n",
       "    }\n",
       "\n",
       "    .dataframe tbody tr th {\n",
       "        vertical-align: top;\n",
       "    }\n",
       "\n",
       "    .dataframe thead th {\n",
       "        text-align: right;\n",
       "    }\n",
       "</style>\n",
       "<table border=\"1\" class=\"dataframe\">\n",
       "  <thead>\n",
       "    <tr style=\"text-align: right;\">\n",
       "      <th></th>\n",
       "      <th>Waist</th>\n",
       "      <th>AT</th>\n",
       "      <th>Waist_Sq</th>\n",
       "    </tr>\n",
       "  </thead>\n",
       "  <tbody>\n",
       "    <tr>\n",
       "      <th>0</th>\n",
       "      <td>74.75</td>\n",
       "      <td>25.72</td>\n",
       "      <td>5587.5625</td>\n",
       "    </tr>\n",
       "    <tr>\n",
       "      <th>1</th>\n",
       "      <td>72.60</td>\n",
       "      <td>25.89</td>\n",
       "      <td>5270.7600</td>\n",
       "    </tr>\n",
       "    <tr>\n",
       "      <th>2</th>\n",
       "      <td>81.80</td>\n",
       "      <td>42.60</td>\n",
       "      <td>6691.2400</td>\n",
       "    </tr>\n",
       "    <tr>\n",
       "      <th>3</th>\n",
       "      <td>83.95</td>\n",
       "      <td>42.80</td>\n",
       "      <td>7047.6025</td>\n",
       "    </tr>\n",
       "    <tr>\n",
       "      <th>4</th>\n",
       "      <td>74.65</td>\n",
       "      <td>29.84</td>\n",
       "      <td>5572.6225</td>\n",
       "    </tr>\n",
       "  </tbody>\n",
       "</table>\n",
       "</div>"
      ],
      "text/plain": [
       "   Waist     AT   Waist_Sq\n",
       "0  74.75  25.72  5587.5625\n",
       "1  72.60  25.89  5270.7600\n",
       "2  81.80  42.60  6691.2400\n",
       "3  83.95  42.80  7047.6025\n",
       "4  74.65  29.84  5572.6225"
      ]
     },
     "execution_count": 18,
     "metadata": {},
     "output_type": "execute_result"
    }
   ],
   "source": [
    "wcat.head()"
   ]
  },
  {
   "cell_type": "code",
   "execution_count": 20,
   "metadata": {},
   "outputs": [
    {
     "data": {
      "image/png": "[encoded data removed]",
      "text/plain": [
       "<Figure size 432x288 with 1 Axes>"
      ]
     },
     "metadata": {
      "needs_background": "light"
     },
     "output_type": "display_data"
    }
   ],
   "source": [
    "\n",
    "############################### Implementing the Linear Regression model from sklearn library\n",
    "\n",
    "from sklearn.linear_model import LinearRegression\n",
    "import numpy as np\n",
    "plt.scatter(wcat.Waist,wcat.AT)\n",
    "model1 = LinearRegression()\n",
    "model1.fit(wcat.Waist.values.reshape(-1,1),wcat.AT)\n",
    "pred1 = model1.predict(wcat.Waist.values.reshape(-1,1))\n",
    "\n",
    "\n",
    "\n"
   ]
  },
  {
   "cell_type": "code",
   "execution_count": 21,
   "metadata": {},
   "outputs": [
    {
     "data": {
      "text/plain": [
       "-215.98148796164242"
      ]
     },
     "execution_count": 21,
     "metadata": {},
     "output_type": "execute_result"
    }
   ],
   "source": [
    "# Adjusted R-Squared value\n",
    "model1.score(wcat.Waist.values.reshape(-1,1),wcat.AT)# 0.6700\n",
    "rmse1 = np.sqrt(np.mean((pred1-wcat.AT)**2)) # 32.760\n",
    "model1.coef_\n",
    "model1.intercept_\n",
    "\n"
   ]
  },
  {
   "cell_type": "code",
   "execution_count": 20,
   "metadata": {},
   "outputs": [
    {
     "data": {
      "text/plain": [
       "(array([ 3.,  8.,  6., 14., 33., 27., 14.,  2.,  0.,  2.]),\n",
       " array([-90.34239241, -70.57934363, -50.81629486, -31.05324609,\n",
       "        -11.29019731,   8.47285146,  28.23590023,  47.99894901,\n",
       "         67.76199778,  87.52504655, 107.28809533]),\n",
       " <BarContainer object of 10 artists>)"
      ]
     },
     "execution_count": 20,
     "metadata": {},
     "output_type": "execute_result"
    },
    {
     "data": {
      "image/png": "[encoded data removed]",
      "text/plain": [
       "<Figure size 432x288 with 1 Axes>"
      ]
     },
     "metadata": {
      "needs_background": "light"
     },
     "output_type": "display_data"
    }
   ],
   "source": [
    "#### Residuals Vs Fitted values\n",
    "import matplotlib.pyplot as plt\n",
    "plt.scatter(pred1,(pred1-wcat.AT),c=\"r\")\n",
    "plt.hlines(y=0,xmin=0,xmax=300) \n",
    "# checking normal distribution for residual\n",
    "plt.hist(pred1-wcat.AT)\n",
    "\n"
   ]
  },
  {
   "cell_type": "code",
   "execution_count": 21,
   "metadata": {},
   "outputs": [
    {
     "data": {
      "text/plain": [
       "-466.2887065515867"
      ]
     },
     "execution_count": 21,
     "metadata": {},
     "output_type": "execute_result"
    }
   ],
   "source": [
    "### Fitting Quadratic Regression \n",
    "wcat[\"Waist_sqrd\"] = wcat.Waist*wcat.Waist\n",
    "model2 = LinearRegression()\n",
    "model2.fit(X = wcat.iloc[:,[0,2]],y=wcat.AT)\n",
    "pred2 = model2.predict(wcat.iloc[:,[0,2]])\n",
    "# Adjusted R-Squared value\n",
    "model2.score(wcat.iloc[:,[0,2]],wcat.AT)# 0.67791\n",
    "rmse2 = np.sqrt(np.mean((pred2-wcat.AT)**2)) # 32.366\n",
    "model2.coef_\n",
    "model2.intercept_\n",
    "\n"
   ]
  },
  {
   "cell_type": "code",
   "execution_count": 22,
   "metadata": {},
   "outputs": [
    {
     "data": {
      "text/plain": [
       "((array([-2.49269012, -2.16005351, -1.96810538, -1.829376  , -1.71891041,\n",
       "         -1.62614848, -1.54558238, -1.4739582 , -1.40918581, -1.34983904,\n",
       "         -1.2948992 , -1.24361202, -1.19540258, -1.14982207, -1.10651298,\n",
       "         -1.06518563, -1.02560179, -0.98756301, -0.95090206, -0.9154766 ,\n",
       "         -0.88116436, -0.84785944, -0.81546946, -0.78391323, -0.75311899,\n",
       "         -0.72302293, -0.69356797, -0.66470285, -0.63638125, -0.60856118,\n",
       "         -0.58120436, -0.55427579, -0.52774332, -0.5015773 , -0.47575031,\n",
       "         -0.45023686, -0.42501321, -0.40005714, -0.3753478 , -0.35086557,\n",
       "         -0.32659187, -0.30250912, -0.27860058, -0.25485026, -0.23124286,\n",
       "         -0.20776364, -0.18439842, -0.16113345, -0.13795538, -0.1148512 ,\n",
       "         -0.09180817, -0.06881379, -0.04585574, -0.02292185,  0.        ,\n",
       "          0.02292185,  0.04585574,  0.06881379,  0.09180817,  0.1148512 ,\n",
       "          0.13795538,  0.16113345,  0.18439842,  0.20776364,  0.23124286,\n",
       "          0.25485026,  0.27860058,  0.30250912,  0.32659187,  0.35086557,\n",
       "          0.3753478 ,  0.40005714,  0.42501321,  0.45023686,  0.47575031,\n",
       "          0.5015773 ,  0.52774332,  0.55427579,  0.58120436,  0.60856118,\n",
       "          0.63638125,  0.66470285,  0.69356797,  0.72302293,  0.75311899,\n",
       "          0.78391323,  0.81546946,  0.84785944,  0.88116436,  0.9154766 ,\n",
       "          0.95090206,  0.98756301,  1.02560179,  1.06518563,  1.10651298,\n",
       "          1.14982207,  1.19540258,  1.24361202,  1.2948992 ,  1.34983904,\n",
       "          1.40918581,  1.4739582 ,  1.54558238,  1.62614848,  1.71891041,\n",
       "          1.829376  ,  1.96810538,  2.16005351,  2.49269012]),\n",
       "  array([-9.00881444e+01, -8.04241330e+01, -7.00828776e+01, -6.83005106e+01,\n",
       "         -6.08581155e+01, -6.06544857e+01, -5.68124259e+01, -5.33842842e+01,\n",
       "         -5.25327773e+01, -5.21139739e+01, -5.12027273e+01, -5.05877336e+01,\n",
       "         -5.05655156e+01, -4.58869380e+01, -4.52127160e+01, -3.89665192e+01,\n",
       "         -3.85557758e+01, -3.33322019e+01, -2.78369510e+01, -2.55877336e+01,\n",
       "         -2.29580734e+01, -2.28511496e+01, -2.11755397e+01, -2.08983486e+01,\n",
       "         -1.84711728e+01, -1.72027273e+01, -1.38276547e+01, -1.27203388e+01,\n",
       "         -1.25636044e+01, -1.24434297e+01, -1.12082153e+01, -9.34876833e+00,\n",
       "         -7.43430152e+00, -6.77178241e+00, -6.55086619e+00, -6.20384568e+00,\n",
       "         -6.04660609e+00, -5.88866104e+00, -4.77178241e+00, -4.39699953e+00,\n",
       "         -3.26436465e+00, -3.14150369e+00, -2.88693795e+00, -2.82491431e+00,\n",
       "         -2.43277705e+00, -1.58773362e+00, -9.81729050e-01, -1.86507785e-01,\n",
       "         -8.81444402e-02, -5.37620926e-02,  1.42273747e+00,  1.57113024e+00,\n",
       "          2.19308341e+00,  2.56392601e+00,  2.57173977e+00,  3.14173977e+00,\n",
       "          3.26342329e+00,  3.54957400e+00,  4.21355276e+00,  4.40019840e+00,\n",
       "          6.15539896e+00,  6.65343427e+00,  6.91111092e+00,  7.88913524e+00,\n",
       "          8.03882041e+00,  8.13431108e+00,  8.55552518e+00,  1.00989392e+01,\n",
       "          1.07961543e+01,  1.11156434e+01,  1.20401910e+01,  1.25216514e+01,\n",
       "          1.26121858e+01,  1.27389905e+01,  1.27634994e+01,  1.28347957e+01,\n",
       "          1.36213076e+01,  1.41931935e+01,  1.45711302e+01,  1.47823508e+01,\n",
       "          1.74158666e+01,  1.84442242e+01,  2.16677981e+01,  2.32077402e+01,\n",
       "          2.37785213e+01,  2.44363956e+01,  2.44587892e+01,  2.48225515e+01,\n",
       "          2.54474811e+01,  2.61973274e+01,  2.85672229e+01,  3.24947070e+01,\n",
       "          3.36213076e+01,  3.39058957e+01,  3.47006433e+01,  3.51343111e+01,\n",
       "          3.52782176e+01,  3.58177748e+01,  3.59925515e+01,  3.72487858e+01,\n",
       "          3.75090698e+01,  3.89118556e+01,  4.23203499e+01,  4.25414235e+01,\n",
       "          4.99564228e+01,  5.10777402e+01,  6.55665703e+01,  7.63478303e+01,\n",
       "          9.13805332e+01])),\n",
       " (32.470569407227444, -5.286890162867014e-14, 0.9845110266579487))"
      ]
     },
     "execution_count": 22,
     "metadata": {},
     "output_type": "execute_result"
    },
    {
     "data": {
      "image/png": "[encoded data removed]",
      "text/plain": [
       "<Figure size 432x288 with 1 Axes>"
      ]
     },
     "metadata": {
      "needs_background": "light"
     },
     "output_type": "display_data"
    }
   ],
   "source": [
    "#### Residuals Vs Fitted values\n",
    "import matplotlib.pyplot as plt\n",
    "plt.scatter(pred2,(pred2-wcat.AT),c=\"r\")\n",
    "plt.hlines(y=0,xmin=0,xmax=200)  \n",
    "# Checking normal distribution\n",
    "plt.hist(pred2-wcat.AT)\n",
    "import pylab\n",
    "import scipy.stats as st\n",
    "st.probplot(pred2-wcat.AT,dist=\"norm\",plot=pylab)\n",
    "\n"
   ]
  },
  {
   "cell_type": "code",
   "execution_count": 22,
   "metadata": {},
   "outputs": [],
   "source": [
    "# Let us prepare a model by applying transformation on dependent variable\n",
    "wcat[\"AT_sqrt\"] = np.sqrt(wcat.AT)\n",
    "\n",
    "model3 = LinearRegression()\n",
    "model3.fit(X = wcat.iloc[:,[0,2]],y=wcat.AT_sqrt)\n",
    "pred3 = model3.predict(wcat.iloc[:,[0,2]])\n"
   ]
  },
  {
   "cell_type": "code",
   "execution_count": 24,
   "metadata": {},
   "outputs": [
    {
     "data": {
      "text/plain": [
       "-32.0138693571079"
      ]
     },
     "execution_count": 24,
     "metadata": {},
     "output_type": "execute_result"
    }
   ],
   "source": [
    "# Adjusted R-Squared value\n",
    "model3.score(wcat.iloc[:,[0,2]],wcat.AT_sqrt)# 0.74051\n",
    "rmse3 = np.sqrt(np.mean(((pred3)**2-wcat.AT)**2)) # 32.0507\n",
    "model3.coef_\n",
    "model3.intercept_\n",
    "\n",
    "\n",
    "\n"
   ]
  },
  {
   "cell_type": "code",
   "execution_count": 25,
   "metadata": {},
   "outputs": [
    {
     "data": {
      "text/plain": [
       "((array([-2.49269012, -2.16005351, -1.96810538, -1.829376  , -1.71891041,\n",
       "         -1.62614848, -1.54558238, -1.4739582 , -1.40918581, -1.34983904,\n",
       "         -1.2948992 , -1.24361202, -1.19540258, -1.14982207, -1.10651298,\n",
       "         -1.06518563, -1.02560179, -0.98756301, -0.95090206, -0.9154766 ,\n",
       "         -0.88116436, -0.84785944, -0.81546946, -0.78391323, -0.75311899,\n",
       "         -0.72302293, -0.69356797, -0.66470285, -0.63638125, -0.60856118,\n",
       "         -0.58120436, -0.55427579, -0.52774332, -0.5015773 , -0.47575031,\n",
       "         -0.45023686, -0.42501321, -0.40005714, -0.3753478 , -0.35086557,\n",
       "         -0.32659187, -0.30250912, -0.27860058, -0.25485026, -0.23124286,\n",
       "         -0.20776364, -0.18439842, -0.16113345, -0.13795538, -0.1148512 ,\n",
       "         -0.09180817, -0.06881379, -0.04585574, -0.02292185,  0.        ,\n",
       "          0.02292185,  0.04585574,  0.06881379,  0.09180817,  0.1148512 ,\n",
       "          0.13795538,  0.16113345,  0.18439842,  0.20776364,  0.23124286,\n",
       "          0.25485026,  0.27860058,  0.30250912,  0.32659187,  0.35086557,\n",
       "          0.3753478 ,  0.40005714,  0.42501321,  0.45023686,  0.47575031,\n",
       "          0.5015773 ,  0.52774332,  0.55427579,  0.58120436,  0.60856118,\n",
       "          0.63638125,  0.66470285,  0.69356797,  0.72302293,  0.75311899,\n",
       "          0.78391323,  0.81546946,  0.84785944,  0.88116436,  0.9154766 ,\n",
       "          0.95090206,  0.98756301,  1.02560179,  1.06518563,  1.10651298,\n",
       "          1.14982207,  1.19540258,  1.24361202,  1.2948992 ,  1.34983904,\n",
       "          1.40918581,  1.4739582 ,  1.54558238,  1.62614848,  1.71891041,\n",
       "          1.829376  ,  1.96810538,  2.16005351,  2.49269012]),\n",
       "  array([-91.19381895, -86.26711035, -73.57461719, -72.52537398,\n",
       "         -72.10328279, -62.47509089, -57.63811625, -56.73004599,\n",
       "         -54.90679606, -54.75137366, -53.69869852, -52.37693069,\n",
       "         -52.11313314, -49.09643273, -40.43971799, -39.4132869 ,\n",
       "         -36.83691983, -35.3121876 , -27.37693069, -27.21166212,\n",
       "         -26.49371233, -24.83987695, -22.88072178, -22.83292909,\n",
       "         -18.21795272, -18.11313314, -16.51046841, -14.73275353,\n",
       "         -14.14972979, -13.77007249,  -9.57594648,  -9.00028008,\n",
       "          -8.7958762 ,  -8.73924431,  -8.12535055,  -7.22795017,\n",
       "          -7.00028008,  -6.09643273,  -6.0535677 ,  -6.04572127,\n",
       "          -5.09442996,  -4.99383111,  -4.44236987,  -3.45288527,\n",
       "          -3.37693069,  -2.96628198,  -1.83955819,  -1.81266929,\n",
       "          -1.58778008,  -1.34047748,  -1.24266929,  -1.19381895,\n",
       "          -0.42671182,  -0.12557702,   0.21741361,   0.28248116,\n",
       "           0.29740644,   2.35805716,   2.39072947,   2.59301689,\n",
       "           4.3541149 ,   4.59992433,   5.30377014,   5.71553705,\n",
       "           6.27171146,   6.35271241,   7.68308347,   8.51901499,\n",
       "           8.58012305,   8.90540048,   9.08809462,   9.6326479 ,\n",
       "           9.77204983,  11.15891024,  11.16044181,  11.20713649,\n",
       "          11.89727577,  12.15693164,  12.69999078,  12.79868423,\n",
       "          15.10339959,  17.5867131 ,  19.52244134,  19.6878124 ,\n",
       "          20.77725508,  21.19520333,  21.69061416,  21.97178287,\n",
       "          22.25719633,  22.85027021,  27.54711473,  28.7721184 ,\n",
       "          30.30968711,  31.94725508,  32.18779351,  32.71553705,\n",
       "          32.79868423,  33.04971992,  33.83757884,  34.31623507,\n",
       "          34.46527643,  37.80618105,  37.93928948,  39.60519589,\n",
       "          47.39176281,  50.12719633,  64.23992751,  64.98002811,\n",
       "          80.41594884])),\n",
       " (31.988851950544696, -2.165574659979677, 0.9817128504125925))"
      ]
     },
     "execution_count": 25,
     "metadata": {},
     "output_type": "execute_result"
    },
    {
     "data": {
      "image/png": "[encoded data removed]",
      "text/plain": [
       "<Figure size 432x288 with 1 Axes>"
      ]
     },
     "metadata": {
      "needs_background": "light"
     },
     "output_type": "display_data"
    }
   ],
   "source": [
    "#### Residuals Vs Fitted values\n",
    "import matplotlib.pyplot as plt\n",
    "plt.scatter((pred3)**2,((pred3)**2-wcat.AT),c=\"r\")\n",
    "plt.hlines(y=0,xmin=0,xmax=300)  \n",
    "# checking normal distribution for residuals \n",
    "plt.hist((pred3)**2-wcat.AT)\n",
    "st.probplot((pred3)**2-wcat.AT,dist=\"norm\",plot=pylab)\n",
    "\n"
   ]
  },
  {
   "cell_type": "code",
   "execution_count": 26,
   "metadata": {},
   "outputs": [
    {
     "data": {
      "text/plain": [
       "-6.898398342272843"
      ]
     },
     "execution_count": 26,
     "metadata": {},
     "output_type": "execute_result"
    }
   ],
   "source": [
    "# Let us prepare a model by applying transformation on dependent variable without transformation on input variables \n",
    "model4 = LinearRegression()\n",
    "model4.fit(X = wcat.Waist.values.reshape(-1,1),y=wcat.AT_sqrt)\n",
    "pred4 = model4.predict(wcat.Waist.values.reshape(-1,1))\n",
    "# Adjusted R-Squared value\n",
    "model4.score(wcat.Waist.values.reshape(-1,1),wcat.AT_sqrt)# 0.7096\n",
    "rmse4 = np.sqrt(np.mean(((pred4)**2-wcat.AT)**2)) # 34.165\n",
    "model4.coef_\n",
    "model4.intercept_\n",
    "\n"
   ]
  },
  {
   "cell_type": "code",
   "execution_count": 27,
   "metadata": {},
   "outputs": [
    {
     "data": {
      "text/plain": [
       "(array([ 2., 11.,  6., 25., 37., 22.,  3.,  1.,  0.,  2.]),\n",
       " array([-91.81765069, -70.16719522, -48.51673975, -26.86628428,\n",
       "         -5.21582881,  16.43462666,  38.08508212,  59.73553759,\n",
       "         81.38599306, 103.03644853, 124.686904  ]),\n",
       " <BarContainer object of 10 artists>)"
      ]
     },
     "execution_count": 27,
     "metadata": {},
     "output_type": "execute_result"
    },
    {
     "data": {
      "image/png": "[encoded data removed]",
      "text/plain": [
       "<Figure size 432x288 with 1 Axes>"
      ]
     },
     "metadata": {
      "needs_background": "light"
     },
     "output_type": "display_data"
    }
   ],
   "source": [
    "#### Residuals Vs Fitted values\n",
    "import matplotlib.pyplot as plt\n",
    "plt.scatter((pred4)**2,((pred4)**2-wcat.AT),c=\"r\")\n",
    "plt.hlines(y=0,xmin=0,xmax=300)  \n",
    "\n",
    "st.probplot((pred4)**2-wcat.AT,dist=\"norm\",plot=pylab)\n",
    "\n",
    "# Checking normal distribution for residuals \n",
    "plt.hist((pred4)**2-wcat.AT)\n",
    "\n",
    "\n",
    "\n"
   ]
  },
  {
   "cell_type": "code",
   "execution_count": null,
   "metadata": {},
   "outputs": [],
   "source": []
  }
 ],
 "metadata": {
  "kernelspec": {
   "display_name": "Python 3",
   "language": "python",
   "name": "python3"
  },
  "language_info": {
   "codemirror_mode": {
    "name": "ipython",
    "version": 3
   },
   "file_extension": ".py",
   "mimetype": "text/x-python",
   "name": "python",
   "nbconvert_exporter": "python",
   "pygments_lexer": "ipython3",
   "version": "3.8.5"
  }
 },
 "nbformat": 4,
 "nbformat_minor": 4
}
