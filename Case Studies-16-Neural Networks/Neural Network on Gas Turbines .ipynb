{
 "cells": [
  {
   "cell_type": "markdown",
   "metadata": {},
   "source": [
    "## Problem statement: \n",
    "### predicting turbine energy yield (TEY) using ambient variables as features."
   ]
  },
  {
   "cell_type": "markdown",
   "metadata": {},
   "source": [
    "### Import libraries"
   ]
  },
  {
   "cell_type": "code",
   "execution_count": 1,
   "metadata": {},
   "outputs": [],
   "source": [
    "import pandas as pd\n",
    "import numpy as np\n",
    "\n",
    "import matplotlib.pyplot as plt\n",
    "import seaborn as sns\n",
    "\n",
    "import keras\n",
    "from sklearn.preprocessing import StandardScaler\n",
    "from sklearn.preprocessing import MinMaxScaler\n",
    "from keras.models import Sequential\n",
    "from keras.layers import Dense\n",
    "from sklearn.model_selection import GridSearchCV, KFold\n",
    "from keras.wrappers.scikit_learn import KerasClassifier\n",
    "from keras.optimizers import Adam\n",
    "\n",
    "import warnings\n",
    "warnings.filterwarnings(\"ignore\")"
   ]
  },
  {
   "cell_type": "markdown",
   "metadata": {},
   "source": [
    "### Reading the csv file"
   ]
  },
  {
   "cell_type": "code",
   "execution_count": 2,
   "metadata": {},
   "outputs": [
    {
     "data": {
      "text/html": [
       "<div>\n",
       "<style scoped>\n",
       "    .dataframe tbody tr th:only-of-type {\n",
       "        vertical-align: middle;\n",
       "    }\n",
       "\n",
       "    .dataframe tbody tr th {\n",
       "        vertical-align: top;\n",
       "    }\n",
       "\n",
       "    .dataframe thead th {\n",
       "        text-align: right;\n",
       "    }\n",
       "</style>\n",
       "<table border=\"1\" class=\"dataframe\">\n",
       "  <thead>\n",
       "    <tr style=\"text-align: right;\">\n",
       "      <th></th>\n",
       "      <th>AT</th>\n",
       "      <th>AP</th>\n",
       "      <th>AH</th>\n",
       "      <th>AFDP</th>\n",
       "      <th>GTEP</th>\n",
       "      <th>TIT</th>\n",
       "      <th>TAT</th>\n",
       "      <th>TEY</th>\n",
       "      <th>CDP</th>\n",
       "      <th>CO</th>\n",
       "      <th>NOX</th>\n",
       "    </tr>\n",
       "  </thead>\n",
       "  <tbody>\n",
       "    <tr>\n",
       "      <th>0</th>\n",
       "      <td>6.8594</td>\n",
       "      <td>1007.9</td>\n",
       "      <td>96.799</td>\n",
       "      <td>3.5000</td>\n",
       "      <td>19.663</td>\n",
       "      <td>1059.2</td>\n",
       "      <td>550.00</td>\n",
       "      <td>114.70</td>\n",
       "      <td>10.605</td>\n",
       "      <td>3.1547</td>\n",
       "      <td>82.722</td>\n",
       "    </tr>\n",
       "    <tr>\n",
       "      <th>1</th>\n",
       "      <td>6.7850</td>\n",
       "      <td>1008.4</td>\n",
       "      <td>97.118</td>\n",
       "      <td>3.4998</td>\n",
       "      <td>19.728</td>\n",
       "      <td>1059.3</td>\n",
       "      <td>550.00</td>\n",
       "      <td>114.72</td>\n",
       "      <td>10.598</td>\n",
       "      <td>3.2363</td>\n",
       "      <td>82.776</td>\n",
       "    </tr>\n",
       "    <tr>\n",
       "      <th>2</th>\n",
       "      <td>6.8977</td>\n",
       "      <td>1008.8</td>\n",
       "      <td>95.939</td>\n",
       "      <td>3.4824</td>\n",
       "      <td>19.779</td>\n",
       "      <td>1059.4</td>\n",
       "      <td>549.87</td>\n",
       "      <td>114.71</td>\n",
       "      <td>10.601</td>\n",
       "      <td>3.2012</td>\n",
       "      <td>82.468</td>\n",
       "    </tr>\n",
       "    <tr>\n",
       "      <th>3</th>\n",
       "      <td>7.0569</td>\n",
       "      <td>1009.2</td>\n",
       "      <td>95.249</td>\n",
       "      <td>3.4805</td>\n",
       "      <td>19.792</td>\n",
       "      <td>1059.6</td>\n",
       "      <td>549.99</td>\n",
       "      <td>114.72</td>\n",
       "      <td>10.606</td>\n",
       "      <td>3.1923</td>\n",
       "      <td>82.670</td>\n",
       "    </tr>\n",
       "    <tr>\n",
       "      <th>4</th>\n",
       "      <td>7.3978</td>\n",
       "      <td>1009.7</td>\n",
       "      <td>95.150</td>\n",
       "      <td>3.4976</td>\n",
       "      <td>19.765</td>\n",
       "      <td>1059.7</td>\n",
       "      <td>549.98</td>\n",
       "      <td>114.72</td>\n",
       "      <td>10.612</td>\n",
       "      <td>3.2484</td>\n",
       "      <td>82.311</td>\n",
       "    </tr>\n",
       "  </tbody>\n",
       "</table>\n",
       "</div>"
      ],
      "text/plain": [
       "       AT      AP      AH    AFDP    GTEP     TIT     TAT     TEY     CDP  \\\n",
       "0  6.8594  1007.9  96.799  3.5000  19.663  1059.2  550.00  114.70  10.605   \n",
       "1  6.7850  1008.4  97.118  3.4998  19.728  1059.3  550.00  114.72  10.598   \n",
       "2  6.8977  1008.8  95.939  3.4824  19.779  1059.4  549.87  114.71  10.601   \n",
       "3  7.0569  1009.2  95.249  3.4805  19.792  1059.6  549.99  114.72  10.606   \n",
       "4  7.3978  1009.7  95.150  3.4976  19.765  1059.7  549.98  114.72  10.612   \n",
       "\n",
       "       CO     NOX  \n",
       "0  3.1547  82.722  \n",
       "1  3.2363  82.776  \n",
       "2  3.2012  82.468  \n",
       "3  3.1923  82.670  \n",
       "4  3.2484  82.311  "
      ]
     },
     "execution_count": 2,
     "metadata": {},
     "output_type": "execute_result"
    }
   ],
   "source": [
    "data = pd.read_csv(\"gas_turbines.csv\")\n",
    "data.head()"
   ]
  },
  {
   "cell_type": "markdown",
   "metadata": {},
   "source": [
    "### Checking null values"
   ]
  },
  {
   "cell_type": "code",
   "execution_count": 3,
   "metadata": {},
   "outputs": [
    {
     "name": "stdout",
     "output_type": "stream",
     "text": [
      "<class 'pandas.core.frame.DataFrame'>\n",
      "RangeIndex: 15039 entries, 0 to 15038\n",
      "Data columns (total 11 columns):\n",
      " #   Column  Non-Null Count  Dtype  \n",
      "---  ------  --------------  -----  \n",
      " 0   AT      15039 non-null  float64\n",
      " 1   AP      15039 non-null  float64\n",
      " 2   AH      15039 non-null  float64\n",
      " 3   AFDP    15039 non-null  float64\n",
      " 4   GTEP    15039 non-null  float64\n",
      " 5   TIT     15039 non-null  float64\n",
      " 6   TAT     15039 non-null  float64\n",
      " 7   TEY     15039 non-null  float64\n",
      " 8   CDP     15039 non-null  float64\n",
      " 9   CO      15039 non-null  float64\n",
      " 10  NOX     15039 non-null  float64\n",
      "dtypes: float64(11)\n",
      "memory usage: 1.3 MB\n"
     ]
    }
   ],
   "source": [
    "data.info()"
   ]
  },
  {
   "cell_type": "markdown",
   "metadata": {},
   "source": [
    "### Check duplicate values"
   ]
  },
  {
   "cell_type": "code",
   "execution_count": 4,
   "metadata": {},
   "outputs": [
    {
     "data": {
      "text/html": [
       "<div>\n",
       "<style scoped>\n",
       "    .dataframe tbody tr th:only-of-type {\n",
       "        vertical-align: middle;\n",
       "    }\n",
       "\n",
       "    .dataframe tbody tr th {\n",
       "        vertical-align: top;\n",
       "    }\n",
       "\n",
       "    .dataframe thead th {\n",
       "        text-align: right;\n",
       "    }\n",
       "</style>\n",
       "<table border=\"1\" class=\"dataframe\">\n",
       "  <thead>\n",
       "    <tr style=\"text-align: right;\">\n",
       "      <th></th>\n",
       "      <th>AT</th>\n",
       "      <th>AP</th>\n",
       "      <th>AH</th>\n",
       "      <th>AFDP</th>\n",
       "      <th>GTEP</th>\n",
       "      <th>TIT</th>\n",
       "      <th>TAT</th>\n",
       "      <th>TEY</th>\n",
       "      <th>CDP</th>\n",
       "      <th>CO</th>\n",
       "      <th>NOX</th>\n",
       "    </tr>\n",
       "  </thead>\n",
       "  <tbody>\n",
       "  </tbody>\n",
       "</table>\n",
       "</div>"
      ],
      "text/plain": [
       "Empty DataFrame\n",
       "Columns: [AT, AP, AH, AFDP, GTEP, TIT, TAT, TEY, CDP, CO, NOX]\n",
       "Index: []"
      ]
     },
     "execution_count": 4,
     "metadata": {},
     "output_type": "execute_result"
    }
   ],
   "source": [
    "data[data.duplicated()]"
   ]
  },
  {
   "cell_type": "markdown",
   "metadata": {},
   "source": [
    "### Cheking of distribution of data using distplot"
   ]
  },
  {
   "cell_type": "code",
   "execution_count": 5,
   "metadata": {},
   "outputs": [
    {
     "data": {
      "image/png": "[encoded data removed]",
      "text/plain": [
       "<Figure size 1080x720 with 12 Axes>"
      ]
     },
     "metadata": {
      "needs_background": "light"
     },
     "output_type": "display_data"
    }
   ],
   "source": [
    "fig, ax = plt.subplots(4, 3, figsize=(15,10))\n",
    "sns.distplot(data.AT, ax=ax[0,0])\n",
    "sns.distplot(data.AP, ax=ax[0,1])\n",
    "sns.distplot(data.AH, ax=ax[0,2])\n",
    "sns.distplot(data.AFDP, ax=ax[1,0])\n",
    "sns.distplot(data.GTEP, ax=ax[1,1])\n",
    "sns.distplot(data.TIT, ax=ax[1,2])\n",
    "sns.distplot(data.TAT, ax=ax[2,0])\n",
    "sns.distplot(data.TEY, ax=ax[2,1])\n",
    "sns.distplot(data.CDP, ax=ax[2,2])\n",
    "sns.distplot(data.CO, ax=ax[3,0])\n",
    "sns.distplot(data.NOX, ax=ax[3,1])\n",
    "\n",
    "plt.tight_layout()\n",
    "plt.show()"
   ]
  },
  {
   "cell_type": "markdown",
   "metadata": {},
   "source": [
    "### Check whether outliers are present inside the data or not"
   ]
  },
  {
   "cell_type": "code",
   "execution_count": 6,
   "metadata": {},
   "outputs": [
    {
     "data": {
      "image/png": "[encoded data removed]",
      "text/plain": [
       "<Figure size 1080x720 with 12 Axes>"
      ]
     },
     "metadata": {
      "needs_background": "light"
     },
     "output_type": "display_data"
    }
   ],
   "source": [
    "fig, ax = plt.subplots(4, 3, figsize=(15,10))\n",
    "sns.boxplot(data.AT, ax=ax[0,0])\n",
    "sns.boxplot(data.AP, ax=ax[0,1])\n",
    "sns.boxplot(data.AH, ax=ax[0,2])\n",
    "sns.boxplot(data.AFDP, ax=ax[1,0])\n",
    "sns.boxplot(data.GTEP, ax=ax[1,1])\n",
    "sns.boxplot(data.TIT, ax=ax[1,2])\n",
    "sns.boxplot(data.TAT, ax=ax[2,0])\n",
    "sns.boxplot(data.TEY, ax=ax[2,1])\n",
    "sns.boxplot(data.CDP, ax=ax[2,2])\n",
    "sns.boxplot(data.CO, ax=ax[3,0])\n",
    "sns.boxplot(data.NOX, ax=ax[3,1])\n",
    "\n",
    "plt.tight_layout()\n",
    "plt.show()"
   ]
  },
  {
   "cell_type": "markdown",
   "metadata": {},
   "source": [
    "### Normalising the data using a mixmax scaler library"
   ]
  },
  {
   "cell_type": "code",
   "execution_count": 7,
   "metadata": {},
   "outputs": [
    {
     "data": {
      "text/html": [
       "<div>\n",
       "<style scoped>\n",
       "    .dataframe tbody tr th:only-of-type {\n",
       "        vertical-align: middle;\n",
       "    }\n",
       "\n",
       "    .dataframe tbody tr th {\n",
       "        vertical-align: top;\n",
       "    }\n",
       "\n",
       "    .dataframe thead th {\n",
       "        text-align: right;\n",
       "    }\n",
       "</style>\n",
       "<table border=\"1\" class=\"dataframe\">\n",
       "  <thead>\n",
       "    <tr style=\"text-align: right;\">\n",
       "      <th></th>\n",
       "      <th>AT</th>\n",
       "      <th>AP</th>\n",
       "      <th>AH</th>\n",
       "      <th>AFDP</th>\n",
       "      <th>GTEP</th>\n",
       "      <th>TIT</th>\n",
       "      <th>TAT</th>\n",
       "      <th>TEY</th>\n",
       "      <th>CDP</th>\n",
       "      <th>CO</th>\n",
       "      <th>NOX</th>\n",
       "    </tr>\n",
       "  </thead>\n",
       "  <tbody>\n",
       "    <tr>\n",
       "      <th>0</th>\n",
       "      <td>0.184182</td>\n",
       "      <td>0.456050</td>\n",
       "      <td>0.951314</td>\n",
       "      <td>0.255758</td>\n",
       "      <td>0.091426</td>\n",
       "      <td>0.584</td>\n",
       "      <td>0.984015</td>\n",
       "      <td>0.195191</td>\n",
       "      <td>0.135340</td>\n",
       "      <td>0.071522</td>\n",
       "      <td>0.596548</td>\n",
       "    </tr>\n",
       "    <tr>\n",
       "      <th>1</th>\n",
       "      <td>0.182020</td>\n",
       "      <td>0.466391</td>\n",
       "      <td>0.955881</td>\n",
       "      <td>0.255721</td>\n",
       "      <td>0.094755</td>\n",
       "      <td>0.585</td>\n",
       "      <td>0.984015</td>\n",
       "      <td>0.195459</td>\n",
       "      <td>0.133988</td>\n",
       "      <td>0.073372</td>\n",
       "      <td>0.597134</td>\n",
       "    </tr>\n",
       "    <tr>\n",
       "      <th>2</th>\n",
       "      <td>0.185295</td>\n",
       "      <td>0.474664</td>\n",
       "      <td>0.939003</td>\n",
       "      <td>0.252571</td>\n",
       "      <td>0.097367</td>\n",
       "      <td>0.586</td>\n",
       "      <td>0.980608</td>\n",
       "      <td>0.195325</td>\n",
       "      <td>0.134567</td>\n",
       "      <td>0.072576</td>\n",
       "      <td>0.593791</td>\n",
       "    </tr>\n",
       "    <tr>\n",
       "      <th>3</th>\n",
       "      <td>0.189922</td>\n",
       "      <td>0.482937</td>\n",
       "      <td>0.929126</td>\n",
       "      <td>0.252227</td>\n",
       "      <td>0.098033</td>\n",
       "      <td>0.588</td>\n",
       "      <td>0.983753</td>\n",
       "      <td>0.195459</td>\n",
       "      <td>0.135533</td>\n",
       "      <td>0.072375</td>\n",
       "      <td>0.595984</td>\n",
       "    </tr>\n",
       "    <tr>\n",
       "      <th>4</th>\n",
       "      <td>0.199830</td>\n",
       "      <td>0.493278</td>\n",
       "      <td>0.927708</td>\n",
       "      <td>0.255323</td>\n",
       "      <td>0.096650</td>\n",
       "      <td>0.589</td>\n",
       "      <td>0.983491</td>\n",
       "      <td>0.195459</td>\n",
       "      <td>0.136692</td>\n",
       "      <td>0.073647</td>\n",
       "      <td>0.592087</td>\n",
       "    </tr>\n",
       "    <tr>\n",
       "      <th>...</th>\n",
       "      <td>...</td>\n",
       "      <td>...</td>\n",
       "      <td>...</td>\n",
       "      <td>...</td>\n",
       "      <td>...</td>\n",
       "      <td>...</td>\n",
       "      <td>...</td>\n",
       "      <td>...</td>\n",
       "      <td>...</td>\n",
       "      <td>...</td>\n",
       "      <td>...</td>\n",
       "    </tr>\n",
       "    <tr>\n",
       "      <th>15034</th>\n",
       "      <td>0.247272</td>\n",
       "      <td>0.408480</td>\n",
       "      <td>0.975092</td>\n",
       "      <td>0.263380</td>\n",
       "      <td>0.065868</td>\n",
       "      <td>0.489</td>\n",
       "      <td>0.884696</td>\n",
       "      <td>0.153681</td>\n",
       "      <td>0.095739</td>\n",
       "      <td>0.102448</td>\n",
       "      <td>0.562214</td>\n",
       "    </tr>\n",
       "    <tr>\n",
       "      <th>15035</th>\n",
       "      <td>0.214075</td>\n",
       "      <td>0.414685</td>\n",
       "      <td>0.984153</td>\n",
       "      <td>0.256826</td>\n",
       "      <td>0.078672</td>\n",
       "      <td>0.455</td>\n",
       "      <td>0.806342</td>\n",
       "      <td>0.155965</td>\n",
       "      <td>0.102113</td>\n",
       "      <td>0.109894</td>\n",
       "      <td>0.566100</td>\n",
       "    </tr>\n",
       "    <tr>\n",
       "      <th>15036</th>\n",
       "      <td>0.195962</td>\n",
       "      <td>0.422958</td>\n",
       "      <td>0.989922</td>\n",
       "      <td>0.251593</td>\n",
       "      <td>0.084614</td>\n",
       "      <td>0.369</td>\n",
       "      <td>0.651730</td>\n",
       "      <td>0.134605</td>\n",
       "      <td>0.111772</td>\n",
       "      <td>0.180552</td>\n",
       "      <td>0.685449</td>\n",
       "    </tr>\n",
       "    <tr>\n",
       "      <th>15037</th>\n",
       "      <td>0.188443</td>\n",
       "      <td>0.433299</td>\n",
       "      <td>0.982936</td>\n",
       "      <td>0.246451</td>\n",
       "      <td>0.076777</td>\n",
       "      <td>0.424</td>\n",
       "      <td>0.754455</td>\n",
       "      <td>0.141994</td>\n",
       "      <td>0.121431</td>\n",
       "      <td>0.141693</td>\n",
       "      <td>0.710578</td>\n",
       "    </tr>\n",
       "    <tr>\n",
       "      <th>15038</th>\n",
       "      <td>0.186173</td>\n",
       "      <td>0.441572</td>\n",
       "      <td>0.961821</td>\n",
       "      <td>0.242631</td>\n",
       "      <td>0.073141</td>\n",
       "      <td>0.491</td>\n",
       "      <td>0.875262</td>\n",
       "      <td>0.153278</td>\n",
       "      <td>0.131090</td>\n",
       "      <td>0.112946</td>\n",
       "      <td>0.702665</td>\n",
       "    </tr>\n",
       "  </tbody>\n",
       "</table>\n",
       "<p>15039 rows × 11 columns</p>\n",
       "</div>"
      ],
      "text/plain": [
       "             AT        AP        AH      AFDP      GTEP    TIT       TAT  \\\n",
       "0      0.184182  0.456050  0.951314  0.255758  0.091426  0.584  0.984015   \n",
       "1      0.182020  0.466391  0.955881  0.255721  0.094755  0.585  0.984015   \n",
       "2      0.185295  0.474664  0.939003  0.252571  0.097367  0.586  0.980608   \n",
       "3      0.189922  0.482937  0.929126  0.252227  0.098033  0.588  0.983753   \n",
       "4      0.199830  0.493278  0.927708  0.255323  0.096650  0.589  0.983491   \n",
       "...         ...       ...       ...       ...       ...    ...       ...   \n",
       "15034  0.247272  0.408480  0.975092  0.263380  0.065868  0.489  0.884696   \n",
       "15035  0.214075  0.414685  0.984153  0.256826  0.078672  0.455  0.806342   \n",
       "15036  0.195962  0.422958  0.989922  0.251593  0.084614  0.369  0.651730   \n",
       "15037  0.188443  0.433299  0.982936  0.246451  0.076777  0.424  0.754455   \n",
       "15038  0.186173  0.441572  0.961821  0.242631  0.073141  0.491  0.875262   \n",
       "\n",
       "            TEY       CDP        CO       NOX  \n",
       "0      0.195191  0.135340  0.071522  0.596548  \n",
       "1      0.195459  0.133988  0.073372  0.597134  \n",
       "2      0.195325  0.134567  0.072576  0.593791  \n",
       "3      0.195459  0.135533  0.072375  0.595984  \n",
       "4      0.195459  0.136692  0.073647  0.592087  \n",
       "...         ...       ...       ...       ...  \n",
       "15034  0.153681  0.095739  0.102448  0.562214  \n",
       "15035  0.155965  0.102113  0.109894  0.566100  \n",
       "15036  0.134605  0.111772  0.180552  0.685449  \n",
       "15037  0.141994  0.121431  0.141693  0.710578  \n",
       "15038  0.153278  0.131090  0.112946  0.702665  \n",
       "\n",
       "[15039 rows x 11 columns]"
      ]
     },
     "execution_count": 7,
     "metadata": {},
     "output_type": "execute_result"
    }
   ],
   "source": [
    "scale=MinMaxScaler()\n",
    "data1=pd.DataFrame(scale.fit_transform(data),columns=['AT','AP','AH','AFDP','GTEP','TIT','TAT','TEY','CDP','CO','NOX'])\n",
    "data1"
   ]
  },
  {
   "cell_type": "markdown",
   "metadata": {},
   "source": [
    "### Extracting the independent and dependent variables"
   ]
  },
  {
   "cell_type": "code",
   "execution_count": 8,
   "metadata": {},
   "outputs": [],
   "source": [
    "X = data1.drop(axis=0,columns=\"TEY\").values\n",
    "Y = data1[\"TEY\"].values"
   ]
  },
  {
   "cell_type": "code",
   "execution_count": 9,
   "metadata": {},
   "outputs": [
    {
     "data": {
      "text/plain": [
       "array([[0.18418215, 0.45604964, 0.95131413, ..., 0.1353398 , 0.07152212,\n",
       "        0.59654817],\n",
       "       [0.18201978, 0.4663909 , 0.95588067, ..., 0.13398756, 0.07337235,\n",
       "        0.59713433],\n",
       "       [0.18529531, 0.47466391, 0.93900309, ..., 0.13456709, 0.07257648,\n",
       "        0.59379104],\n",
       "       ...,\n",
       "       [0.19596183, 0.4229576 , 0.98992213, ..., 0.11177221, 0.18055195,\n",
       "        0.68544912],\n",
       "       [0.18844295, 0.43329886, 0.98293633, ..., 0.12143106, 0.14169257,\n",
       "        0.71057802],\n",
       "       [0.18617304, 0.44157187, 0.96182146, ..., 0.1310899 , 0.11294597,\n",
       "        0.70266486]])"
      ]
     },
     "execution_count": 9,
     "metadata": {},
     "output_type": "execute_result"
    }
   ],
   "source": [
    "X"
   ]
  },
  {
   "cell_type": "code",
   "execution_count": 10,
   "metadata": {},
   "outputs": [
    {
     "data": {
      "text/plain": [
       "array([0.19519076, 0.19545943, 0.19532509, ..., 0.13460505, 0.14199355,\n",
       "       0.15327781])"
      ]
     },
     "execution_count": 10,
     "metadata": {},
     "output_type": "execute_result"
    }
   ],
   "source": [
    "Y"
   ]
  },
  {
   "cell_type": "markdown",
   "metadata": {},
   "source": [
    "### Fixing a random seed for ensuring that the algorithm produces the same accuracy by selecting a similar sample, everytime, it runs the code"
   ]
  },
  {
   "cell_type": "code",
   "execution_count": 11,
   "metadata": {},
   "outputs": [],
   "source": [
    "seed = 7\n",
    "np.random.seed(seed)"
   ]
  },
  {
   "cell_type": "markdown",
   "metadata": {},
   "source": [
    "### Constructing a Sequential neural network with 12 neurons in the first input layer, 8 neurons in the hidden layer and 1 neuron in the output layer"
   ]
  },
  {
   "cell_type": "code",
   "execution_count": 12,
   "metadata": {},
   "outputs": [],
   "source": [
    "model = Sequential()\n",
    "model.add(Dense(12, input_dim=10, kernel_initializer='uniform', activation='relu'))\n",
    "model.add(Dense(8, kernel_initializer='uniform', activation='relu'))\n",
    "model.add(Dense(1, kernel_initializer='uniform', activation='sigmoid'))"
   ]
  },
  {
   "cell_type": "markdown",
   "metadata": {},
   "source": [
    "### Compiling the model and using Mean squared error as the loss function and adam as the weight optimizer"
   ]
  },
  {
   "cell_type": "code",
   "execution_count": 13,
   "metadata": {},
   "outputs": [],
   "source": [
    "model.compile(loss='mse', optimizer='adam', metrics=['accuracy'])"
   ]
  },
  {
   "cell_type": "markdown",
   "metadata": {},
   "source": [
    "### Fit the model"
   ]
  },
  {
   "cell_type": "code",
   "execution_count": 14,
   "metadata": {},
   "outputs": [
    {
     "name": "stdout",
     "output_type": "stream",
     "text": [
      "Epoch 1/100\n",
      "1008/1008 [==============================] - 48s 6ms/step - loss: 0.0215 - accuracy: 7.2279e-06 - val_loss: 8.8233e-04 - val_accuracy: 2.0149e-04\n",
      "Epoch 2/100\n",
      "1008/1008 [==============================] - 4s 4ms/step - loss: 6.2271e-04 - accuracy: 1.6069e-04 - val_loss: 6.0863e-04 - val_accuracy: 2.0149e-04\n",
      "Epoch 3/100\n",
      "1008/1008 [==============================] - 4s 4ms/step - loss: 4.3687e-04 - accuracy: 3.9232e-05 - val_loss: 5.4276e-04 - val_accuracy: 2.0149e-04\n",
      "Epoch 4/100\n",
      "1008/1008 [==============================] - 4s 4ms/step - loss: 3.6223e-04 - accuracy: 4.1389e-04 - val_loss: 4.0367e-04 - val_accuracy: 2.0149e-04\n",
      "Epoch 5/100\n",
      "1008/1008 [==============================] - 4s 4ms/step - loss: 3.2258e-04 - accuracy: 1.1371e-04 - val_loss: 2.6489e-04 - val_accuracy: 2.0149e-04\n",
      "Epoch 6/100\n",
      "1008/1008 [==============================] - 4s 4ms/step - loss: 2.9267e-04 - accuracy: 9.3628e-06 - val_loss: 3.3536e-04 - val_accuracy: 2.0149e-04\n",
      "Epoch 7/100\n",
      "1008/1008 [==============================] - 4s 4ms/step - loss: 2.8677e-04 - accuracy: 6.9139e-05 - val_loss: 2.7976e-04 - val_accuracy: 2.0149e-04\n",
      "Epoch 8/100\n",
      "1008/1008 [==============================] - 5s 4ms/step - loss: 2.9212e-04 - accuracy: 1.4094e-04 - val_loss: 2.4189e-04 - val_accuracy: 2.0149e-04\n",
      "Epoch 9/100\n",
      "1008/1008 [==============================] - 4s 4ms/step - loss: 2.7407e-04 - accuracy: 1.5490e-04 - val_loss: 2.8320e-04 - val_accuracy: 2.0149e-04\n",
      "Epoch 10/100\n",
      "1008/1008 [==============================] - 4s 4ms/step - loss: 2.7879e-04 - accuracy: 3.1872e-04 - val_loss: 2.4297e-04 - val_accuracy: 2.0149e-04\n",
      "Epoch 11/100\n",
      "1008/1008 [==============================] - 4s 4ms/step - loss: 2.7192e-04 - accuracy: 1.5680e-04 - val_loss: 3.0500e-04 - val_accuracy: 2.0149e-04\n",
      "Epoch 12/100\n",
      "1008/1008 [==============================] - 4s 4ms/step - loss: 2.7256e-04 - accuracy: 1.5213e-04 - val_loss: 2.6107e-04 - val_accuracy: 2.0149e-04\n",
      "Epoch 13/100\n",
      "1008/1008 [==============================] - 4s 4ms/step - loss: 2.7212e-04 - accuracy: 1.7453e-04 - val_loss: 2.6609e-04 - val_accuracy: 2.0149e-04\n",
      "Epoch 14/100\n",
      "1008/1008 [==============================] - 4s 4ms/step - loss: 2.7330e-04 - accuracy: 1.6579e-04 - val_loss: 3.0087e-04 - val_accuracy: 2.0149e-04\n",
      "Epoch 15/100\n",
      "1008/1008 [==============================] - 5s 5ms/step - loss: 2.7228e-04 - accuracy: 2.5064e-04 - val_loss: 2.5685e-04 - val_accuracy: 2.0149e-04\n",
      "Epoch 16/100\n",
      "1008/1008 [==============================] - 4s 4ms/step - loss: 2.7518e-04 - accuracy: 5.4487e-06 - val_loss: 2.5021e-04 - val_accuracy: 2.0149e-04\n",
      "Epoch 17/100\n",
      "1008/1008 [==============================] - 4s 4ms/step - loss: 2.7737e-04 - accuracy: 7.4276e-04 - val_loss: 2.6458e-04 - val_accuracy: 2.0149e-04\n",
      "Epoch 18/100\n",
      "1008/1008 [==============================] - 4s 4ms/step - loss: 2.8179e-04 - accuracy: 1.3349e-04 - val_loss: 2.3571e-04 - val_accuracy: 2.0149e-04\n",
      "Epoch 19/100\n",
      "1008/1008 [==============================] - 4s 4ms/step - loss: 2.7466e-04 - accuracy: 3.2331e-05 - val_loss: 2.6217e-04 - val_accuracy: 2.0149e-04\n",
      "Epoch 20/100\n",
      "1008/1008 [==============================] - 4s 4ms/step - loss: 2.6712e-04 - accuracy: 1.8158e-05 - val_loss: 2.7143e-04 - val_accuracy: 2.0149e-04\n",
      "Epoch 21/100\n",
      "1008/1008 [==============================] - 4s 4ms/step - loss: 2.7645e-04 - accuracy: 7.3783e-05 - val_loss: 2.4486e-04 - val_accuracy: 2.0149e-04\n",
      "Epoch 22/100\n",
      "1008/1008 [==============================] - 4s 4ms/step - loss: 2.7268e-04 - accuracy: 1.5943e-05 - val_loss: 2.3816e-04 - val_accuracy: 2.0149e-04\n",
      "Epoch 23/100\n",
      "1008/1008 [==============================] - 4s 4ms/step - loss: 2.6607e-04 - accuracy: 2.1747e-04 - val_loss: 2.3424e-04 - val_accuracy: 2.0149e-04\n",
      "Epoch 24/100\n",
      "1008/1008 [==============================] - 4s 4ms/step - loss: 2.8422e-04 - accuracy: 6.5842e-05 - val_loss: 2.3802e-04 - val_accuracy: 2.0149e-04\n",
      "Epoch 25/100\n",
      "1008/1008 [==============================] - 4s 4ms/step - loss: 2.5739e-04 - accuracy: 1.4839e-06 - val_loss: 2.6423e-04 - val_accuracy: 2.0149e-04\n",
      "Epoch 26/100\n",
      "1008/1008 [==============================] - 4s 4ms/step - loss: 2.7372e-04 - accuracy: 4.6965e-05 - val_loss: 2.9264e-04 - val_accuracy: 2.0149e-04\n",
      "Epoch 27/100\n",
      "1008/1008 [==============================] - 4s 4ms/step - loss: 2.7092e-04 - accuracy: 6.5271e-05 - val_loss: 2.6905e-04 - val_accuracy: 2.0149e-04\n",
      "Epoch 28/100\n",
      "1008/1008 [==============================] - 4s 4ms/step - loss: 2.7130e-04 - accuracy: 1.0918e-04 - val_loss: 2.3103e-04 - val_accuracy: 2.0149e-04\n",
      "Epoch 29/100\n",
      "1008/1008 [==============================] - 4s 4ms/step - loss: 2.6434e-04 - accuracy: 1.4467e-04 - val_loss: 3.6423e-04 - val_accuracy: 2.0149e-04\n",
      "Epoch 30/100\n",
      "1008/1008 [==============================] - 4s 4ms/step - loss: 2.7608e-04 - accuracy: 2.4125e-04 - val_loss: 2.9419e-04 - val_accuracy: 2.0149e-04\n",
      "Epoch 31/100\n",
      "1008/1008 [==============================] - 4s 4ms/step - loss: 2.7119e-04 - accuracy: 3.0712e-05 - val_loss: 2.6228e-04 - val_accuracy: 2.0149e-04\n",
      "Epoch 32/100\n",
      "1008/1008 [==============================] - 4s 4ms/step - loss: 2.7127e-04 - accuracy: 1.6372e-04 - val_loss: 2.6437e-04 - val_accuracy: 2.0149e-04\n",
      "Epoch 33/100\n",
      "1008/1008 [==============================] - 4s 4ms/step - loss: 2.6733e-04 - accuracy: 1.8995e-04 - val_loss: 2.6598e-04 - val_accuracy: 2.0149e-04\n",
      "Epoch 34/100\n",
      "1008/1008 [==============================] - 6s 6ms/step - loss: 2.6017e-04 - accuracy: 2.5625e-05 - val_loss: 2.5201e-04 - val_accuracy: 2.0149e-04\n",
      "Epoch 35/100\n",
      "1008/1008 [==============================] - 4s 4ms/step - loss: 2.7287e-04 - accuracy: 3.8619e-04 - val_loss: 2.3325e-04 - val_accuracy: 2.0149e-04\n",
      "Epoch 36/100\n",
      "1008/1008 [==============================] - 5s 5ms/step - loss: 2.6286e-04 - accuracy: 1.6321e-04 - val_loss: 2.4972e-04 - val_accuracy: 2.0149e-04\n",
      "Epoch 37/100\n",
      "1008/1008 [==============================] - 1360s 1s/step - loss: 2.7768e-04 - accuracy: 1.1104e-05 - val_loss: 2.3723e-04 - val_accuracy: 2.0149e-04\n",
      "Epoch 38/100\n",
      "1008/1008 [==============================] - 1s 1ms/step - loss: 2.7068e-04 - accuracy: 2.8987e-05 - val_loss: 2.4397e-04 - val_accuracy: 2.0149e-04\n",
      "Epoch 39/100\n",
      "1008/1008 [==============================] - 1s 1ms/step - loss: 2.6413e-04 - accuracy: 8.1295e-05 - val_loss: 2.3776e-04 - val_accuracy: 2.0149e-04\n",
      "Epoch 40/100\n",
      "1008/1008 [==============================] - 1s 1ms/step - loss: 2.6533e-04 - accuracy: 3.2374e-04 - val_loss: 3.0113e-04 - val_accuracy: 2.0149e-04\n",
      "Epoch 41/100\n",
      "1008/1008 [==============================] - 1s 1ms/step - loss: 2.7701e-04 - accuracy: 6.1184e-05 - val_loss: 2.4621e-04 - val_accuracy: 2.0149e-04\n",
      "Epoch 42/100\n",
      "1008/1008 [==============================] - 1s 1ms/step - loss: 2.6681e-04 - accuracy: 1.3387e-04 - val_loss: 2.4986e-04 - val_accuracy: 2.0149e-04\n",
      "Epoch 43/100\n",
      "1008/1008 [==============================] - 1s 1ms/step - loss: 2.7466e-04 - accuracy: 3.5792e-05 - val_loss: 2.4985e-04 - val_accuracy: 2.0149e-04\n",
      "Epoch 44/100\n",
      "1008/1008 [==============================] - 2s 2ms/step - loss: 2.6798e-04 - accuracy: 5.8645e-06 - val_loss: 3.3407e-04 - val_accuracy: 2.0149e-04\n",
      "Epoch 45/100\n",
      "1008/1008 [==============================] - 3s 3ms/step - loss: 2.7097e-04 - accuracy: 2.1925e-04 - val_loss: 2.5237e-04 - val_accuracy: 2.0149e-04\n",
      "Epoch 46/100\n",
      "1008/1008 [==============================] - 1s 1ms/step - loss: 2.7943e-04 - accuracy: 1.0947e-04 - val_loss: 2.2932e-04 - val_accuracy: 2.0149e-04\n",
      "Epoch 47/100\n",
      "1008/1008 [==============================] - 1s 1ms/step - loss: 2.6345e-04 - accuracy: 2.6520e-04 - val_loss: 2.4022e-04 - val_accuracy: 2.0149e-04\n",
      "Epoch 48/100\n",
      "1008/1008 [==============================] - 1s 1ms/step - loss: 2.5801e-04 - accuracy: 6.4515e-05 - val_loss: 2.5915e-04 - val_accuracy: 2.0149e-04\n",
      "Epoch 49/100\n",
      "1008/1008 [==============================] - 1s 1ms/step - loss: 2.6730e-04 - accuracy: 1.1846e-04 - val_loss: 2.3002e-04 - val_accuracy: 2.0149e-04\n",
      "Epoch 50/100\n",
      "1008/1008 [==============================] - 1s 1ms/step - loss: 2.7403e-04 - accuracy: 4.4320e-05 - val_loss: 2.9528e-04 - val_accuracy: 2.0149e-04\n",
      "Epoch 51/100\n",
      "1008/1008 [==============================] - 1s 1ms/step - loss: 2.6688e-04 - accuracy: 1.0123e-04 - val_loss: 2.6445e-04 - val_accuracy: 2.0149e-04\n",
      "Epoch 52/100\n",
      "1008/1008 [==============================] - 1s 1ms/step - loss: 2.7208e-04 - accuracy: 3.6641e-05 - val_loss: 2.4563e-04 - val_accuracy: 2.0149e-04\n",
      "Epoch 53/100\n",
      "1008/1008 [==============================] - 1s 1ms/step - loss: 2.7124e-04 - accuracy: 2.0063e-05 - val_loss: 2.5265e-04 - val_accuracy: 2.0149e-04\n",
      "Epoch 54/100\n",
      "1008/1008 [==============================] - 1s 1ms/step - loss: 2.6800e-04 - accuracy: 6.2282e-05 - val_loss: 2.4518e-04 - val_accuracy: 2.0149e-04\n",
      "Epoch 55/100\n",
      "1008/1008 [==============================] - 1s 1ms/step - loss: 2.6719e-04 - accuracy: 3.5652e-05 - val_loss: 2.3213e-04 - val_accuracy: 2.0149e-04\n",
      "Epoch 56/100\n",
      "1008/1008 [==============================] - 1s 1ms/step - loss: 2.6098e-04 - accuracy: 1.0012e-05 - val_loss: 2.4676e-04 - val_accuracy: 2.0149e-04\n",
      "Epoch 57/100\n",
      "1008/1008 [==============================] - 1s 1ms/step - loss: 2.7400e-04 - accuracy: 1.6475e-04 - val_loss: 2.3172e-04 - val_accuracy: 2.0149e-04\n",
      "Epoch 58/100\n",
      "1008/1008 [==============================] - 1s 1ms/step - loss: 2.5969e-04 - accuracy: 6.1184e-05 - val_loss: 2.5087e-04 - val_accuracy: 2.0149e-04\n",
      "Epoch 59/100\n",
      "1008/1008 [==============================] - 1s 1ms/step - loss: 2.6431e-04 - accuracy: 3.5933e-05 - val_loss: 2.5801e-04 - val_accuracy: 2.0149e-04\n",
      "Epoch 60/100\n",
      "1008/1008 [==============================] - 1s 1ms/step - loss: 2.7797e-04 - accuracy: 2.1883e-05 - val_loss: 2.5412e-04 - val_accuracy: 2.0149e-04\n",
      "Epoch 61/100\n",
      "1008/1008 [==============================] - 1s 1ms/step - loss: 2.6760e-04 - accuracy: 4.9359e-05 - val_loss: 2.4820e-04 - val_accuracy: 2.0149e-04\n",
      "Epoch 62/100\n",
      "1008/1008 [==============================] - 1s 1ms/step - loss: 2.6026e-04 - accuracy: 2.4351e-04 - val_loss: 2.4056e-04 - val_accuracy: 2.0149e-04\n",
      "Epoch 63/100\n",
      "1008/1008 [==============================] - 1s 1ms/step - loss: 2.6984e-04 - accuracy: 2.8594e-05 - val_loss: 2.4455e-04 - val_accuracy: 2.0149e-04\n",
      "Epoch 64/100\n",
      "1008/1008 [==============================] - 1s 1ms/step - loss: 2.7212e-04 - accuracy: 1.3734e-04 - val_loss: 3.0210e-04 - val_accuracy: 2.0149e-04\n",
      "Epoch 65/100\n",
      "1008/1008 [==============================] - 1s 1ms/step - loss: 2.7972e-04 - accuracy: 3.5354e-04 - val_loss: 2.3189e-04 - val_accuracy: 2.0149e-04\n",
      "Epoch 66/100\n",
      "1008/1008 [==============================] - 1s 1ms/step - loss: 2.6876e-04 - accuracy: 1.1781e-04 - val_loss: 2.5566e-04 - val_accuracy: 2.0149e-04\n",
      "Epoch 67/100\n",
      "1008/1008 [==============================] - 1s 1ms/step - loss: 2.6909e-04 - accuracy: 2.6957e-04 - val_loss: 2.4845e-04 - val_accuracy: 2.0149e-04\n",
      "Epoch 68/100\n",
      "1008/1008 [==============================] - 1s 1ms/step - loss: 2.6095e-04 - accuracy: 2.7034e-05 - val_loss: 2.3565e-04 - val_accuracy: 2.0149e-04\n",
      "Epoch 69/100\n",
      "1008/1008 [==============================] - 1s 1ms/step - loss: 2.6082e-04 - accuracy: 9.9610e-05 - val_loss: 2.6283e-04 - val_accuracy: 2.0149e-04\n",
      "Epoch 70/100\n",
      "1008/1008 [==============================] - 1s 1ms/step - loss: 2.6460e-04 - accuracy: 4.6965e-05 - val_loss: 2.4405e-04 - val_accuracy: 2.0149e-04\n",
      "Epoch 71/100\n",
      "1008/1008 [==============================] - 1s 1ms/step - loss: 2.6702e-04 - accuracy: 1.1371e-04 - val_loss: 2.3732e-04 - val_accuracy: 2.0149e-04\n",
      "Epoch 72/100\n",
      "1008/1008 [==============================] - 1s 1ms/step - loss: 2.6440e-04 - accuracy: 4.3520e-04 - val_loss: 2.5639e-04 - val_accuracy: 2.0149e-04\n",
      "Epoch 73/100\n",
      "1008/1008 [==============================] - 1s 1ms/step - loss: 2.6894e-04 - accuracy: 2.5313e-04 - val_loss: 2.6743e-04 - val_accuracy: 2.0149e-04\n",
      "Epoch 74/100\n",
      "1008/1008 [==============================] - 1s 1ms/step - loss: 2.5759e-04 - accuracy: 9.1378e-05 - val_loss: 2.4520e-04 - val_accuracy: 2.0149e-04\n",
      "Epoch 75/100\n",
      "1008/1008 [==============================] - 1s 1ms/step - loss: 2.5213e-04 - accuracy: 1.4094e-04 - val_loss: 2.4598e-04 - val_accuracy: 2.0149e-04\n",
      "Epoch 76/100\n",
      "1008/1008 [==============================] - 1s 1ms/step - loss: 2.6321e-04 - accuracy: 4.0850e-05 - val_loss: 2.5127e-04 - val_accuracy: 2.0149e-04\n",
      "Epoch 77/100\n",
      "1008/1008 [==============================] - 1s 1ms/step - loss: 2.5810e-04 - accuracy: 2.9901e-06 - val_loss: 2.5088e-04 - val_accuracy: 2.0149e-04\n",
      "Epoch 78/100\n",
      "1008/1008 [==============================] - 1s 1ms/step - loss: 2.6969e-04 - accuracy: 1.0776e-05 - val_loss: 2.1633e-04 - val_accuracy: 2.0149e-04\n",
      "Epoch 79/100\n",
      "1008/1008 [==============================] - 1s 1ms/step - loss: 2.4187e-04 - accuracy: 4.7439e-05 - val_loss: 2.0090e-04 - val_accuracy: 2.0149e-04: 0s - loss: 2.4686e-04 - accu\n",
      "Epoch 80/100\n",
      "1008/1008 [==============================] - 1s 1ms/step - loss: 2.0619e-04 - accuracy: 2.6263e-05 - val_loss: 2.0710e-04 - val_accuracy: 2.0149e-04\n",
      "Epoch 81/100\n",
      "1008/1008 [==============================] - 1s 1ms/step - loss: 1.9898e-04 - accuracy: 1.4002e-05 - val_loss: 1.7270e-04 - val_accuracy: 2.0149e-04\n",
      "Epoch 82/100\n",
      "1008/1008 [==============================] - 1s 1ms/step - loss: 1.9954e-04 - accuracy: 2.1401e-04 - val_loss: 1.5410e-04 - val_accuracy: 2.0149e-04\n",
      "Epoch 83/100\n",
      "1008/1008 [==============================] - 1s 1ms/step - loss: 1.9407e-04 - accuracy: 4.2344e-05 - val_loss: 1.5404e-04 - val_accuracy: 2.0149e-04\n",
      "Epoch 84/100\n",
      "1008/1008 [==============================] - 1s 1ms/step - loss: 1.8506e-04 - accuracy: 2.9647e-05 - val_loss: 1.6045e-04 - val_accuracy: 2.0149e-04\n",
      "Epoch 85/100\n",
      "1008/1008 [==============================] - 1s 1ms/step - loss: 1.8602e-04 - accuracy: 2.3736e-05 - val_loss: 1.5387e-04 - val_accuracy: 2.0149e-04\n",
      "Epoch 86/100\n",
      "1008/1008 [==============================] - 1s 1ms/step - loss: 1.8088e-04 - accuracy: 1.6220e-04 - val_loss: 1.9163e-04 - val_accuracy: 2.0149e-04\n",
      "Epoch 87/100\n",
      "1008/1008 [==============================] - 1s 1ms/step - loss: 1.8037e-04 - accuracy: 7.1333e-05 - val_loss: 1.6036e-04 - val_accuracy: 2.0149e-04\n",
      "Epoch 88/100\n",
      "1008/1008 [==============================] - 1s 1ms/step - loss: 1.8234e-04 - accuracy: 5.1812e-05 - val_loss: 1.7813e-04 - val_accuracy: 2.0149e-04\n",
      "Epoch 89/100\n",
      "1008/1008 [==============================] - 1s 1ms/step - loss: 1.8130e-04 - accuracy: 1.0316e-04 - val_loss: 1.6086e-04 - val_accuracy: 2.0149e-04\n",
      "Epoch 90/100\n",
      "1008/1008 [==============================] - 1s 1ms/step - loss: 1.8128e-04 - accuracy: 2.9113e-04 - val_loss: 2.3144e-04 - val_accuracy: 2.0149e-04\n",
      "Epoch 91/100\n",
      "1008/1008 [==============================] - 1s 1ms/step - loss: 1.8937e-04 - accuracy: 2.4111e-05 - val_loss: 1.8277e-04 - val_accuracy: 2.0149e-04\n",
      "Epoch 92/100\n",
      "1008/1008 [==============================] - 1s 1ms/step - loss: 1.9198e-04 - accuracy: 1.3425e-04 - val_loss: 1.7241e-04 - val_accuracy: 2.0149e-04\n",
      "Epoch 93/100\n",
      "1008/1008 [==============================] - 1s 1ms/step - loss: 1.8866e-04 - accuracy: 1.8164e-04 - val_loss: 1.5931e-04 - val_accuracy: 2.0149e-04\n",
      "Epoch 94/100\n",
      "1008/1008 [==============================] - 1s 1ms/step - loss: 1.8565e-04 - accuracy: 9.2870e-05 - val_loss: 1.5437e-04 - val_accuracy: 2.0149e-04\n",
      "Epoch 95/100\n",
      "1008/1008 [==============================] - 1s 1ms/step - loss: 1.8782e-04 - accuracy: 2.1151e-05 - val_loss: 1.5956e-04 - val_accuracy: 2.0149e-04\n",
      "Epoch 96/100\n",
      "1008/1008 [==============================] - 1s 1ms/step - loss: 1.8917e-04 - accuracy: 7.6720e-05 - val_loss: 1.8893e-04 - val_accuracy: 2.0149e-04\n",
      "Epoch 97/100\n",
      "1008/1008 [==============================] - 1s 1ms/step - loss: 1.9361e-04 - accuracy: 1.8394e-05 - val_loss: 1.7869e-04 - val_accuracy: 2.0149e-04\n",
      "Epoch 98/100\n",
      "1008/1008 [==============================] - 1s 1ms/step - loss: 1.8660e-04 - accuracy: 5.0333e-05 - val_loss: 1.5799e-04 - val_accuracy: 2.0149e-04\n",
      "Epoch 99/100\n",
      "1008/1008 [==============================] - 1s 1ms/step - loss: 1.8390e-04 - accuracy: 1.5397e-04 - val_loss: 1.5614e-04 - val_accuracy: 2.0149e-04\n",
      "Epoch 100/100\n",
      "1008/1008 [==============================] - 1s 1ms/step - loss: 1.8564e-04 - accuracy: 1.2243e-04 - val_loss: 1.6113e-04 - val_accuracy: 2.0149e-04\n"
     ]
    },
    {
     "data": {
      "text/plain": [
       "<keras.callbacks.History at 0x1f8a7b9eeb0>"
      ]
     },
     "execution_count": 14,
     "metadata": {},
     "output_type": "execute_result"
    }
   ],
   "source": [
    "model.fit(X, Y, validation_split=0.33, epochs=100, batch_size=10)"
   ]
  },
  {
   "cell_type": "markdown",
   "metadata": {},
   "source": [
    "### Evaluate the model"
   ]
  },
  {
   "cell_type": "code",
   "execution_count": 15,
   "metadata": {},
   "outputs": [
    {
     "name": "stdout",
     "output_type": "stream",
     "text": [
      "470/470 [==============================] - 0s 773us/step - loss: 1.6572e-04 - accuracy: 1.3299e-040s - loss: 1.4047e-04 - accuracy: \n",
      "accuracy: 0.01%\n"
     ]
    }
   ],
   "source": [
    "scores = model.evaluate(X, Y)\n",
    "print(\"%s: %.2f%%\" % (model.metrics_names[1], scores[1]*100))"
   ]
  },
  {
   "cell_type": "code",
   "execution_count": 16,
   "metadata": {},
   "outputs": [
    {
     "name": "stdout",
     "output_type": "stream",
     "text": [
      "Epoch 1/100\n",
      "1008/1008 [==============================] - 1s 1ms/step - loss: 1.8192e-04 - accuracy: 9.9246e-05 - val_loss: 1.6591e-04 - val_accuracy: 2.0149e-04\n",
      "Epoch 2/100\n",
      "1008/1008 [==============================] - 1s 1ms/step - loss: 1.8233e-04 - accuracy: 9.9246e-05 - val_loss: 1.6701e-04 - val_accuracy: 2.0149e-04\n",
      "Epoch 3/100\n",
      "1008/1008 [==============================] - 1s 1ms/step - loss: 1.8227e-04 - accuracy: 9.9246e-05 - val_loss: 1.6944e-04 - val_accuracy: 2.0149e-04s: 1.8286e-04 - accuracy: 1.\n",
      "Epoch 4/100\n",
      "1008/1008 [==============================] - 1s 1ms/step - loss: 1.7978e-04 - accuracy: 9.9246e-05 - val_loss: 1.7253e-04 - val_accuracy: 2.0149e-04\n",
      "Epoch 5/100\n",
      "1008/1008 [==============================] - 1s 1ms/step - loss: 1.8355e-04 - accuracy: 9.9246e-05 - val_loss: 2.2616e-04 - val_accuracy: 2.0149e-04\n",
      "Epoch 6/100\n",
      "1008/1008 [==============================] - 1s 1ms/step - loss: 1.8289e-04 - accuracy: 9.9246e-05 - val_loss: 1.3949e-04 - val_accuracy: 2.0149e-04\n",
      "Epoch 7/100\n",
      "1008/1008 [==============================] - 1s 1ms/step - loss: 1.8222e-04 - accuracy: 9.9246e-05 - val_loss: 1.6695e-04 - val_accuracy: 2.0149e-04\n",
      "Epoch 8/100\n",
      "1008/1008 [==============================] - 1s 1ms/step - loss: 1.7930e-04 - accuracy: 9.9246e-05 - val_loss: 1.9891e-04 - val_accuracy: 2.0149e-04\n",
      "Epoch 9/100\n",
      "1008/1008 [==============================] - 1s 1ms/step - loss: 1.8263e-04 - accuracy: 9.9246e-05 - val_loss: 1.8400e-04 - val_accuracy: 2.0149e-04\n",
      "Epoch 10/100\n",
      "1008/1008 [==============================] - 1s 1ms/step - loss: 1.8566e-04 - accuracy: 9.9246e-05 - val_loss: 1.6888e-04 - val_accuracy: 2.0149e-04\n",
      "Epoch 11/100\n",
      "1008/1008 [==============================] - 1s 1ms/step - loss: 1.8403e-04 - accuracy: 9.9246e-05 - val_loss: 1.6050e-04 - val_accuracy: 2.0149e-04\n",
      "Epoch 12/100\n",
      "1008/1008 [==============================] - 1s 1ms/step - loss: 1.8511e-04 - accuracy: 9.9246e-05 - val_loss: 1.7013e-04 - val_accuracy: 2.0149e-04\n",
      "Epoch 13/100\n",
      "1008/1008 [==============================] - 1s 1ms/step - loss: 1.8270e-04 - accuracy: 9.9246e-05 - val_loss: 1.9876e-04 - val_accuracy: 2.0149e-04\n",
      "Epoch 14/100\n",
      "1008/1008 [==============================] - 1s 1ms/step - loss: 1.8096e-04 - accuracy: 9.9246e-05 - val_loss: 1.7108e-04 - val_accuracy: 2.0149e-04\n",
      "Epoch 15/100\n",
      "1008/1008 [==============================] - 1s 1ms/step - loss: 1.8118e-04 - accuracy: 9.9246e-05 - val_loss: 1.4168e-04 - val_accuracy: 2.0149e-04\n",
      "Epoch 16/100\n",
      "1008/1008 [==============================] - 1s 1ms/step - loss: 1.8127e-04 - accuracy: 9.9246e-05 - val_loss: 1.7824e-04 - val_accuracy: 2.0149e-04\n",
      "Epoch 17/100\n",
      "1008/1008 [==============================] - 1s 1ms/step - loss: 1.8202e-04 - accuracy: 9.9246e-05 - val_loss: 1.5681e-04 - val_accuracy: 2.0149e-04\n",
      "Epoch 18/100\n",
      "1008/1008 [==============================] - 1s 1ms/step - loss: 1.8328e-04 - accuracy: 9.9246e-05 - val_loss: 1.9388e-04 - val_accuracy: 2.0149e-04\n",
      "Epoch 19/100\n",
      "1008/1008 [==============================] - 1s 1ms/step - loss: 1.8075e-04 - accuracy: 9.9246e-05 - val_loss: 1.9251e-04 - val_accuracy: 2.0149e-04\n",
      "Epoch 20/100\n",
      "1008/1008 [==============================] - 1s 1ms/step - loss: 1.6047e-04 - accuracy: 9.9246e-05 - val_loss: 1.3459e-04 - val_accuracy: 2.0149e-04\n",
      "Epoch 21/100\n",
      "1008/1008 [==============================] - 1s 1ms/step - loss: 1.4360e-04 - accuracy: 9.9246e-05 - val_loss: 1.3195e-04 - val_accuracy: 2.0149e-04\n",
      "Epoch 22/100\n",
      "1008/1008 [==============================] - 1s 1ms/step - loss: 1.3654e-04 - accuracy: 9.9246e-05 - val_loss: 1.3836e-04 - val_accuracy: 2.0149e-04\n",
      "Epoch 23/100\n",
      "1008/1008 [==============================] - 1s 1ms/step - loss: 1.3063e-04 - accuracy: 9.9246e-05 - val_loss: 1.3592e-04 - val_accuracy: 2.0149e-04\n",
      "Epoch 24/100\n",
      "1008/1008 [==============================] - 1s 1ms/step - loss: 1.3027e-04 - accuracy: 9.9246e-05 - val_loss: 1.4560e-04 - val_accuracy: 2.0149e-04\n",
      "Epoch 25/100\n",
      "1008/1008 [==============================] - 1s 1ms/step - loss: 1.2646e-04 - accuracy: 9.9246e-05 - val_loss: 1.2931e-04 - val_accuracy: 2.0149e-04\n",
      "Epoch 26/100\n",
      "1008/1008 [==============================] - 1s 1ms/step - loss: 1.2535e-04 - accuracy: 9.9246e-05 - val_loss: 2.9416e-04 - val_accuracy: 2.0149e-04\n",
      "Epoch 27/100\n",
      "1008/1008 [==============================] - 1s 1ms/step - loss: 1.2411e-04 - accuracy: 9.9246e-05 - val_loss: 1.2716e-04 - val_accuracy: 2.0149e-04s: 1.2221e-04 - accura\n",
      "Epoch 28/100\n",
      "1008/1008 [==============================] - 1s 1ms/step - loss: 1.2359e-04 - accuracy: 9.9246e-05 - val_loss: 2.3022e-04 - val_accuracy: 2.0149e-04\n",
      "Epoch 29/100\n",
      "1008/1008 [==============================] - 1s 1ms/step - loss: 1.2320e-04 - accuracy: 9.9246e-05 - val_loss: 1.4811e-04 - val_accuracy: 2.0149e-04\n",
      "Epoch 30/100\n",
      "1008/1008 [==============================] - 1s 1ms/step - loss: 1.1963e-04 - accuracy: 9.9246e-05 - val_loss: 1.3139e-04 - val_accuracy: 2.0149e-04\n",
      "Epoch 31/100\n",
      "1008/1008 [==============================] - 1s 1ms/step - loss: 1.1684e-04 - accuracy: 9.9246e-05 - val_loss: 1.2081e-04 - val_accuracy: 2.0149e-04\n",
      "Epoch 32/100\n",
      "1008/1008 [==============================] - 1s 1ms/step - loss: 1.2171e-04 - accuracy: 9.9246e-05 - val_loss: 1.2302e-04 - val_accuracy: 2.0149e-04\n",
      "Epoch 33/100\n",
      "1008/1008 [==============================] - 1s 1ms/step - loss: 1.1930e-04 - accuracy: 9.9246e-05 - val_loss: 1.4160e-04 - val_accuracy: 2.0149e-04\n",
      "Epoch 34/100\n",
      "1008/1008 [==============================] - 1s 1ms/step - loss: 1.1706e-04 - accuracy: 9.9246e-05 - val_loss: 1.2388e-04 - val_accuracy: 2.0149e-04\n",
      "Epoch 35/100\n",
      "1008/1008 [==============================] - 1s 1ms/step - loss: 1.1380e-04 - accuracy: 9.9246e-05 - val_loss: 1.2238e-04 - val_accuracy: 2.0149e-04\n",
      "Epoch 36/100\n",
      "1008/1008 [==============================] - 1s 1ms/step - loss: 1.1620e-04 - accuracy: 9.9246e-05 - val_loss: 1.3170e-04 - val_accuracy: 2.0149e-04\n",
      "Epoch 37/100\n",
      "1008/1008 [==============================] - 1s 1ms/step - loss: 1.1395e-04 - accuracy: 9.9246e-05 - val_loss: 1.1867e-04 - val_accuracy: 2.0149e-04\n",
      "Epoch 38/100\n",
      "1008/1008 [==============================] - 1s 1ms/step - loss: 1.1348e-04 - accuracy: 9.9246e-05 - val_loss: 1.5971e-04 - val_accuracy: 2.0149e-04\n",
      "Epoch 39/100\n",
      "1008/1008 [==============================] - 1s 1ms/step - loss: 1.1461e-04 - accuracy: 9.9246e-05 - val_loss: 1.4386e-04 - val_accuracy: 2.0149e-04\n",
      "Epoch 40/100\n",
      "1008/1008 [==============================] - 1s 1ms/step - loss: 1.1223e-04 - accuracy: 9.9246e-05 - val_loss: 1.2222e-04 - val_accuracy: 2.0149e-04\n",
      "Epoch 41/100\n",
      "1008/1008 [==============================] - 1s 1ms/step - loss: 1.1270e-04 - accuracy: 9.9246e-05 - val_loss: 1.1922e-04 - val_accuracy: 2.0149e-04\n",
      "Epoch 42/100\n",
      "1008/1008 [==============================] - 1s 1ms/step - loss: 1.1200e-04 - accuracy: 9.9246e-05 - val_loss: 1.3287e-04 - val_accuracy: 2.0149e-04\n",
      "Epoch 43/100\n",
      "1008/1008 [==============================] - 1s 1ms/step - loss: 1.1255e-04 - accuracy: 9.9246e-05 - val_loss: 1.3038e-04 - val_accuracy: 2.0149e-04\n",
      "Epoch 44/100\n",
      "1008/1008 [==============================] - 1s 1ms/step - loss: 1.1085e-04 - accuracy: 9.9246e-05 - val_loss: 1.3776e-04 - val_accuracy: 2.0149e-04\n",
      "Epoch 45/100\n",
      "1008/1008 [==============================] - 1s 1ms/step - loss: 1.1077e-04 - accuracy: 9.9246e-05 - val_loss: 1.3269e-04 - val_accuracy: 2.0149e-04\n",
      "Epoch 46/100\n",
      "1008/1008 [==============================] - 1s 1ms/step - loss: 1.1188e-04 - accuracy: 9.9246e-05 - val_loss: 1.2083e-04 - val_accuracy: 2.0149e-04\n",
      "Epoch 47/100\n",
      "1008/1008 [==============================] - 1s 1ms/step - loss: 1.1005e-04 - accuracy: 9.9246e-05 - val_loss: 1.3440e-04 - val_accuracy: 2.0149e-04\n",
      "Epoch 48/100\n",
      "1008/1008 [==============================] - 1s 1ms/step - loss: 1.1227e-04 - accuracy: 9.9246e-05 - val_loss: 1.2998e-04 - val_accuracy: 2.0149e-04\n",
      "Epoch 49/100\n",
      "1008/1008 [==============================] - 1s 1ms/step - loss: 1.1010e-04 - accuracy: 9.9246e-05 - val_loss: 1.1773e-04 - val_accuracy: 2.0149e-04\n",
      "Epoch 50/100\n",
      "1008/1008 [==============================] - 1s 1ms/step - loss: 1.1272e-04 - accuracy: 9.9246e-05 - val_loss: 1.2223e-04 - val_accuracy: 2.0149e-04\n",
      "Epoch 51/100\n",
      "1008/1008 [==============================] - 1s 1ms/step - loss: 1.1415e-04 - accuracy: 9.9246e-05 - val_loss: 1.3645e-04 - val_accuracy: 2.0149e-04\n",
      "Epoch 52/100\n",
      "1008/1008 [==============================] - 1s 1ms/step - loss: 1.1157e-04 - accuracy: 9.9246e-05 - val_loss: 1.3049e-04 - val_accuracy: 2.0149e-04\n",
      "Epoch 53/100\n",
      "1008/1008 [==============================] - 1s 1ms/step - loss: 1.1028e-04 - accuracy: 9.9246e-05 - val_loss: 1.3024e-04 - val_accuracy: 2.0149e-04\n",
      "Epoch 54/100\n",
      "1008/1008 [==============================] - 1s 1ms/step - loss: 1.0979e-04 - accuracy: 9.9246e-05 - val_loss: 1.8526e-04 - val_accuracy: 2.0149e-04\n",
      "Epoch 55/100\n",
      "1008/1008 [==============================] - 1s 1ms/step - loss: 1.0836e-04 - accuracy: 9.9246e-05 - val_loss: 1.1668e-04 - val_accuracy: 2.0149e-04\n",
      "Epoch 56/100\n",
      "1008/1008 [==============================] - 1s 1ms/step - loss: 1.1117e-04 - accuracy: 9.9246e-05 - val_loss: 1.3637e-04 - val_accuracy: 2.0149e-04\n",
      "Epoch 57/100\n",
      "1008/1008 [==============================] - 1s 1ms/step - loss: 1.1083e-04 - accuracy: 9.9246e-05 - val_loss: 1.3620e-04 - val_accuracy: 2.0149e-04\n",
      "Epoch 58/100\n",
      "1008/1008 [==============================] - 1s 1ms/step - loss: 1.1080e-04 - accuracy: 9.9246e-05 - val_loss: 1.2525e-04 - val_accuracy: 2.0149e-04\n",
      "Epoch 59/100\n",
      "1008/1008 [==============================] - 1s 1ms/step - loss: 1.1130e-04 - accuracy: 9.9246e-05 - val_loss: 1.2944e-04 - val_accuracy: 2.0149e-04\n",
      "Epoch 60/100\n",
      "1008/1008 [==============================] - 1s 1ms/step - loss: 1.0939e-04 - accuracy: 9.9246e-05 - val_loss: 1.3582e-04 - val_accuracy: 2.0149e-04\n",
      "Epoch 61/100\n",
      "1008/1008 [==============================] - 1s 1ms/step - loss: 1.1069e-04 - accuracy: 9.9246e-05 - val_loss: 1.2158e-04 - val_accuracy: 2.0149e-04\n",
      "Epoch 62/100\n",
      "1008/1008 [==============================] - 1s 1ms/step - loss: 1.1029e-04 - accuracy: 9.9246e-05 - val_loss: 1.2647e-04 - val_accuracy: 2.0149e-04\n",
      "Epoch 63/100\n",
      "1008/1008 [==============================] - 1s 1ms/step - loss: 1.0907e-04 - accuracy: 9.9246e-05 - val_loss: 1.4206e-04 - val_accuracy: 2.0149e-04\n",
      "Epoch 64/100\n",
      "1008/1008 [==============================] - 1s 1ms/step - loss: 1.1085e-04 - accuracy: 9.9246e-05 - val_loss: 1.2640e-04 - val_accuracy: 2.0149e-04\n",
      "Epoch 65/100\n",
      "1008/1008 [==============================] - 1s 1ms/step - loss: 1.0998e-04 - accuracy: 9.9246e-05 - val_loss: 1.2820e-04 - val_accuracy: 2.0149e-04\n",
      "Epoch 66/100\n",
      "1008/1008 [==============================] - 1s 1ms/step - loss: 1.0912e-04 - accuracy: 9.9246e-05 - val_loss: 1.2689e-04 - val_accuracy: 2.0149e-04\n",
      "Epoch 67/100\n",
      "1008/1008 [==============================] - 1s 1ms/step - loss: 1.1065e-04 - accuracy: 9.9246e-05 - val_loss: 1.3791e-04 - val_accuracy: 2.0149e-04\n",
      "Epoch 68/100\n",
      "1008/1008 [==============================] - 1s 1ms/step - loss: 1.0992e-04 - accuracy: 9.9246e-05 - val_loss: 1.2300e-04 - val_accuracy: 2.0149e-04\n",
      "Epoch 69/100\n",
      "1008/1008 [==============================] - 1s 1ms/step - loss: 1.0904e-04 - accuracy: 9.9246e-05 - val_loss: 1.1905e-04 - val_accuracy: 2.0149e-04\n",
      "Epoch 70/100\n",
      "1008/1008 [==============================] - 1s 1ms/step - loss: 1.1034e-04 - accuracy: 9.9246e-05 - val_loss: 1.1837e-04 - val_accuracy: 2.0149e-04\n",
      "Epoch 71/100\n",
      "1008/1008 [==============================] - 1s 1ms/step - loss: 1.0901e-04 - accuracy: 9.9246e-05 - val_loss: 1.1541e-04 - val_accuracy: 2.0149e-04\n",
      "Epoch 72/100\n",
      "1008/1008 [==============================] - 1s 1ms/step - loss: 1.1058e-04 - accuracy: 9.9246e-05 - val_loss: 1.1676e-04 - val_accuracy: 2.0149e-04\n",
      "Epoch 73/100\n",
      "1008/1008 [==============================] - 1s 1ms/step - loss: 1.0764e-04 - accuracy: 9.9246e-05 - val_loss: 1.2294e-04 - val_accuracy: 2.0149e-04\n",
      "Epoch 74/100\n",
      "1008/1008 [==============================] - 1s 1ms/step - loss: 1.1184e-04 - accuracy: 9.9246e-05 - val_loss: 1.1880e-04 - val_accuracy: 2.0149e-04\n",
      "Epoch 75/100\n",
      "1008/1008 [==============================] - 1s 1ms/step - loss: 1.0860e-04 - accuracy: 9.9246e-05 - val_loss: 1.6589e-04 - val_accuracy: 2.0149e-04\n",
      "Epoch 76/100\n",
      "1008/1008 [==============================] - 1s 1ms/step - loss: 1.0970e-04 - accuracy: 9.9246e-05 - val_loss: 1.2146e-04 - val_accuracy: 2.0149e-04\n",
      "Epoch 77/100\n",
      "1008/1008 [==============================] - 1s 1ms/step - loss: 1.0905e-04 - accuracy: 9.9246e-05 - val_loss: 1.3184e-04 - val_accuracy: 2.0149e-04\n",
      "Epoch 78/100\n",
      "1008/1008 [==============================] - 1s 1ms/step - loss: 1.1124e-04 - accuracy: 9.9246e-05 - val_loss: 1.2907e-04 - val_accuracy: 2.0149e-04\n",
      "Epoch 79/100\n",
      "1008/1008 [==============================] - 1s 1ms/step - loss: 1.0897e-04 - accuracy: 9.9246e-05 - val_loss: 1.2068e-04 - val_accuracy: 2.0149e-04\n",
      "Epoch 80/100\n",
      "1008/1008 [==============================] - 1s 1ms/step - loss: 1.1222e-04 - accuracy: 9.9246e-05 - val_loss: 1.1366e-04 - val_accuracy: 2.0149e-04\n",
      "Epoch 81/100\n",
      "1008/1008 [==============================] - 1s 1ms/step - loss: 1.0865e-04 - accuracy: 9.9246e-05 - val_loss: 1.2406e-04 - val_accuracy: 2.0149e-04\n",
      "Epoch 82/100\n",
      "1008/1008 [==============================] - 1s 1ms/step - loss: 1.0937e-04 - accuracy: 9.9246e-05 - val_loss: 1.3231e-04 - val_accuracy: 2.0149e-04\n",
      "Epoch 83/100\n",
      "1008/1008 [==============================] - 1s 1ms/step - loss: 1.0718e-04 - accuracy: 9.9246e-05 - val_loss: 1.2100e-04 - val_accuracy: 2.0149e-04\n",
      "Epoch 84/100\n",
      "1008/1008 [==============================] - 1s 1ms/step - loss: 1.0948e-04 - accuracy: 9.9246e-05 - val_loss: 1.3005e-04 - val_accuracy: 2.0149e-04\n",
      "Epoch 85/100\n",
      "1008/1008 [==============================] - 1s 1ms/step - loss: 1.0899e-04 - accuracy: 9.9246e-05 - val_loss: 1.2789e-04 - val_accuracy: 2.0149e-04\n",
      "Epoch 86/100\n",
      "1008/1008 [==============================] - 1s 1ms/step - loss: 1.0776e-04 - accuracy: 9.9246e-05 - val_loss: 1.2152e-04 - val_accuracy: 2.0149e-04\n",
      "Epoch 87/100\n",
      "1008/1008 [==============================] - 1s 1ms/step - loss: 1.0843e-04 - accuracy: 9.9246e-05 - val_loss: 1.5568e-04 - val_accuracy: 2.0149e-04\n",
      "Epoch 88/100\n",
      "1008/1008 [==============================] - 1s 1ms/step - loss: 1.0893e-04 - accuracy: 9.9246e-05 - val_loss: 1.1860e-04 - val_accuracy: 2.0149e-04\n",
      "Epoch 89/100\n",
      "1008/1008 [==============================] - 1s 1ms/step - loss: 1.0842e-04 - accuracy: 9.9246e-05 - val_loss: 1.1790e-04 - val_accuracy: 2.0149e-04\n",
      "Epoch 90/100\n",
      "1008/1008 [==============================] - 1s 1ms/step - loss: 1.0914e-04 - accuracy: 9.9246e-05 - val_loss: 1.2772e-04 - val_accuracy: 2.0149e-04\n",
      "Epoch 91/100\n",
      "1008/1008 [==============================] - 1s 1ms/step - loss: 1.0941e-04 - accuracy: 9.9246e-05 - val_loss: 1.3744e-04 - val_accuracy: 2.0149e-04\n",
      "Epoch 92/100\n",
      "1008/1008 [==============================] - 1s 1ms/step - loss: 1.0797e-04 - accuracy: 9.9246e-05 - val_loss: 1.1808e-04 - val_accuracy: 2.0149e-04\n",
      "Epoch 93/100\n",
      "1008/1008 [==============================] - 1s 1ms/step - loss: 1.0944e-04 - accuracy: 9.9246e-05 - val_loss: 1.2148e-04 - val_accuracy: 2.0149e-04\n",
      "Epoch 94/100\n",
      "1008/1008 [==============================] - 1s 1ms/step - loss: 1.0945e-04 - accuracy: 9.9246e-05 - val_loss: 1.5036e-04 - val_accuracy: 2.0149e-04\n",
      "Epoch 95/100\n",
      "1008/1008 [==============================] - 1s 1ms/step - loss: 1.0714e-04 - accuracy: 9.9246e-05 - val_loss: 1.7121e-04 - val_accuracy: 2.0149e-04\n",
      "Epoch 96/100\n",
      "1008/1008 [==============================] - 1s 1ms/step - loss: 1.0952e-04 - accuracy: 9.9246e-05 - val_loss: 1.1946e-04 - val_accuracy: 2.0149e-04\n",
      "Epoch 97/100\n",
      "1008/1008 [==============================] - 1s 1ms/step - loss: 1.0800e-04 - accuracy: 9.9246e-05 - val_loss: 1.2795e-04 - val_accuracy: 2.0149e-04\n",
      "Epoch 98/100\n",
      "1008/1008 [==============================] - 1s 1ms/step - loss: 1.0881e-04 - accuracy: 9.9246e-05 - val_loss: 1.1541e-04 - val_accuracy: 2.0149e-04\n",
      "Epoch 99/100\n",
      "1008/1008 [==============================] - 1s 1ms/step - loss: 1.0835e-04 - accuracy: 9.9246e-05 - val_loss: 1.1612e-04 - val_accuracy: 2.0149e-04\n",
      "Epoch 100/100\n",
      "1008/1008 [==============================] - 1s 1ms/step - loss: 1.0688e-04 - accuracy: 9.9246e-05 - val_loss: 1.2037e-04 - val_accuracy: 2.0149e-04\n"
     ]
    }
   ],
   "source": [
    "history = model.fit(X, Y, validation_split=0.33, epochs=100, batch_size=10)"
   ]
  },
  {
   "cell_type": "markdown",
   "metadata": {},
   "source": [
    "### List all data in history"
   ]
  },
  {
   "cell_type": "code",
   "execution_count": 17,
   "metadata": {},
   "outputs": [
    {
     "data": {
      "text/plain": [
       "dict_keys(['loss', 'accuracy', 'val_loss', 'val_accuracy'])"
      ]
     },
     "execution_count": 17,
     "metadata": {},
     "output_type": "execute_result"
    }
   ],
   "source": [
    "model.history.history.keys()"
   ]
  },
  {
   "cell_type": "markdown",
   "metadata": {},
   "source": [
    "### Summarize history for accuracy"
   ]
  },
  {
   "cell_type": "code",
   "execution_count": 18,
   "metadata": {},
   "outputs": [
    {
     "data": {
      "image/png": "[encoded data removed]",
      "text/plain": [
       "<Figure size 432x288 with 1 Axes>"
      ]
     },
     "metadata": {
      "needs_background": "light"
     },
     "output_type": "display_data"
    }
   ],
   "source": [
    "plt.plot(history.history['accuracy'])\n",
    "plt.plot(history.history['val_accuracy'])\n",
    "plt.title('model accuracy')\n",
    "plt.ylabel('accuracy')\n",
    "plt.xlabel('epoch')\n",
    "plt.legend(['train', 'test'], loc='upper left')\n",
    "plt.show()"
   ]
  },
  {
   "cell_type": "markdown",
   "metadata": {},
   "source": [
    "### Summarize history for loss"
   ]
  },
  {
   "cell_type": "code",
   "execution_count": 19,
   "metadata": {},
   "outputs": [
    {
     "data": {
      "image/png": "[encoded data removed]",
      "text/plain": [
       "<Figure size 432x288 with 1 Axes>"
      ]
     },
     "metadata": {
      "needs_background": "light"
     },
     "output_type": "display_data"
    }
   ],
   "source": [
    "plt.plot(history.history['loss'])\n",
    "plt.plot(history.history['val_loss'])\n",
    "plt.title('model loss')\n",
    "plt.ylabel('loss')\n",
    "plt.xlabel('epoch')\n",
    "plt.legend(['train', 'test'], loc='upper left')\n",
    "plt.show()"
   ]
  },
  {
   "cell_type": "markdown",
   "metadata": {},
   "source": [
    "## Tuning of Hyperparameters :- Batch Size and Epochs"
   ]
  },
  {
   "cell_type": "markdown",
   "metadata": {},
   "source": [
    "### Creating a user defined function, that has the neural network model and compiles the model with the loss function and weight optimizers"
   ]
  },
  {
   "cell_type": "code",
   "execution_count": 20,
   "metadata": {},
   "outputs": [],
   "source": [
    "def create_model():\n",
    "    model = Sequential()\n",
    "    model.add(Dense(12, input_dim=10, kernel_initializer='uniform', activation='relu'))\n",
    "    model.add(Dense(8, kernel_initializer='uniform', activation='relu'))\n",
    "    model.add(Dense(1, kernel_initializer='uniform', activation='sigmoid'))\n",
    "    \n",
    "    adam=Adam(lr=0.01)\n",
    "    model.compile(loss='mse', optimizer=adam, metrics=['accuracy'])\n",
    "    return model"
   ]
  },
  {
   "cell_type": "markdown",
   "metadata": {},
   "source": [
    "### Using Gridsearch CV, to find the best parameters, that contributes to higher accuracy of Regression, by passing in the user defined model function"
   ]
  },
  {
   "cell_type": "code",
   "execution_count": null,
   "metadata": {},
   "outputs": [
    {
     "name": "stdout",
     "output_type": "stream",
     "text": [
      "Fitting 5 folds for each of 9 candidates, totalling 45 fits\n",
      "[CV 1/5; 1/9] START batch_size=10, epochs=10....................................\n",
      "[CV 1/5; 1/9] END ..................batch_size=10, epochs=10; total time=   9.8s\n",
      "[CV 2/5; 1/9] START batch_size=10, epochs=10....................................\n",
      "[CV 2/5; 1/9] END ..................batch_size=10, epochs=10; total time=   9.7s\n",
      "[CV 3/5; 1/9] START batch_size=10, epochs=10....................................\n",
      "[CV 3/5; 1/9] END ..................batch_size=10, epochs=10; total time=  10.0s\n",
      "[CV 4/5; 1/9] START batch_size=10, epochs=10....................................\n",
      "[CV 4/5; 1/9] END ..................batch_size=10, epochs=10; total time=   9.9s\n",
      "[CV 5/5; 1/9] START batch_size=10, epochs=10....................................\n",
      "[CV 5/5; 1/9] END ..................batch_size=10, epochs=10; total time=   9.5s\n",
      "[CV 1/5; 2/9] START batch_size=10, epochs=50....................................\n",
      "[CV 1/5; 2/9] END ..................batch_size=10, epochs=50; total time=  41.5s\n",
      "[CV 2/5; 2/9] START batch_size=10, epochs=50....................................\n",
      "[CV 2/5; 2/9] END ..................batch_size=10, epochs=50; total time=  42.3s\n",
      "[CV 3/5; 2/9] START batch_size=10, epochs=50....................................\n",
      "[CV 3/5; 2/9] END ..................batch_size=10, epochs=50; total time=  42.6s\n",
      "[CV 4/5; 2/9] START batch_size=10, epochs=50....................................\n",
      "[CV 4/5; 2/9] END ..................batch_size=10, epochs=50; total time=  41.9s\n",
      "[CV 5/5; 2/9] START batch_size=10, epochs=50....................................\n",
      "[CV 5/5; 2/9] END ..................batch_size=10, epochs=50; total time=  41.1s\n",
      "[CV 1/5; 3/9] START batch_size=10, epochs=100...................................\n",
      "[CV 1/5; 3/9] END .................batch_size=10, epochs=100; total time= 1.5min\n",
      "[CV 2/5; 3/9] START batch_size=10, epochs=100...................................\n",
      "[CV 2/5; 3/9] END .................batch_size=10, epochs=100; total time= 1.5min\n",
      "[CV 3/5; 3/9] START batch_size=10, epochs=100...................................\n"
     ]
    }
   ],
   "source": [
    "model = KerasClassifier(build_fn = create_model,verbose = 0)\n",
    "batch_size = [10,20,40]\n",
    "epochs = [10,50,100]\n",
    "param_grid = dict(batch_size = batch_size,epochs = epochs)\n",
    "grid = GridSearchCV(estimator = model,param_grid = param_grid,cv = KFold(),verbose = 10)\n",
    "grid_result = grid.fit(X,Y)"
   ]
  },
  {
   "cell_type": "markdown",
   "metadata": {},
   "source": [
    "## Conclusion:\n",
    "### The neural network helps predicting the turbine energy yield (TEY) using ambient variables as features, with the validation loss of 1.4047e-04, while evaluating the model.\n",
    "### Since, this is a regression problem, our evaluation metric is MSE, thus, our aim is to reduce the MSE value between the original and the predicted."
   ]
  }
 ],
 "metadata": {
  "kernelspec": {
   "display_name": "Python 3",
   "language": "python",
   "name": "python3"
  },
  "language_info": {
   "codemirror_mode": {
    "name": "ipython",
    "version": 3
   },
   "file_extension": ".py",
   "mimetype": "text/x-python",
   "name": "python",
   "nbconvert_exporter": "python",
   "pygments_lexer": "ipython3",
   "version": "3.8.8"
  }
 },
 "nbformat": 4,
 "nbformat_minor": 4
}
