{
 "cells": [
  {
   "cell_type": "markdown",
   "id": "067eaa7a",
   "metadata": {},
   "source": [
    "## Problem Statment:\n",
    "### Q1. Look at the data given below. Plot the data, find the outliers and find out  μ,σ,σ^2"
   ]
  },
  {
   "cell_type": "markdown",
   "id": "c8bf5954",
   "metadata": {},
   "source": [
    "### Importing libraries"
   ]
  },
  {
   "cell_type": "code",
   "execution_count": 1,
   "id": "15df27c0",
   "metadata": {},
   "outputs": [],
   "source": [
    "import numpy as np\n",
    "import matplotlib.pyplot as plt\n",
    "import sAeaborn as sns\n",
    "import warnings\n",
    "warnings.simplefilter(action='ignore')"
   ]
  },
  {
   "cell_type": "markdown",
   "id": "41673e60",
   "metadata": {},
   "source": [
    "### Creating a list "
   ]
  },
  {
   "cell_type": "code",
   "execution_count": 2,
   "id": "6daa6066",
   "metadata": {},
   "outputs": [],
   "source": [
    "list1=[24.23,25.23,25.41,24.14,29.62,28.25,25.81,24.39,40.26,32.95,91.36,25.99,39.42,26.71,35.00]"
   ]
  },
  {
   "cell_type": "markdown",
   "id": "4c579f5c",
   "metadata": {},
   "source": [
    "### Mean"
   ]
  },
  {
   "cell_type": "code",
   "execution_count": 3,
   "id": "ab545344",
   "metadata": {},
   "outputs": [
    {
     "data": {
      "text/plain": [
       "33.251333333333335"
      ]
     },
     "execution_count": 3,
     "metadata": {},
     "output_type": "execute_result"
    }
   ],
   "source": [
    "np.mean(list1)"
   ]
  },
  {
   "cell_type": "markdown",
   "id": "3875e3fb",
   "metadata": {},
   "source": [
    "### Standard deviation"
   ]
  },
  {
   "cell_type": "code",
   "execution_count": 4,
   "id": "782db35c",
   "metadata": {},
   "outputs": [
    {
     "data": {
      "text/plain": [
       "16.380438279308105"
      ]
     },
     "execution_count": 4,
     "metadata": {},
     "output_type": "execute_result"
    }
   ],
   "source": [
    "np.std(list1)"
   ]
  },
  {
   "cell_type": "markdown",
   "id": "31af4205",
   "metadata": {},
   "source": [
    "### Variance"
   ]
  },
  {
   "cell_type": "code",
   "execution_count": 5,
   "id": "84eaa26c",
   "metadata": {},
   "outputs": [
    {
     "data": {
      "text/plain": [
       "268.31875822222224"
      ]
     },
     "execution_count": 5,
     "metadata": {},
     "output_type": "execute_result"
    }
   ],
   "source": [
    "np.var(list1)"
   ]
  },
  {
   "cell_type": "markdown",
   "id": "af70c290",
   "metadata": {},
   "source": [
    "### Boxplot"
   ]
  },
  {
   "cell_type": "code",
   "execution_count": 6,
   "id": "7478b742",
   "metadata": {},
   "outputs": [
    {
     "data": {
      "text/plain": [
       "{'whiskers': [<matplotlib.lines.Line2D at 0x10ff7a26520>,\n",
       "  <matplotlib.lines.Line2D at 0x10ff7a26880>],\n",
       " 'caps': [<matplotlib.lines.Line2D at 0x10ff7a26be0>,\n",
       "  <matplotlib.lines.Line2D at 0x10ff7a26f40>],\n",
       " 'boxes': [<matplotlib.lines.Line2D at 0x10ff7a261c0>],\n",
       " 'medians': [<matplotlib.lines.Line2D at 0x10ff7a352e0>],\n",
       " 'fliers': [<matplotlib.lines.Line2D at 0x10ff7a35640>],\n",
       " 'means': []}"
      ]
     },
     "execution_count": 6,
     "metadata": {},
     "output_type": "execute_result"
    },
    {
     "data": {
      "image/png": "[encoded data removed]",
      "text/plain": [
       "<Figure size 432x288 with 1 Axes>"
      ]
     },
     "metadata": {
      "needs_background": "light"
     },
     "output_type": "display_data"
    }
   ],
   "source": [
    "plt.boxplot(list1)"
   ]
  },
  {
   "cell_type": "markdown",
   "id": "71629927",
   "metadata": {},
   "source": [
    "### Distplot"
   ]
  },
  {
   "cell_type": "code",
   "execution_count": 7,
   "id": "ca1faa59",
   "metadata": {},
   "outputs": [
    {
     "data": {
      "text/plain": [
       "<AxesSubplot:ylabel='Density'>"
      ]
     },
     "execution_count": 7,
     "metadata": {},
     "output_type": "execute_result"
    },
    {
     "data": {
      "image/png": "[encoded data removed]",
      "text/plain": [
       "<Figure size 432x288 with 1 Axes>"
      ]
     },
     "metadata": {
      "needs_background": "light"
     },
     "output_type": "display_data"
    }
   ],
   "source": [
    "sns.distplot(list1)"
   ]
  }
 ],
 "metadata": {
  "kernelspec": {
   "display_name": "Python 3",
   "language": "python",
   "name": "python3"
  },
  "language_info": {
   "codemirror_mode": {
    "name": "ipython",
    "version": 3
   },
   "file_extension": ".py",
   "mimetype": "text/x-python",
   "name": "python",
   "nbconvert_exporter": "python",
   "pygments_lexer": "ipython3",
   "version": "3.8.8"
  }
 },
 "nbformat": 4,
 "nbformat_minor": 5
}
